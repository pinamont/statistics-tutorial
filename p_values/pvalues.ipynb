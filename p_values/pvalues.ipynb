{
 "cells": [
  {
   "cell_type": "markdown",
   "id": "8f02fc6e",
   "metadata": {},
   "source": [
    "# P-values\n",
    "\n",
    "This is the part in which we run the p-value calculation.\n",
    "\n",
    "The p-value calculation is very simple (see https://arxiv.org/pdf/1007.1727.pdf).\n",
    "\n",
    "It's given by:\n",
    "$q_0 = 2($NLL$_0 - $NLL$)$\n",
    "\n",
    "where NLL$_0$ is the negative log-likelihood calculated when the POI is set to zero (background-only hypothesis), and NLL is the value when also the POI is free to float."
   ]
  },
  {
   "cell_type": "markdown",
   "id": "5d1e9797",
   "metadata": {},
   "source": [
    "Let's first load the workspace, the model-config and the dataset."
   ]
  },
  {
   "cell_type": "code",
   "execution_count": null,
   "id": "880ec0b6-d513-43d6-9237-ede716532c84",
   "metadata": {},
   "outputs": [],
   "source": [
    "f = new TFile(\"../ws/ICTPws_test_combined_ICTPws_test_model.root\");\n",
    "w = dynamic_cast<RooWorkspace*>(f->Get(\"combined\"));\n",
    "mc = dynamic_cast<RooStats::ModelConfig*>(w->obj(\"ModelConfig\"));\n",
    "dataset = w->data(\"obsData\");\n",
    "w->pdf(\"simPdf\")->fitTo(*dataset)"
   ]
  },
  {
   "cell_type": "markdown",
   "id": "7c6e6955",
   "metadata": {},
   "source": [
    "Then perform the *conditional fit*: \n",
    "\n",
    "we fix the POI to 0 and we minimize the NLL, i.e. we run the fit in the background-only hypothesis. \n",
    "\n",
    "NB: we need to also save the fit results."
   ]
  },
  {
   "cell_type": "code",
   "execution_count": null,
   "id": "8fbf09a8-0f35-4431-b731-797242927503",
   "metadata": {},
   "outputs": [],
   "source": [
    "w->var(\"mu_ttH\")->setVal(0);\n",
    "w->var(\"mu_ttH\")->setConstant(kTRUE);\n",
    "RooFitResult *r = w->pdf(\"simPdf\")->fitTo(*dataset, RooFit::Save());"
   ]
  },
  {
   "cell_type": "markdown",
   "id": "dfc5508e-747f-4529-9a54-d8999a6f33f4",
   "metadata": {},
   "source": [
    "From the `FitResult` instance that we saved, we extract the negative-log-likelihood (NLL) value:"
   ]
  },
  {
   "cell_type": "code",
   "execution_count": null,
   "id": "96bb7c4e-ac36-48e9-ae4e-81a7057280e3",
   "metadata": {},
   "outputs": [],
   "source": [
    "nll_0 = r->minNll();\n",
    "cout << nll_0 << endl;"
   ]
  },
  {
   "cell_type": "markdown",
   "id": "2786adbb-5530-408d-a622-5dbdb760d966",
   "metadata": {},
   "source": [
    "Now do an unconditional fit:"
   ]
  },
  {
   "cell_type": "code",
   "execution_count": null,
   "id": "5d9ded9e-0fff-406f-994d-a7b4d33fad73",
   "metadata": {},
   "outputs": [],
   "source": [
    "w->var(\"mu_ttH\")->setVal(1);\n",
    "w->var(\"mu_ttH\")->setConstant(kFALSE);\n",
    "RooFitResult *r_mu = w->pdf(\"simPdf\")->fitTo(*dataset, RooFit::Save());"
   ]
  },
  {
   "cell_type": "code",
   "execution_count": null,
   "id": "41cc9736-c706-435f-a460-0bb118cc33b4",
   "metadata": {},
   "outputs": [],
   "source": [
    "nll_mu = r_mu->minNll();\n",
    "cout << nll_mu << endl;"
   ]
  },
  {
   "cell_type": "markdown",
   "id": "b307e6b5",
   "metadata": {},
   "source": [
    "At this point, we get the difference between the two NLL values:"
   ]
  },
  {
   "cell_type": "code",
   "execution_count": null,
   "id": "fafb5be7-4dde-40c4-9345-3a007b646182",
   "metadata": {},
   "outputs": [],
   "source": [
    "cout << \"delta NLL = \" << nll_0 - nll_mu << endl;"
   ]
  },
  {
   "cell_type": "markdown",
   "id": "ac287ffe",
   "metadata": {},
   "source": [
    "and we tell ROOT to calculate the p-value and the significance from it:"
   ]
  },
  {
   "cell_type": "code",
   "execution_count": null,
   "id": "1c926e71-47f6-469b-a66f-e3efae853389",
   "metadata": {},
   "outputs": [],
   "source": [
    "float p0 = TMath::Prob(2*(nll_0 - nll_mu),1);\n",
    "float Z = RooStats::PValueToSignificance(p0);\n",
    "cout << \"p-value      = \" << p0 << endl;\n",
    "cout << \"Significance = \" << Z << endl;"
   ]
  }
 ],
 "metadata": {
  "kernelspec": {
   "display_name": "ROOT C++",
   "language": "c++",
   "name": "root"
  },
  "language_info": {
   "codemirror_mode": "text/x-c++src",
   "file_extension": ".C",
   "mimetype": " text/x-c++src",
   "name": "c++"
  }
 },
 "nbformat": 4,
 "nbformat_minor": 5
}
