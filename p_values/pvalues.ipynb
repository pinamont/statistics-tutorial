{
 "cells": [
  {
   "cell_type": "markdown",
   "id": "8f02fc6e",
   "metadata": {},
   "source": [
    "# P-values\n",
    "\n",
    "_Valerio Ippolito - INFN Sezione di Roma_\n",
    "\n",
    "This is the part in which we run the p-value calculation."
   ]
  },
  {
   "cell_type": "markdown",
   "id": "a289b905",
   "metadata": {},
   "source": [
    "## Local p-values"
   ]
  },
  {
   "cell_type": "markdown",
   "id": "5534bb21",
   "metadata": {},
   "source": [
    "Let's first make sure CommonStatTools is compiled"
   ]
  },
  {
   "cell_type": "code",
   "execution_count": null,
   "id": "5ea6a79e",
   "metadata": {},
   "outputs": [],
   "source": [
    "!cd ../CommonStatTools; mkdir -p build; cd build; cmake ..; make"
   ]
  },
  {
   "cell_type": "markdown",
   "id": "5a5f2254",
   "metadata": {},
   "source": [
    "We then load the compiled library, and the headers for the class which deals with the p-value calculation"
   ]
  },
  {
   "cell_type": "code",
   "execution_count": null,
   "id": "06d8c6e3",
   "metadata": {},
   "outputs": [],
   "source": [
    "#include \"../CommonStatTools/SignificanceCalculator.h\""
   ]
  },
  {
   "cell_type": "code",
   "execution_count": null,
   "id": "92071765",
   "metadata": {},
   "outputs": [],
   "source": [
    "R__ADD_LIBRARY_PATH(../CommonStatTools/build)"
   ]
  },
  {
   "cell_type": "code",
   "execution_count": null,
   "id": "168462f6",
   "metadata": {},
   "outputs": [],
   "source": [
    "R__LOAD_LIBRARY(libCommonStatTools.so)"
   ]
  },
  {
   "cell_type": "markdown",
   "id": "5f671b43",
   "metadata": {},
   "source": [
    "P-values are run on a given workspace, contained in some input file. The workspace is expected to contain the ModelConfig, which specifies how the content of the workspace should be used to perform a statistical analysis. P-values are run considering some dataset as data."
   ]
  },
  {
   "cell_type": "code",
   "execution_count": null,
   "id": "cbe1d2d7",
   "metadata": {},
   "outputs": [],
   "source": [
    "inputFile = TString(\"../ws/ATLASIT_prova_combined_ATLASIT_prova_model.root\");\n",
    "workspaceName = TString(\"combined\");\n",
    "modelConfigName = TString(\"ModelConfig\");\n",
    "dataName = TString(\"obsData\");"
   ]
  },
  {
   "cell_type": "markdown",
   "id": "f1b4bb77",
   "metadata": {},
   "source": [
    "Let's retrieve them"
   ]
  },
  {
   "cell_type": "code",
   "execution_count": null,
   "id": "e47be768",
   "metadata": {},
   "outputs": [],
   "source": [
    "input_f = new TFile(inputFile);\n",
    "w = dynamic_cast<RooWorkspace*>(input_f->Get(workspaceName));\n",
    "mc = dynamic_cast<RooStats::ModelConfig*>(w->obj(modelConfigName));\n",
    "dataset = dynamic_cast<RooDataSet*>(w->data(dataName));"
   ]
  },
  {
   "cell_type": "markdown",
   "id": "63629236",
   "metadata": {},
   "source": [
    "We will use the simple class `SignificanceCalculator` - who is the guy who will actually run significance calculation for us."
   ]
  },
  {
   "cell_type": "code",
   "execution_count": null,
   "id": "2e9c5303",
   "metadata": {},
   "outputs": [],
   "source": [
    "CommonStatTools::SignificanceCalculator calculator;\n",
    "calculator.SetCPU(1);\n",
    "calculator.CalculateSignificance(mc, dataset);"
   ]
  },
  {
   "cell_type": "markdown",
   "id": "8bc457c9",
   "metadata": {},
   "source": [
    "The p-value calculation is very simple: it's given by (https://arxiv.org/pdf/1007.1727.pdf)\n",
    "$$q_0 = 2(NLL_0 - NLL)$$\n",
    "there $NLL_0$ is the negative log-likelihood calculated when the POI is set to zero (background-only hypothesis), and $NLL$ is the value when also the POI is free to float."
   ]
  },
  {
   "cell_type": "code",
   "execution_count": null,
   "id": "00bb1960",
   "metadata": {},
   "outputs": [],
   "source": [
    "std::cout << \"Significance is: \" << calculator.GetSignificance()\n",
    "          << \", p-value is: \" << calculator.GetPvalue() << \"\\n\";"
   ]
  },
  {
   "cell_type": "markdown",
   "id": "fe492e23",
   "metadata": {},
   "source": [
    "Toys which repeat the calculation over many variations of the global observables may be used as a way to check how likely is it to have a fluctuation higher than the observed one (as in the concept of _global p-value_), and can be run easily:"
   ]
  },
  {
   "cell_type": "code",
   "execution_count": null,
   "id": "df14a76a",
   "metadata": {},
   "outputs": [],
   "source": [
    "N_toys = 1000;\n",
    "\n",
    "calculator.SetSeed(1337); // useful to run in batch and be sure to merge many independent outputs!\n",
    "calculator.SetPrintoutFrequency(10); // -1 will disable the printout\n",
    "calculator.CalculateSignificanceToys(w, mc, dataset, N_toys);\n",
    "\n",
    "pValues = calculator.GetToysPvalues();\n",
    "significances = calculator.GetToysSignificances();"
   ]
  },
  {
   "cell_type": "markdown",
   "id": "d2fb6cca",
   "metadata": {},
   "source": [
    "Let's visualize the output"
   ]
  },
  {
   "cell_type": "code",
   "execution_count": null,
   "id": "4b96f147",
   "metadata": {},
   "outputs": [],
   "source": [
    "h_pval = new TH1F(\"pval\", \"pval\", 100, 0, 1);\n",
    "for (int i = 0; i < pValues.size(); i++) {\n",
    "    cout << \"toy \" << i << \": pval \" << pValues[i] << \" sign \" << significances[i] << endl;\n",
    "    h_pval->Fill(pValues[i]);\n",
    "}\n",
    "\n",
    "c = new TCanvas(\"c\", \"c\", 600, 600);\n",
    "h_pval->Draw();\n",
    "c->Draw();"
   ]
  },
  {
   "cell_type": "markdown",
   "id": "220cebeb",
   "metadata": {},
   "source": [
    "The output may also be persisted to ROOT file:"
   ]
  },
  {
   "cell_type": "code",
   "execution_count": null,
   "id": "45695e1b",
   "metadata": {},
   "outputs": [],
   "source": [
    "output_f = new TFile(\"my_pvalues.root\", \"RECREATE\");\n",
    "calculator.WriteResultsToROOTfile(output_f, \"p0\");\n",
    "calculator.WriteToysToROOTfile(output_f, \"toys\");\n",
    "output_f->Write();\n",
    "delete output_f;"
   ]
  },
  {
   "cell_type": "markdown",
   "id": "753c0c6a",
   "metadata": {},
   "source": [
    "which is in turn read out easily:"
   ]
  },
  {
   "cell_type": "code",
   "execution_count": null,
   "id": "48347022",
   "metadata": {},
   "outputs": [],
   "source": [
    "output_f = new TFile(\"my_pvalues.root\");\n",
    "output_f->ls();"
   ]
  },
  {
   "cell_type": "code",
   "execution_count": null,
   "id": "2c826961",
   "metadata": {},
   "outputs": [],
   "source": [
    "t = dynamic_cast<TTree*>(output_f->Get(\"p0\"));\n",
    "t->Show(0);"
   ]
  },
  {
   "cell_type": "code",
   "execution_count": null,
   "id": "7a355858",
   "metadata": {},
   "outputs": [],
   "source": [
    "c = new TCanvas(\"c\", \"c\", 600, 600);\n",
    "t = dynamic_cast<TTree*>(output_f->Get(\"toys\"));\n",
    "t->Draw(\"significance\");\n",
    "c->Draw();"
   ]
  },
  {
   "cell_type": "markdown",
   "id": "5a1793ee",
   "metadata": {},
   "source": [
    "## Global p-values based on crossings"
   ]
  },
  {
   "cell_type": "markdown",
   "id": "7b4ff7aa",
   "metadata": {},
   "source": [
    "CommonStatTools provides also another basic implementation of the global p-value calculation, based on the crossing method (ATL-PHYS-PUB-2011-011)"
   ]
  },
  {
   "cell_type": "markdown",
   "id": "6d00e353",
   "metadata": {},
   "source": [
    "You need to provide:\n",
    "- the maximum local significance, in number of gaussian sigmas\n",
    "- the number of crossings"
   ]
  },
  {
   "cell_type": "code",
   "execution_count": null,
   "id": "b373bf9c",
   "metadata": {},
   "outputs": [],
   "source": [
    "!../CommonStatTools/build/getGlobalP0 3.4 2"
   ]
  },
  {
   "cell_type": "code",
   "execution_count": null,
   "id": "148a0e2a",
   "metadata": {},
   "outputs": [],
   "source": []
  }
 ],
 "metadata": {
  "kernelspec": {
   "display_name": "ROOT C++",
   "language": "c++",
   "name": "root"
  },
  "language_info": {
   "codemirror_mode": "text/x-c++src",
   "file_extension": ".C",
   "mimetype": " text/x-c++src",
   "name": "c++"
  }
 },
 "nbformat": 4,
 "nbformat_minor": 5
}
