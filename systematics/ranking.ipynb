{
 "cells": [
  {
   "cell_type": "markdown",
   "id": "c0da97d3",
   "metadata": {},
   "source": [
    "# Systematics impact: Ranking Plot method\n",
    "\n",
    "*Michele Pinamonti - INFN Sezione di Trieste*\n",
    "\n",
    "This part shows an example of a way to quantify the impact of each of the individual sources of systematic uncertainties, using the so-called \"ranking plot\" method.\n",
    "Each of the nuisance parameters is shifted up and down by its uncertainty, and then the fit is repeated.\n",
    "Then the impact of associated systematic is quoted as the resulting shift of the result of the fit (in terms of fitted value of the parameter of interest)."
   ]
  },
  {
   "cell_type": "code",
   "execution_count": null,
   "id": "85ef07d5",
   "metadata": {},
   "outputs": [],
   "source": [
    "using namespace RooStats;"
   ]
  },
  {
   "cell_type": "markdown",
   "id": "9702bcdf",
   "metadata": {},
   "source": [
    "Open file containing workspace and extract it"
   ]
  },
  {
   "cell_type": "code",
   "execution_count": null,
   "id": "49f63c65",
   "metadata": {},
   "outputs": [],
   "source": [
    "TFile *f = new TFile(\"../ws/ATLASIT_prova_combined_ATLASIT_prova_model.root\");\n",
    "RooWorkspace *w = (RooWorkspace*)f->Get(\"combined\");"
   ]
  },
  {
   "cell_type": "markdown",
   "id": "d203648c",
   "metadata": {},
   "source": [
    "Get observed data from the workspace"
   ]
  },
  {
   "cell_type": "code",
   "execution_count": null,
   "id": "c5395fa8",
   "metadata": {},
   "outputs": [],
   "source": [
    "RooDataSet *dataset = (RooDataSet*)w->data(\"obsData\");"
   ]
  },
  {
   "cell_type": "markdown",
   "id": "86603649",
   "metadata": {},
   "source": [
    "Perform the nominal S+B fit to data (but forcing RooFit and Minuit to stay silent first)"
   ]
  },
  {
   "cell_type": "code",
   "execution_count": null,
   "id": "ca8fc1ae",
   "metadata": {},
   "outputs": [],
   "source": [
    "RooMsgService::instance().setGlobalKillBelow(RooFit::FATAL);\n",
    "w->var(\"mu_ttH\")->setVal(0);\n",
    "w->var(\"mu_ttH\")->setConstant(false);\n",
    "w->pdf(\"simPdf\")->fitTo(*dataset,RooFit::PrintLevel(-1));"
   ]
  },
  {
   "cell_type": "markdown",
   "id": "7f4b59fb",
   "metadata": {},
   "source": [
    "Get the ModelConfig, the POI and save the POI fitted value and uncertainty"
   ]
  },
  {
   "cell_type": "code",
   "execution_count": null,
   "id": "94e94960",
   "metadata": {},
   "outputs": [],
   "source": [
    "ModelConfig *mc = (ModelConfig*)w->obj(\"ModelConfig\");\n",
    "RooRealVar *poi = (RooRealVar*)mc->GetParametersOfInterest()->first();\n",
    "float mu_hat = poi->getVal();\n",
    "float mu_hat_err_up = poi->getErrorHi();\n",
    "float mu_hat_err_down = poi->getErrorLo();"
   ]
  },
  {
   "cell_type": "markdown",
   "id": "d509bc94",
   "metadata": {},
   "source": [
    "Print nominal fit result"
   ]
  },
  {
   "cell_type": "code",
   "execution_count": null,
   "id": "12e1c66f",
   "metadata": {},
   "outputs": [],
   "source": [
    "cout << \"Nominal fit:\" << endl;\n",
    "cout << \"  POI =\";\n",
    "cout << Form(\" %+.3f\",mu_hat);\n",
    "cout << Form(\" %+.3f\",mu_hat_err_up);\n",
    "cout << \" / \";\n",
    "cout << Form(\" %+.3f\",mu_hat_err_down);\n",
    "cout << endl;"
   ]
  },
  {
   "cell_type": "markdown",
   "id": "aebad975",
   "metadata": {},
   "source": [
    "Save a \"snapshot\", containing parameter values after nominal fit (to be loaded afeterward)"
   ]
  },
  {
   "cell_type": "code",
   "execution_count": null,
   "id": "98d41dbc",
   "metadata": {},
   "outputs": [],
   "source": [
    "w->saveSnapshot(\"nominal_snapshot\", *mc->GetPdf()->getParameters(dataset));"
   ]
  },
  {
   "cell_type": "markdown",
   "id": "2ef74e31",
   "metadata": {},
   "source": [
    "Now the main part:\n",
    "- loop on all the nuisance parmeters (NPs) in the model (excluding the free-floating parameters, hence restricting to those named `alpha_*`\n",
    "- save value and error (up/down) of each NP from the nominal fit\n",
    "- for each NP, repeat the fit after fixing the NP to nominal value +/- its post-fit uncertainty (to get the \"post-fit impact of this NP\")\n",
    "- for each NP, repeat the fit after fixing the NP to nominal value +/- 1 (to get the \"pre-fit impact of this NP\")\n",
    "- to get the \"impact\", compare fitted values of POI with nominal fit result in each case\n",
    "- take care of loading the snapshot we created before, prior to any new fit\n",
    "- print everything in an ordered way"
   ]
  },
  {
   "cell_type": "code",
   "execution_count": null,
   "id": "2e6f43c5",
   "metadata": {},
   "outputs": [],
   "source": [
    "// loop on list of nuisance parameters\n",
    "for(auto np_tmp : *mc->GetNuisanceParameters()){\n",
    "    RooRealVar* np = (RooRealVar*)np_tmp;\n",
    "    \n",
    "    string np_name = np->GetName();\n",
    "    \n",
    "    // exclude parameters that are not \"alpha_\" (to exclude e.g. normalization factors and keep only NPs associated with systematics)\n",
    "    if(np_name.find(\"alpha_\")==string::npos) continue;\n",
    "    \n",
    "    cout << \"---------------------------------\" << endl;\n",
    "    cout << \"Impact of NP \" << np_name << endl;\n",
    "    \n",
    "    // load the snapshot we created before, and save value and error (up/down) of this NP\n",
    "    w->loadSnapshot(\"nominal_snapshot\");\n",
    "    float np_value = np->getVal();\n",
    "    float np_err_up = np->getErrorHi();\n",
    "    float np_err_down = np->getErrorLo();\n",
    "    \n",
    "    // Evaluate post-fit impact:\n",
    "    //\n",
    "    // set this NP to +1 sigma\n",
    "    w->loadSnapshot(\"nominal_snapshot\");\n",
    "    np->setVal( np_value + np_err_up );\n",
    "    np->setConstant(true);\n",
    "    w->pdf(\"simPdf\")->fitTo(*dataset,RooFit::PrintLevel(-1));\n",
    "    float mu_hat_postfit_up = poi->getVal();\n",
    "    //\n",
    "    // set this NP to -1 sigma\n",
    "    w->loadSnapshot(\"nominal_snapshot\");\n",
    "    np->setVal( np_value + np_err_down );\n",
    "    np->setConstant(true);\n",
    "    w->pdf(\"simPdf\")->fitTo(*dataset,RooFit::PrintLevel(-1));\n",
    "    float mu_hat_postfit_down = poi->getVal();\n",
    "    \n",
    "    // Evaluate pre-fit impact:\n",
    "    //\n",
    "    // set this NP to +1\n",
    "    w->loadSnapshot(\"nominal_snapshot\");\n",
    "    np->setVal( np_value + 1 );\n",
    "    np->setConstant(true);\n",
    "    w->pdf(\"simPdf\")->fitTo(*dataset,RooFit::PrintLevel(-1));\n",
    "    float mu_hat_prefit_up = poi->getVal();\n",
    "    //\n",
    "    // set this NP to -1\n",
    "    w->loadSnapshot(\"nominal_snapshot\");\n",
    "    np->setVal( np_value - 1 );\n",
    "    np->setConstant(true);\n",
    "    w->pdf(\"simPdf\")->fitTo(*dataset,RooFit::PrintLevel(-1));\n",
    "    float mu_hat_prefit_down = poi->getVal();\n",
    "    \n",
    "    // Print pre-fit impact\n",
    "    cout << \"  Pre-fit  impact = \";\n",
    "    cout << Form(\"%+.3f\",mu_hat_prefit_up - mu_hat);\n",
    "    cout << \" / \";\n",
    "    cout << Form(\"%+.3f\",mu_hat_prefit_down - mu_hat);\n",
    "    cout << endl;\n",
    "    \n",
    "    // Print post-fit impact\n",
    "    cout << \"  Post-fit impact = \";\n",
    "    cout << Form(\"%+.3f\",mu_hat_postfit_up - mu_hat);\n",
    "    cout << \" / \";\n",
    "    cout << Form(\"%+.3f\",mu_hat_postfit_down - mu_hat);\n",
    "    cout << endl;\n",
    "}"
   ]
  }
 ],
 "metadata": {
  "kernelspec": {
   "display_name": "ROOT C++",
   "language": "c++",
   "name": "root"
  },
  "language_info": {
   "codemirror_mode": "text/x-c++src",
   "file_extension": ".C",
   "mimetype": " text/x-c++src",
   "name": "c++"
  }
 },
 "nbformat": 4,
 "nbformat_minor": 5
}
