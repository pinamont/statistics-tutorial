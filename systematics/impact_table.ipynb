{
 "cells": [
  {
   "cell_type": "markdown",
   "id": "d89a2768",
   "metadata": {},
   "source": [
    "# Systematics impact: Grouped Impact Table method\n",
    "\n",
    "*Michele Pinamonti - INFN Sezione di Trieste*\n",
    "\n",
    "This part shows an example of a way to quantify the impact of systematic uncertainties, by splitting the statisical component and a number of systematic categories. The method used is the so-called Grouped Impact Table. It consists in fixing a number of nuisance parameters to their post-fit values and perform fits with each group fixed, and then extracting the impact of each group by comparing the resulting total uncertainty on the parameter of interest with the one from the nominal fit.\n",
    "\n",
    "\n"
   ]
  },
  {
   "cell_type": "code",
   "execution_count": null,
   "id": "b03c8030",
   "metadata": {},
   "outputs": [],
   "source": [
    "using namespace RooStats;"
   ]
  },
  {
   "cell_type": "markdown",
   "id": "82c5bfc4",
   "metadata": {},
   "source": [
    "Open file containing workspace and extract it"
   ]
  },
  {
   "cell_type": "code",
   "execution_count": null,
   "id": "7cac4302",
   "metadata": {},
   "outputs": [],
   "source": [
    "TFile *f = new TFile(\"../ws/ATLASIT_prova_combined_ATLASIT_prova_model.root\");\n",
    "RooWorkspace *w = (RooWorkspace*)f->Get(\"combined\");"
   ]
  },
  {
   "cell_type": "markdown",
   "id": "fcbace84",
   "metadata": {},
   "source": [
    "Get observed data from the workspace"
   ]
  },
  {
   "cell_type": "code",
   "execution_count": null,
   "id": "9ff4d73a",
   "metadata": {},
   "outputs": [],
   "source": [
    "RooDataSet *dataset = (RooDataSet*)w->data(\"obsData\");"
   ]
  },
  {
   "cell_type": "markdown",
   "id": "4b99b0d7",
   "metadata": {},
   "source": [
    "Perform the nominal S+B fit to data (but forcing RooFit and Minuit to stay silent first).\n",
    "This time we switch Minos ON, so that we get asymmetric error bars on the result."
   ]
  },
  {
   "cell_type": "code",
   "execution_count": null,
   "id": "cec75919",
   "metadata": {},
   "outputs": [],
   "source": [
    "RooMsgService::instance().setGlobalKillBelow(RooFit::FATAL);\n",
    "w->var(\"mu_ttH\")->setVal(0);\n",
    "w->var(\"mu_ttH\")->setConstant(false);\n",
    "w->pdf(\"simPdf\")->fitTo(*dataset,RooFit::PrintLevel(-1));"
   ]
  },
  {
   "cell_type": "markdown",
   "id": "63097d08",
   "metadata": {},
   "source": [
    "Get the ModelConfig, the POI and save the POI fitted value and uncertainty"
   ]
  },
  {
   "cell_type": "code",
   "execution_count": null,
   "id": "ac20d9f5",
   "metadata": {},
   "outputs": [],
   "source": [
    "ModelConfig *mc = (ModelConfig*)w->obj(\"ModelConfig\");\n",
    "RooRealVar *poi = (RooRealVar*)mc->GetParametersOfInterest()->first();\n",
    "double mu_hat = poi->getVal();\n",
    "double mu_hat_err_up = poi->getErrorHi();\n",
    "double mu_hat_err_down = poi->getErrorLo();"
   ]
  },
  {
   "cell_type": "markdown",
   "id": "1131fb62",
   "metadata": {},
   "source": [
    "Print nominal fit result"
   ]
  },
  {
   "cell_type": "code",
   "execution_count": null,
   "id": "d172aed6",
   "metadata": {},
   "outputs": [],
   "source": [
    "cout << \"Nominal fit:\" << endl;\n",
    "cout << \"  POI =\";\n",
    "cout << Form(\" %+.3f\",mu_hat);\n",
    "cout << Form(\" %+.3f\",mu_hat_err_up);\n",
    "cout << \" / \";\n",
    "cout << Form(\" %+.3f\",mu_hat_err_down);\n",
    "cout << endl;"
   ]
  },
  {
   "cell_type": "markdown",
   "id": "dccc70d8",
   "metadata": {},
   "source": [
    "Save a \"snapshot\", containing parameter values after nominal fit (to be loaded afeterward)"
   ]
  },
  {
   "cell_type": "code",
   "execution_count": null,
   "id": "c971c5e1",
   "metadata": {},
   "outputs": [],
   "source": [
    "w->saveSnapshot(\"nominal_snapshot\", *mc->GetPdf()->getParameters(dataset));"
   ]
  },
  {
   "cell_type": "markdown",
   "id": "548af0f3",
   "metadata": {},
   "source": [
    "Now the main part:\n",
    "- define groups of systematics as a set of corresponding nuisance parameter (NP) names\n",
    "- for each group, fix the corresponding NPs and re-do the fit\n",
    "- extract the impact of this group as the difference in quadrature between the obtained total error on POI and the nominal error on POI\n",
    "- the statistical uncertainty, is then quantified by fixing all the NPs"
   ]
  },
  {
   "cell_type": "code",
   "execution_count": null,
   "id": "c681b1a2",
   "metadata": {},
   "outputs": [],
   "source": [
    "map<string,vector<string>> systGroups;\n",
    "systGroups[\"Lumi\"] = {\"alpha_lumi\"};\n",
    "systGroups[\"JES\"] = {\"alpha_JES_Scenario1_NP1\"};\n",
    "systGroups[\"BkgXS\"] = {\"alpha_stXsec\",\"alpha_ttXsec\"};\n",
    "\n",
    "map<string,float> impactMapUp;\n",
    "map<string,float> impactMapDown;\n",
    "\n",
    "// For stat-uncertainty, fix all the NPs\n",
    "for(auto np_tmp : *mc->GetNuisanceParameters()){\n",
    "    RooRealVar* np = (RooRealVar*)np_tmp;\n",
    "    \n",
    "    string np_name = np->GetName();\n",
    "    \n",
    "    // exclude parameters that are not \"alpha_\" (to exclude e.g. normalization factors and keep only NPs associated with systematics)\n",
    "    if(np_name.find(\"alpha_\")==string::npos) continue;\n",
    "    \n",
    "    np->setConstant(true);\n",
    "}\n",
    "w->pdf(\"simPdf\")->fitTo(*dataset,RooFit::PrintLevel(-1));\n",
    "impactMapUp[\"Statistics\"] = poi->getErrorHi();\n",
    "impactMapDown[\"Statistics\"] = poi->getErrorLo();\n",
    "\n",
    "// Then loop over the systematic groups, and fix each of the groups\n",
    "for(const auto &group_pair : systGroups){\n",
    "    \n",
    "    string group_name = group_pair.first;\n",
    "    auto group = group_pair.second;\n",
    "    // remember to reload the snapshot!\n",
    "    w->loadSnapshot(\"nominal_snapshot\");\n",
    "    for(auto np_name : group){\n",
    "        RooRealVar* np = w->var(np_name.c_str());\n",
    "        np->setConstant(true);\n",
    "    }\n",
    "    w->pdf(\"simPdf\")->fitTo(*dataset,RooFit::PrintLevel(-1));\n",
    "    double mu_hat_err_up_tmp = poi->getErrorHi();\n",
    "    double mu_hat_err_down_tmp = poi->getErrorLo();\n",
    "    impactMapUp[group_name] = sqrt(mu_hat_err_up*mu_hat_err_up - mu_hat_err_up_tmp*mu_hat_err_up_tmp);\n",
    "    impactMapDown[group_name] = -sqrt(mu_hat_err_down*mu_hat_err_down - mu_hat_err_down_tmp*mu_hat_err_down_tmp);\n",
    "}"
   ]
  },
  {
   "cell_type": "markdown",
   "id": "289eeb3c",
   "metadata": {},
   "source": [
    "Print the resulting table"
   ]
  },
  {
   "cell_type": "code",
   "execution_count": null,
   "id": "1283316a",
   "metadata": {},
   "outputs": [],
   "source": [
    "cout << \"---------------------------------\" << endl;\n",
    "for(auto tmp_pair : impactMapUp){\n",
    "    string group_name = tmp_pair.first;\n",
    "    cout << setw(10);\n",
    "    cout << group_name;\n",
    "    cout << \"\\t\";\n",
    "    cout << Form(\"%+.3f\",impactMapUp[group_name]);\n",
    "    cout << \" / \";\n",
    "    cout << Form(\"%+.3f\",impactMapDown[group_name]);    \n",
    "    cout << endl;\n",
    "}"
   ]
  },
  {
   "cell_type": "markdown",
   "id": "75c45e47",
   "metadata": {},
   "source": [
    "Homework: compare with the outptus from the \"ranking plot\" method"
   ]
  }
 ],
 "metadata": {
  "kernelspec": {
   "display_name": "ROOT C++",
   "language": "c++",
   "name": "root"
  },
  "language_info": {
   "codemirror_mode": "text/x-c++src",
   "file_extension": ".C",
   "mimetype": " text/x-c++src",
   "name": "c++"
  }
 },
 "nbformat": 4,
 "nbformat_minor": 5
}
