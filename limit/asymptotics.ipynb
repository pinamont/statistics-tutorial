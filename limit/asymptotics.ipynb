{
 "cells": [
  {
   "cell_type": "markdown",
   "id": "3031dd52",
   "metadata": {},
   "source": [
    "# Limits with asymptotic formulae\n",
    "\n",
    "_Valerio Ippolito - INFN Sezione di Roma_\n",
    "\n",
    "This is the part in which we run limits on some signal POI, using the asymptotic calculation (faster than toys)."
   ]
  },
  {
   "cell_type": "markdown",
   "id": "a5b32315",
   "metadata": {},
   "source": [
    "Let's first make sure CommonStatTools is compiled"
   ]
  },
  {
   "cell_type": "code",
   "execution_count": null,
   "id": "d2c91f16",
   "metadata": {},
   "outputs": [],
   "source": [
    "!cd ../CommonStatTools; mkdir -p build; cd build; cmake ..; make"
   ]
  },
  {
   "cell_type": "markdown",
   "id": "f8e9adc5",
   "metadata": {},
   "source": [
    "We then load the compiled library, and the headers for the class which deals with the asymptotic limit setting"
   ]
  },
  {
   "cell_type": "code",
   "execution_count": null,
   "id": "cfba55dc",
   "metadata": {},
   "outputs": [],
   "source": [
    "#include \"../CommonStatTools/AsymptoticsCLsRunner.h\""
   ]
  },
  {
   "cell_type": "code",
   "execution_count": null,
   "id": "5700fce1",
   "metadata": {},
   "outputs": [],
   "source": [
    "R__ADD_LIBRARY_PATH(../CommonStatTools/build)"
   ]
  },
  {
   "cell_type": "code",
   "execution_count": null,
   "id": "705279a2",
   "metadata": {},
   "outputs": [],
   "source": [
    "R__LOAD_LIBRARY(libCommonStatTools.so)"
   ]
  },
  {
   "cell_type": "markdown",
   "id": "d7f0a6e6",
   "metadata": {},
   "source": [
    "Limits are run on a given workspace, contained in some input file. The workspace is expected to contain the ModelConfig, which specifies how the content of the workspace should be used to perform a statistical analysis. Limits are run considering some dataset as data."
   ]
  },
  {
   "cell_type": "code",
   "execution_count": null,
   "id": "3ce2b9b6",
   "metadata": {},
   "outputs": [],
   "source": [
    "inputFile = TString(\"../ws/ATLASIT_prova_combined_ATLASIT_prova_model.root\");\n",
    "workspaceName = TString(\"combined\");\n",
    "modelConfigName = TString(\"ModelConfig\");\n",
    "dataName = TString(\"obsData\");"
   ]
  },
  {
   "cell_type": "markdown",
   "id": "e320b28b",
   "metadata": {},
   "source": [
    "The output of the limit setting should be saved in some folder, with some associated nickname"
   ]
  },
  {
   "cell_type": "code",
   "execution_count": null,
   "id": "67f8a8fd",
   "metadata": {},
   "outputs": [],
   "source": [
    "workspaceTag = TString(\"my_test\");\n",
    "outputFolder = TString(\"tmp\");"
   ]
  },
  {
   "cell_type": "markdown",
   "id": "c71a9570",
   "metadata": {},
   "source": [
    "Actually, the output will consist of a ROOT file containing a TTree the (many) results of the limit setting. In real life you often like to run over multiple signal hypotheses, so CommonStatTools provides you with the possibility to add a branch to the output TTree, which may represent for example the mass of a resonance: this is quite convenient as you can then merge multiple output files with `hadd` and get a single tree with the results of the limit setting on all signals (otherwise, just set it to a dummy value)."
   ]
  },
  {
   "cell_type": "code",
   "execution_count": null,
   "id": "c57f554e",
   "metadata": {},
   "outputs": [],
   "source": [
    "paramName = TString(\"my_resonance_mass\");\n",
    "paramValue = 1.0;"
   ]
  },
  {
   "cell_type": "markdown",
   "id": "422b4e14",
   "metadata": {},
   "source": [
    "In terms of how the limit is set, we also need to specify:\n",
    "- if we want to keep data blind\n",
    "- if we want to inject any signal, and if so the injection strength (i.e. how bigger is the signal cross-section with respect to its nominal value)\n",
    "- the confidence level CL for our limits (often 0.95, sometimes 0.90)"
   ]
  },
  {
   "cell_type": "code",
   "execution_count": null,
   "id": "7b959df3",
   "metadata": {},
   "outputs": [],
   "source": [
    "keepDataBlind = Bool_t(kFALSE);\n",
    "doInjection = Bool_t(kFALSE);\n",
    "muInjection = 1.0;\n",
    "CL = 0.95;"
   ]
  },
  {
   "cell_type": "markdown",
   "id": "4aa6d239",
   "metadata": {},
   "source": [
    "An Asimov dataset is created, if it doesn't exist in the workspace - or one is used if available. Its name should be (or will be):"
   ]
  },
  {
   "cell_type": "code",
   "execution_count": null,
   "id": "eb0ddbe5",
   "metadata": {},
   "outputs": [],
   "source": [
    "asimovDataName = TString(\"asimovData_0\");"
   ]
  },
  {
   "cell_type": "markdown",
   "id": "af9eb7cd",
   "metadata": {},
   "source": [
    "... and, of course, the verbosity we wish for the output of the code"
   ]
  },
  {
   "cell_type": "code",
   "execution_count": null,
   "id": "f798c86d",
   "metadata": {},
   "outputs": [],
   "source": [
    "debugLevel = 2;"
   ]
  },
  {
   "cell_type": "markdown",
   "id": "703d220d",
   "metadata": {},
   "source": [
    "Let's put everything together, using the so-called `AsymptoticsCLsRunner` - who is the guy who will actually run limits for us."
   ]
  },
  {
   "cell_type": "code",
   "execution_count": null,
   "id": "ce33531a",
   "metadata": {},
   "outputs": [],
   "source": [
    "EXOSTATS::AsymptoticsCLsRunner limitRunner;"
   ]
  },
  {
   "cell_type": "code",
   "execution_count": null,
   "id": "9ab09606",
   "metadata": {},
   "outputs": [],
   "source": [
    "limitRunner.setBlind(keepDataBlind);\n",
    "limitRunner.setInjection(doInjection);\n",
    "limitRunner.setInjectionStrength(muInjection);\n",
    "limitRunner.setDebugLevel(debugLevel);"
   ]
  },
  {
   "cell_type": "code",
   "execution_count": null,
   "id": "f1ddcd33",
   "metadata": {},
   "outputs": [],
   "source": [
    "limitRunner.run(inputFile, workspaceName, modelConfigName, dataName, paramName, paramValue, workspaceTag,\n",
    "                   outputFolder, CL, asimovDataName);"
   ]
  },
  {
   "cell_type": "markdown",
   "id": "cb7d1789",
   "metadata": {},
   "source": [
    "Let's check the output, which is located in the folder we create (note that each piece of code of CommonStatTools creates a subfolder of the folder you specify - something convenient if you want to hold in a single directory the full output of your statistical analysis)"
   ]
  },
  {
   "cell_type": "code",
   "execution_count": null,
   "id": "071e7ce0",
   "metadata": {},
   "outputs": [],
   "source": [
    "!ls tmp/asymptotics"
   ]
  },
  {
   "cell_type": "code",
   "execution_count": null,
   "id": "7ee0d2b0",
   "metadata": {},
   "outputs": [],
   "source": [
    "f = new TFile(outputFolder + \"/asymptotics/\"\n",
    "              + workspaceTag +\n",
    "              \"_CL\" + TString::Format(\"%d\", int(CL*100))\n",
    "              + \".root\");\n",
    "f->ls()"
   ]
  },
  {
   "cell_type": "code",
   "execution_count": null,
   "id": "382f33d7",
   "metadata": {},
   "outputs": [],
   "source": [
    "t = dynamic_cast<TTree*>(f->Get(\"stats\"));\n",
    "t->Show(0)"
   ]
  },
  {
   "cell_type": "markdown",
   "id": "e4123ef3",
   "metadata": {},
   "source": [
    "Each entry (row) of the TTree corresponds to a single run of the limit, and includes:\n",
    "- the value of the parameter (in our example, the resonance mass)\n",
    "- the observed upper limit `obs_upperlimit`\n",
    "- the expected median upper limit `exp_upperlimit` and its plus/minus 1/2 sigma equivalents\n",
    "- the fit status (`0` is good!)\n",
    "- the upper limit obtained when a signal was injected (if it was), `inj_upperlimit`\n",
    "- the best fit value for the parameter of interest on data, `mu_hat_obs`\n",
    "- the best fit value for the parameter of interest on the background-only hypothesis, `mu_hat_exp`\n",
    "- the values of CLs, CLb and pb for the median expected hypothesis (e.g. `CLb_med`) and the actual data\n",
    "- the best values of the various parameters of the fit in the fit to data (e.g. `param_mu_tt_hat`)\n",
    "- the best values of the various parameters of the fit in the fit to the median expected hypothesis (e.g. `param_mu_tt_med`)"
   ]
  },
  {
   "cell_type": "code",
   "execution_count": null,
   "id": "b1627990",
   "metadata": {},
   "outputs": [],
   "source": []
  }
 ],
 "metadata": {
  "kernelspec": {
   "display_name": "ROOT C++",
   "language": "c++",
   "name": "root"
  },
  "language_info": {
   "codemirror_mode": "text/x-c++src",
   "file_extension": ".C",
   "mimetype": " text/x-c++src",
   "name": "c++"
  }
 },
 "nbformat": 4,
 "nbformat_minor": 5
}
