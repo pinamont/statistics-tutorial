{
 "cells": [
  {
   "cell_type": "markdown",
   "id": "89dfef3e",
   "metadata": {},
   "source": [
    "# Limits with toy experiments\n",
    "\n",
    "_Valerio Ippolito - INFN Sezione di Roma_\n",
    "\n",
    "ROOT provides a nice example of how to run limits with multiple possible test statistics, possibly using toy experiments instead of asymptotic formulae."
   ]
  },
  {
   "cell_type": "code",
   "execution_count": null,
   "id": "14dd3cef",
   "metadata": {},
   "outputs": [],
   "source": [
    "!ls $ROOTSYS/tutorials/roostats/StandardHypoTestInvDemo.C"
   ]
  },
  {
   "cell_type": "code",
   "execution_count": null,
   "id": "522c05b2",
   "metadata": {},
   "outputs": [],
   "source": [
    "!cp $ROOTSYS/tutorials/roostats/StandardHypoTestInvDemo.C ."
   ]
  },
  {
   "cell_type": "code",
   "execution_count": null,
   "id": "272d7958",
   "metadata": {},
   "outputs": [],
   "source": [
    "gROOT->LoadMacro(\"StandardHypoTestInvDemo.C+\")"
   ]
  },
  {
   "cell_type": "code",
   "execution_count": null,
   "id": "cfabd178",
   "metadata": {},
   "outputs": [],
   "source": [
    "inputFile = TString(\"../ws/ATLASIT_prova_combined_ATLASIT_prova_model.root\");\n",
    "workspaceName = TString(\"combined\");\n",
    "modelConfigName = TString(\"ModelConfig\");\n",
    "modelBName = TString(\"\"); // bkg-only model, will be created by setting POI to zero if doesn't exist\n",
    "dataName = TString(\"obsData\"); "
   ]
  },
  {
   "cell_type": "markdown",
   "id": "bf788f62",
   "metadata": {},
   "source": [
    "Which test statistics do we want?\n",
    "- `0`: LEP\n",
    "- `1`: Tevatron\n",
    "- `2`: Profile Likelihood two sided\n",
    "- `3`: Profile Likelihood one sided (i.e. = 0 if mu < mu_hat)\n",
    "- `4`: Profile Likelihood signed ( pll = -pll if mu < mu_hat)\n",
    "- `5`: Max Likelihood Estimate as test statistic\n",
    "- `6`: Number of observed event as test statistic\n",
    "\n",
    "In which way do we want to calculate the test statistics distribution?\n",
    "\n",
    "- `0`: Freq calculator\n",
    "- `1`: Hybrid calculator\n",
    "- `2`: Asymptotic calculator\n",
    "- `3`: Asymptotic calculator using nominal Asimov data sets (not using fitted parameter values but nominal ones)"
   ]
  },
  {
   "cell_type": "code",
   "execution_count": null,
   "id": "56d1ac98",
   "metadata": {},
   "outputs": [],
   "source": [
    "testStatType = 3;\n",
    "calculatorType = 2;"
   ]
  },
  {
   "cell_type": "markdown",
   "id": "95b16f30",
   "metadata": {},
   "source": [
    "Do we want to use CLs to evaluate the limit?"
   ]
  },
  {
   "cell_type": "code",
   "execution_count": null,
   "id": "caff96a8",
   "metadata": {},
   "outputs": [],
   "source": [
    "useCLs = kTRUE;"
   ]
  },
  {
   "cell_type": "markdown",
   "id": "6b1c6e88",
   "metadata": {},
   "source": [
    "This is usually the delicate part: the POI scan which is used to determine the POI interval from the crossing of the test statistics value with the desired horizontal line (0.05 for 95% CL). If the scanned range doesn't contain the intersection, everything will result in a poor extrapolation, and limits will be meaningless..."
   ]
  },
  {
   "cell_type": "code",
   "execution_count": null,
   "id": "8cd63f78",
   "metadata": {},
   "outputs": [],
   "source": [
    "npoints = Int_t(6);\n",
    "poimin = Double_t(0);\n",
    "poimax = Double_t(20);"
   ]
  },
  {
   "cell_type": "markdown",
   "id": "f1c69634",
   "metadata": {},
   "source": [
    "If you pick the frequentist calculator, you need to specify how many toys to use:"
   ]
  },
  {
   "cell_type": "code",
   "execution_count": null,
   "id": "2a80eaf9",
   "metadata": {},
   "outputs": [],
   "source": [
    "ntoys = 1000;"
   ]
  },
  {
   "cell_type": "markdown",
   "id": "07abf754",
   "metadata": {},
   "source": [
    "Let's run:"
   ]
  },
  {
   "cell_type": "code",
   "execution_count": null,
   "id": "23f37167",
   "metadata": {},
   "outputs": [],
   "source": [
    "StandardHypoTestInvDemo(inputFile, workspaceName, modelConfigName, modelBName, dataName,\n",
    "                        calculatorType, testStatType,\n",
    "                        useCLs,\n",
    "                        npoints, poimin, poimax,\n",
    "                        ntoys,\n",
    "                        false, 0) // leave these two options like this"
   ]
  },
  {
   "cell_type": "markdown",
   "id": "c9bbaf23",
   "metadata": {},
   "source": [
    "Let's open the output"
   ]
  },
  {
   "cell_type": "code",
   "execution_count": null,
   "id": "64159615",
   "metadata": {},
   "outputs": [],
   "source": [
    "!ls -lhtr"
   ]
  },
  {
   "cell_type": "markdown",
   "id": "07aa5be2",
   "metadata": {},
   "source": [
    "Make sure you select the correct file - it's named based on the features of how you ran the limit, and a typical mistake is that of keeping opening the same old file."
   ]
  },
  {
   "cell_type": "code",
   "execution_count": null,
   "id": "adc806bc",
   "metadata": {},
   "outputs": [],
   "source": [
    "f = new TFile(\"Asym_CLs_grid_ts3_ATLASIT_prova_combined_ATLASIT_prova_model.root\");\n",
    "f->ls();"
   ]
  },
  {
   "cell_type": "markdown",
   "id": "64fa43f6",
   "metadata": {},
   "source": [
    "You may re-retrieve the results with"
   ]
  },
  {
   "cell_type": "code",
   "execution_count": null,
   "id": "eac0df5e",
   "metadata": {},
   "outputs": [],
   "source": [
    "result = dynamic_cast<RooStats::HypoTestInverterResult*>(f->Get(\"result_mu_ttH\"));\n",
    "cout << \"Lower limit: \" <<  result->LowerLimit() << \" +/-\" << result->LowerLimitEstimatedError() << endl;\n",
    "cout << \"Upper limit: \" <<  result->UpperLimit() << \" +/-\" << result->UpperLimitEstimatedError() << endl;\n",
    "cout << \"Median expected upper limit: \" << result->GetExpectedUpperLimit(0) << endl;\n",
    "cout << \"Median +1sigma expected upper limit: \" << result->GetExpectedUpperLimit(+1) << endl;\n",
    "cout << \"Median -1sigma expected upper limit: \" << result->GetExpectedUpperLimit(-1) << endl;"
   ]
  },
  {
   "cell_type": "markdown",
   "id": "72efc4d8",
   "metadata": {},
   "source": [
    "As you see, the lower limit is invalid (we ran an upper limit evaluation!).\n",
    "\n",
    "Let's plot the POI scan from which the limit is evaluated:"
   ]
  },
  {
   "cell_type": "code",
   "execution_count": null,
   "id": "6b38de98",
   "metadata": {},
   "outputs": [],
   "source": [
    "plot = new HypoTestInverterPlot(\"plot\", \"plot\", result);"
   ]
  },
  {
   "cell_type": "code",
   "execution_count": null,
   "id": "9b481a79",
   "metadata": {},
   "outputs": [],
   "source": [
    "c = new TCanvas();\n",
    "plot->Draw(\"CLb 2CL\"); // plot all and Clb\n",
    "c->Draw();"
   ]
  },
  {
   "cell_type": "markdown",
   "id": "64768c3c",
   "metadata": {},
   "source": [
    "As you can see, we picked the wrong POI scan (compare with the outputs of `asymptotics.ipynb`): it's very hard to see where the graph of the observed CLs intersects with the 0.05 horizontal line..."
   ]
  },
  {
   "cell_type": "markdown",
   "id": "18f8bf56",
   "metadata": {},
   "source": [
    "## Exercises\n",
    "\n",
    "- How meaningless! Let's try again with a better setting of the POI scan...\n",
    "- Once you got the correct scan, try moving to the frequentist calculator (i.e. toys, i.e. `calculatorType=0`)"
   ]
  },
  {
   "cell_type": "code",
   "execution_count": null,
   "id": "87341392",
   "metadata": {},
   "outputs": [],
   "source": []
  }
 ],
 "metadata": {
  "kernelspec": {
   "display_name": "ROOT C++",
   "language": "c++",
   "name": "root"
  },
  "language_info": {
   "codemirror_mode": "text/x-c++src",
   "file_extension": ".C",
   "mimetype": " text/x-c++src",
   "name": "c++"
  }
 },
 "nbformat": 4,
 "nbformat_minor": 5
}
