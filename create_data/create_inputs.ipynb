{
 "cells": [
  {
   "cell_type": "markdown",
   "id": "5b2a381d",
   "metadata": {},
   "source": [
    "# Simple creation of workspace inputs"
   ]
  },
  {
   "cell_type": "code",
   "execution_count": 1,
   "id": "5e01d351",
   "metadata": {},
   "outputs": [
    {
     "name": "stdout",
     "output_type": "stream",
     "text": [
      "Defaulting to user installation because normal site-packages is not writeable\n",
      "Requirement already satisfied: lmfit in /eos/home-v/vippolit/.local/lib/python3.9/site-packages (1.0.3)\n",
      "Requirement already satisfied: asteval>=0.9.22 in /eos/home-v/vippolit/.local/lib/python3.9/site-packages (from lmfit) (0.9.27)\n",
      "Requirement already satisfied: uncertainties>=3.0.1 in /cvmfs/sft.cern.ch/lcg/views/LCG_101swan/x86_64-centos7-gcc8-opt/lib/python3.9/site-packages (from lmfit) (3.1.2)\n",
      "Requirement already satisfied: numpy>=1.18 in /cvmfs/sft.cern.ch/lcg/views/LCG_101swan/x86_64-centos7-gcc8-opt/lib/python3.9/site-packages (from lmfit) (1.21.1)\n",
      "Requirement already satisfied: scipy>=1.4 in /cvmfs/sft.cern.ch/lcg/views/LCG_101swan/x86_64-centos7-gcc8-opt/lib/python3.9/site-packages (from lmfit) (1.7.0)\n"
     ]
    }
   ],
   "source": [
    "!pip install lmfit"
   ]
  },
  {
   "cell_type": "code",
   "execution_count": 2,
   "id": "8ac2a1ae",
   "metadata": {},
   "outputs": [
    {
     "name": "stdout",
     "output_type": "stream",
     "text": [
      "Welcome to JupyROOT 6.24/06\n"
     ]
    }
   ],
   "source": [
    "# Valerio Ippolito - INFN Sezione di Roma\n",
    "\n",
    "import ROOT\n",
    "import uuid\n",
    "import os"
   ]
  },
  {
   "cell_type": "code",
   "execution_count": 3,
   "id": "7e6461e9",
   "metadata": {},
   "outputs": [],
   "source": [
    "import numpy as np\n",
    "import matplotlib.pyplot as plt"
   ]
  },
  {
   "cell_type": "code",
   "execution_count": 4,
   "id": "20c198bf",
   "metadata": {},
   "outputs": [],
   "source": [
    "raw_data = [ # from CMS\n",
    "1.5945261367020767, 6.774581912586716, \n",
    "1.6113832877189376, 10.213080082305199, \n",
    "1.6339324593685813, 5.1036151013312505, \n",
    "1.665323385057881, 4.924071183320089, \n",
    "1.7075336532780474, 3.8402374332849734, \n",
    "1.7392384268596137, 3.785551073806536, \n",
    "1.7799431736026268, 3.1117731612435624, \n",
    "1.8142986311413785, 2.685186358449631, \n",
    "1.8539372245964403, 2.509333416072097, \n",
    "1.8961450318794015, 2.031380443756917, \n",
    "1.9369104524922722, 1.907040381245437, \n",
    "1.9824155432493917, 1.5414417521040236, \n",
    "2.023674370435357, 1.463858920944078, \n",
    "2.0724852771965625, 1.1502223853112163, \n",
    "2.1123493508827607, 1.1493967479045208, \n",
    "2.1553973140518945, 0.8513655176572652, \n",
    "2.1941826390848136, 0.8547886669726017, \n",
    "2.245534798312993, 0.7154528434427602, \n",
    "2.28511281368391, 0.6107501518859475, \n",
    "2.3338139754771583, 0.5626987400539565, \n",
    "2.3825680532547304, 0.4488193886514791, \n",
    "2.4348628380409347, 0.4170943727974063, \n",
    "2.492605819513943, 0.3472086131039164, \n",
    "2.5441714723894764, 0.3089564766092995, \n",
    "2.6057416235929782, 0.26431047118219964, \n",
    "2.658796967243513, 0.22752006815845957, \n",
    "2.718485796368768, 0.20497602785330604, \n",
    "2.7767321523719954, 0.17772344947814334, \n",
    "2.84049068178971, 0.1579233670048748, \n",
    "2.9031274781434804, 0.13110981905365462, \n",
    "2.968466588115957, 0.11665288430847782, \n",
    "3.0352762498723758, 0.0964942860725476, \n",
    "3.1022083407113086, 0.08666790124674673, \n",
    "3.1748532960450566, 0.06679458446141086, \n",
    "3.2419757149049917, 0.05960805098929722, \n",
    "3.3193708780838884, 0.04733931345795827, \n",
    "3.384648558065975, 0.042054443998819954, \n",
    "3.470466821253414, 0.0325867462696713, \n",
    "3.542261922596676, 0.028715193222693284, \n",
    "3.6268257699633724, 0.022499012084975283, \n",
    "3.7076274678659287, 0.0184797993102029, \n",
    "3.7932674741824677, 0.016136915913417763, \n",
    "3.871687468002966, 0.012805461837378487, \n",
    "3.9616052999594866, 0.010784329588491688, \n",
    "4.047767055116135, 0.007945373019512939, \n",
    "4.130067439735637, 0.006387741892713237, \n",
    "4.2297934287439505, 0.005062565190158038, \n",
    "4.302189419753594, 0.00510452100582867, \n",
    "4.386489789422147, 0.003078112730891864, \n",
    "4.463864673926383, 0.0030391655334750336, \n",
    "4.56807803974072, 0.0016766774694046283, \n",
    "4.650053009615509, 0.0017257155377280306, \n",
    "4.766841659181161, 0.0019566033313030366, \n",
    "4.843791662724673, 0.001999278737749049, \n",
    "4.9263580571354835, 0.000651360119404615, \n",
    "5.013809700474777, 0.0006478291752452424, \n",
    "5.1179882495209785, 0.0004816412836281495, \n",
    "5.21244109226914, 0.0004705275617889206, \n",
    "5.343399026808922, 0.00047252898841463416, \n",
    "5.42965626030763, 0.0004755471019663482, \n",
    "5.522209196420389, 0.00024331397786600718, \n",
    "5.584700666785488, 0.00017385163195635187, \n",
    "5.623992189739429, 0.0002626314400233126, \n",
    "5.737178669728404, 0.00013751242694707354, \n",
    "5.845764891463685, 0.00014698868148602698, \n",
    "5.8874763068942215, 0.00012718221045244306, \n",
    "6.005453011312794, 0.00014856908839241815, \n",
    "5.990291894352173, 0.00009477763627720359, \n",
    "6.093159125067489, 0.00016340828662853225, \n",
    "6.177742334289245, 0.000029904594237265562, \n",
    "6.23723175944406, 0.00003942202209980606, \n",
    "6.288171627290685, 0.000029044959718191262, \n",
    "6.640368345884062, 0.0000537410644789059, \n",
    "6.7249231384815475, 0.0000414233384576809, \n",
    "6.7571464365103715, 0.00005783656254366704, \n",
    "6.857554873343088, 0.00003470861141442978, \n",
    "8.011328074455147, 0.00004980660854317575, \n",
    "8.125024110193316, 0.00004874255908575144, \n",
    "]"
   ]
  },
  {
   "cell_type": "code",
   "execution_count": 5,
   "id": "5960fa4b",
   "metadata": {},
   "outputs": [],
   "source": [
    "data = np.array(raw_data).reshape(-1, 2)\n",
    "data[:, 0] = np.arange(1.59, 1.59+0.1 * data.shape[0], 0.1)"
   ]
  },
  {
   "cell_type": "code",
   "execution_count": 6,
   "id": "66556048",
   "metadata": {},
   "outputs": [
    {
     "name": "stdout",
     "output_type": "stream",
     "text": [
      "parameter names: ['p0', 'p1', 'p2', 'p3', 'p4']\n",
      "independent variables: ['x']\n"
     ]
    }
   ],
   "source": [
    "from lmfit import Model\n",
    "# https://cds.cern.ch/record/2803669/files/EXO-21-010-pas.pdf sec. 7, page 17\n",
    "\n",
    "def bkg_model(x, p0, p1, p2, p3, p4):\n",
    "    s = x / 13. # x / sqrt(s)\n",
    "    return p0 * np.power(1-np.power(s, 1/3.), p1) / np.power(s, p2 + p3 * np.log(x) + p4 * np.power(np.log(x), 2))\n",
    "\n",
    "def bkg_syst1(x, p0, p1, p2, p3, p4):\n",
    "    s = x / 13. # x / sqrt(s)\n",
    "    return p0 * np.power(1-s, p1) / np.power(s, p2 + p3 * np.log(x) + p4 * np.power(np.log(x), 2))\n",
    "\n",
    "def bkg_syst2(x, p0, p1, p2, p3, p4):\n",
    "    s = x / 13. # x / sqrt(s)\n",
    "    return p0 * np.exp(-p1* s -p2*np.power(x, 2) - p3 * np.power(x, 3)) / np.power(s, p4)\n",
    "\n",
    "bmodel = Model(bkg_model)\n",
    "print(f'parameter names: {bmodel.param_names}')\n",
    "print(f'independent variables: {bmodel.independent_vars}')\n"
   ]
  },
  {
   "cell_type": "code",
   "execution_count": 7,
   "id": "d5330307",
   "metadata": {},
   "outputs": [
    {
     "name": "stdout",
     "output_type": "stream",
     "text": [
      "[[Model]]\n",
      "    Model(bkg_model)\n",
      "[[Fit Statistics]]\n",
      "    # fitting method   = leastsq\n",
      "    # function evals   = 143\n",
      "    # data points      = 78\n",
      "    # variables        = 5\n",
      "    chi-square         = 13.9866100\n",
      "    reduced chi-square = 0.19159740\n",
      "    Akaike info crit   = -124.051454\n",
      "    Bayesian info crit = -112.267910\n",
      "##  Warning: uncertainties could not be estimated:\n",
      "    p0:  at boundary\n",
      "    p4:  at initial value\n",
      "    p4:  at boundary\n",
      "[[Variables]]\n",
      "    p0:  9.7230e-09 (init = 6e-08)\n",
      "    p1:  0.70816201 (init = 1)\n",
      "    p2:  8.83090495 (init = 8)\n",
      "    p3:  1.64098121 (init = 1.5)\n",
      "    p4:  2.00000000 (init = 2)\n"
     ]
    }
   ],
   "source": [
    "yfit = data[:,1]#[data[:,0] > 5]\n",
    "xfit = data[:,0]#[data[:,0] > 5]\n",
    "#params = bmodel.guess(yfit, x=xfit)\n",
    "bmodel.set_param_hint('p0', min=0.)\n",
    "bmodel.set_param_hint('p1', min=0.)\n",
    "bmodel.set_param_hint('p2', min=0.)\n",
    "bmodel.set_param_hint('p3', min=0.5)\n",
    "bmodel.set_param_hint('p4', min=2)\n",
    "params = bmodel.make_params(p0=6e-8, p1=1, p2=8, p3=1.5, p4=2)\n",
    "res = bmodel.fit(yfit, params, x=xfit) # this may fail before the plot - investigate the binning then...\n",
    "print(res.fit_report())"
   ]
  },
  {
   "cell_type": "code",
   "execution_count": 8,
   "id": "b3f11a28",
   "metadata": {},
   "outputs": [],
   "source": [
    "def signal(x, A, mass, reso):\n",
    "    z = (x-mass)/reso\n",
    "    return A / (np.sqrt(2 * np.pi) * reso) * np.exp(-np.power(z, 2)/2.)"
   ]
  },
  {
   "cell_type": "code",
   "execution_count": 9,
   "id": "bfb0ffad",
   "metadata": {},
   "outputs": [
    {
     "data": {
      "text/plain": [
       "(1e-08, 10.0)"
      ]
     },
     "execution_count": 9,
     "metadata": {},
     "output_type": "execute_result"
    },
    {
     "data": {
      "image/png": "[encoded data removed]",
      "text/plain": [
       "<Figure size 432x288 with 1 Axes>"
      ]
     },
     "metadata": {
      "needs_background": "light"
     },
     "output_type": "display_data"
    }
   ],
   "source": [
    "plt.scatter(data[:,0], data[:,1])\n",
    "plt.scatter(data[:,0], bmodel.eval(params, x=data[:,0]))\n",
    "plt.scatter(data[:,0], signal(x=data[:,0], A=0.0001, mass=8, reso=0.1*8), label='signal')\n",
    "plt.scatter(data[:,0], signal(x=data[:,0], A=0.0001, mass=8, reso=0.12*8), label='+1$\\sigma$ reso')\n",
    "plt.scatter(data[:,0], signal(x=data[:,0], A=0.0001, mass=8, reso=0.08*8), label='-1$\\sigma$ reso')\n",
    "plt.scatter(data[:,0], signal(x=data[:,0], A=0.0001, mass=8*1.02, reso=0.1*8), label='+1$\\sigma$ scale')\n",
    "plt.scatter(data[:,0], signal(x=data[:,0], A=0.0001, mass=8*0.98, reso=0.1*8), label='+1$\\sigma$ scale')\n",
    "plt.yscale('log')\n",
    "plt.xscale('log')\n",
    "plt.ylim(1e-8,1e1)"
   ]
  },
  {
   "cell_type": "markdown",
   "id": "1c3083c9",
   "metadata": {},
   "source": [
    "Let's define a couple of common-sense functions to deal with histograms"
   ]
  },
  {
   "cell_type": "code",
   "execution_count": 3,
   "id": "ebb501c7",
   "metadata": {},
   "outputs": [],
   "source": [
    "def printHisto(original):\n",
    "  for i in xrange(0, original.GetNbinsX()+2):\n",
    "    print (i, original.GetXaxis().GetBinLowEdge(i), original.GetBinContent(i))\n",
    "\n",
    "def getTruncatedHisto(original, start, end, single_bin=False):\n",
    "  # store pre-edit info\n",
    "  n_bins_old = original.GetNbinsX()\n",
    "\n",
    "  # determine new histogram edges\n",
    "  first_bin = original.GetXaxis().FindBin(start)\n",
    "  first_x = original.GetXaxis().GetBinLowEdge(first_bin)\n",
    "  last_bin = original.GetXaxis().FindBin(end)\n",
    "  last_x = min(original.GetXaxis().GetBinUpEdge(n_bins_old + 1), original.GetXaxis().GetBinUpEdge(last_bin))\n",
    "\n",
    "  if not single_bin:\n",
    "    # simply truncate the original histogram\n",
    "    n_bins_new = last_bin - first_bin + 1\n",
    "  else:\n",
    "    # integrate the original histogram from first_x to last_x\n",
    "    n_bins_new = 1\n",
    "\n",
    "\n",
    "  # create the new histogram\n",
    "  result = ROOT.TH1F('%s_trunc' % original.GetName(),\n",
    "                     '%s_trunc' % original.GetTitle(),\n",
    "                     n_bins_new,\n",
    "                     first_x,\n",
    "                     last_x)\n",
    "\n",
    "  errorVal = ROOT.Double(0)\n",
    "\n",
    "  # underflow\n",
    "  result.SetBinContent(0, original.IntegralAndError(0, first_bin - 1, errorVal))\n",
    "  result.SetBinError(0, errorVal)\n",
    "\n",
    "  # bulk\n",
    "  if not single_bin:\n",
    "    for i in xrange(1, n_bins_new + 1):\n",
    "      result.SetBinContent(i, original.GetBinContent(first_bin + i - 1))\n",
    "      result.SetBinError(i, original.GetBinError(first_bin + i - 1))\n",
    "  else:\n",
    "    result.SetBinContent(1, original.IntegralAndError(first_bin, last_bin, errorVal))\n",
    "    result.SetBinError(1, errorVal)\n",
    "\n",
    "  # overflow\n",
    "  result.SetBinContent(n_bins_new + 1, original.IntegralAndError(last_bin + 1, n_bins_old + 1, errorVal))\n",
    "  result.SetBinError(n_bins_new + 1, errorVal)\n",
    "\n",
    "  return result"
   ]
  },
  {
   "cell_type": "code",
   "execution_count": null,
   "id": "c0e2e7f1",
   "metadata": {},
   "outputs": [],
   "source": []
  },
  {
   "cell_type": "code",
   "execution_count": null,
   "id": "1886979f",
   "metadata": {},
   "outputs": [],
   "source": [
    "\n",
    "  histonamemap = {\n",
    "    'data' : 'hNe',\n",
    "    'bkg'  : 'hNeSum_1_2_3',\n",
    "    'sig'  : 'hPDF_DM3%d' % imass,\n",
    "  }\n",
    "  histocolormap = {\n",
    "    'data' : ROOT.kBlack,\n",
    "    'bkg'  : ROOT.kBlue+1,\n",
    "    'sig'  : ROOT.kRed,\n",
    "  }\n",
    "  scale_factors = {\n",
    "    'bkg' : exposure,\n",
    "    'sig' : exposure,\n",
    "  }\n",
    "  input_file = 'Histo_for_Marco.root'\n",
    "  output_file = 'histos_%d' % mass[imass]\n",
    "  rebin = None\n",
    "  save_plot = False\n",
    "  plotfile = 'plots/spectrum_%s.png' % massstr\n",
    "\n",
    "  getHistograms(input_file=input_file, histonamemap=histonamemap, output_file=output_file, rebin=rebin, save_plot=save_plot)\n",
    "\n",
    "\n",
    "    # create measurement\n",
    "    meas = ROOT.RooStats.HistFactory.Measurement('DS_%s' % mass, 'DS_%s' % mass)\n",
    "    meas.SetOutputFilePrefix('./ws/example_DS_%s' % mass)\n",
    "    meas.SetPOI('mu')\n",
    "    meas.AddConstantParam('Lumi')\n",
    "    meas.SetLumi(1.0)\n",
    "    meas.SetLumiRelErr(0.0)\n",
    "    meas.SetExportOnly(True)\n",
    "\n",
    "    # create channel\n",
    "    chan = ROOT.RooStats.HistFactory.Channel('S2only')\n",
    "    chan.SetData('data', histo_filename)\n",
    "    chan.SetStatErrorConfig(0.05, 'Poisson')\n",
    "\n",
    "    # create signal\n",
    "    signal = ROOT.RooStats.HistFactory.Sample('sig', 'sig', histo_filename)\n",
    "    signal.SetNormalizeByTheory(False)\n",
    "    for sysname, sysvalue in norm_sys['sig']: \n",
    "      signal.AddOverallSys(sysname, 1.0 - sysvalue, 1.0 + sysvalue)\n",
    "    signal.AddNormFactor('mu', 0, 0, 20)\n",
    "    signal.GetStatError().Activate(False)\n",
    "    #meas.AddConstantParam('yield_Signal')\n",
    "    chan.AddSample(signal)\n",
    "\n",
    "    # create background\n",
    "    background = ROOT.RooStats.HistFactory.Sample('bkg', 'bkg', histo_filename)\n",
    "    background.SetNormalizeByTheory(False)\n",
    "    if freeBkg: background.AddNormFactor('mu_bkg', 1, 0, 20)\n",
    "    for sysname, sysvalue in norm_sys['bkg']: \n",
    "      background.AddOverallSys(sysname, 1.0 - sysvalue, 1.0 + sysvalue)\n",
    "    background.GetStatError().Activate(False)\n",
    "    #meas.AddConstantParam('yield_Signal')\n",
    "    chan.AddSample(background)\n",
    "\n",
    "    # add channel to measurement\n",
    "    meas.AddChannel(chan)\n",
    "    meas.CollectHistograms()\n",
    "    meas.PrintTree()\n",
    "    meas.PrintXML('xml', meas.GetOutputFilePrefix())\n",
    "\n",
    "    ROOT.RooStats.HistFactory.MakeModelAndMeasurementFast(meas)\n",
    "\n",
    "  finally:\n",
    "    \n",
    "    pass\n",
    "    #os.remove(filename) ## to be used if using str(uuid.uuid4()) as filename"
   ]
  },
  {
   "cell_type": "code",
   "execution_count": null,
   "id": "57737f16",
   "metadata": {},
   "outputs": [],
   "source": [
    "if __name__ == '__main__':"
   ]
  },
  {
   "cell_type": "code",
   "execution_count": null,
   "id": "8b968b17",
   "metadata": {},
   "outputs": [],
   "source": []
  },
  {
   "cell_type": "code",
   "execution_count": null,
   "id": "4c88e6d9",
   "metadata": {},
   "outputs": [],
   "source": [
    "norm_sys = {\n",
    "    'sig' : [],\n",
    "    'bkg' : [ ('unc', 0.15) ],\n",
    "  }\n",
    "\n",
    "  if options.run == 'run1':\n",
    "    start = 4\n",
    "    end = 20\n",
    "    single_bin = False\n",
    "    freeBkg = False\n",
    "    rebin = False\n",
    "  \n",
    "  signals = [\n",
    "    0.8, 0.825, 0.85, 0.875, 0.9, 0.925, 0.95, 0.975, 1, 1.025,\n",
    "    1.05, 1.075, 1.1, 1.15, 1.2, 1.25, 1.3, 1.35, 1.4, 1.45,\n",
    "    1.5, 1.75, 2.0, 2.25, 2.5, 2.75, 3., 3.25, 3.5, 3.75,\n",
    "    4.0, 4.25, 4.5, 4.75, 5., 5.5, 6.0, 6.5, 7., 7.5,\n",
    "    8.0, 8.5, 9., 9.5, 10.0, 10.75, 12.5, 15., 17.5, 20.,\n",
    "  ]\n",
    "\n",
    "  for signal_number, mass_raw in enumerate(signals):\n",
    "    # use correct histogram names for this signal hypothesis\n",
    "    hname = {\n",
    "      'data' : 'hNe',\n",
    "      'sig' : ('hPDF_DM3%d' % signal_number),\n",
    "      'bkg' : 'hNeSum_1_2_3',\n",
    "    }\n",
    "\n",
    "    mass = (('%06.3f' % mass_raw).replace('.', 'p'))\n",
    "\n",
    "    process(hname=hname, norm_factor=norm_factor, norm_sys=norm_sys, start=start, end=end, rootfile=rootfile, signal_number=signal_number, mass=mass, single_bin=single_bin, freeBkg=freeBkg, rebin=rebin)"
   ]
  }
 ],
 "metadata": {
  "kernelspec": {
   "display_name": "Python 3",
   "language": "python",
   "name": "python3"
  },
  "language_info": {
   "codemirror_mode": {
    "name": "ipython",
    "version": 3
   },
   "file_extension": ".py",
   "mimetype": "text/x-python",
   "name": "python",
   "nbconvert_exporter": "python",
   "pygments_lexer": "ipython3",
   "version": "3.9.6"
  }
 },
 "nbformat": 4,
 "nbformat_minor": 5
}
