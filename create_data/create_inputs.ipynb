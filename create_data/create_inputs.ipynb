{
 "cells": [
  {
   "cell_type": "markdown",
   "id": "5b2a381d",
   "metadata": {},
   "source": [
    "# Simple creation of workspace inputs"
   ]
  },
  {
   "cell_type": "markdown",
   "id": "af5b1217",
   "metadata": {},
   "source": [
    "_Valerio Ippolito - INFN Sezione di Roma_"
   ]
  },
  {
   "cell_type": "markdown",
   "id": "bc125f49",
   "metadata": {},
   "source": [
    "This is a very simple tutorial on how to create a tutorial (more properly: a decent statistical analysis example) starting from someone else's paper"
   ]
  },
  {
   "cell_type": "markdown",
   "id": "13a62497",
   "metadata": {},
   "source": [
    "We'll take as an example a plot from CMS (some version of a dijet-like analysis with an excess in the tails) and digitize it, fit a couple of background models to it, invent a couple of gaussian signals and argue that their modification can work as a proxy for systematics. And stuff like that."
   ]
  },
  {
   "cell_type": "markdown",
   "id": "606257e9",
   "metadata": {},
   "source": [
    "We won't use ROOT for the marvellous task of fitting, but rather python's `lmfit`:"
   ]
  },
  {
   "cell_type": "code",
   "execution_count": 1,
   "id": "5e01d351",
   "metadata": {},
   "outputs": [
    {
     "name": "stdout",
     "output_type": "stream",
     "text": [
      "Defaulting to user installation because normal site-packages is not writeable\n",
      "Requirement already satisfied: lmfit in /eos/home-v/vippolit/.local/lib/python3.9/site-packages (1.0.3)\n",
      "Requirement already satisfied: uncertainties>=3.0.1 in /cvmfs/sft.cern.ch/lcg/views/LCG_101swan/x86_64-centos7-gcc8-opt/lib/python3.9/site-packages (from lmfit) (3.1.2)\n",
      "Requirement already satisfied: asteval>=0.9.22 in /eos/home-v/vippolit/.local/lib/python3.9/site-packages (from lmfit) (0.9.27)\n",
      "Requirement already satisfied: scipy>=1.4 in /cvmfs/sft.cern.ch/lcg/views/LCG_101swan/x86_64-centos7-gcc8-opt/lib/python3.9/site-packages (from lmfit) (1.7.0)\n",
      "Requirement already satisfied: numpy>=1.18 in /cvmfs/sft.cern.ch/lcg/views/LCG_101swan/x86_64-centos7-gcc8-opt/lib/python3.9/site-packages (from lmfit) (1.21.1)\n"
     ]
    }
   ],
   "source": [
    "!pip install lmfit"
   ]
  },
  {
   "cell_type": "code",
   "execution_count": 2,
   "id": "7e6461e9",
   "metadata": {},
   "outputs": [],
   "source": [
    "import numpy as np\n",
    "import matplotlib.pyplot as plt"
   ]
  },
  {
   "cell_type": "markdown",
   "id": "43e772c6",
   "metadata": {},
   "source": [
    "The art of digitizing is better taughts by Theorists, who provided us with https://apps.automeris.io/wpd/ and other nicely intuitive tools to extract points from plots.\n",
    "The plot we are referring to is from the appendix of http://cds.cern.ch/record/2803669"
   ]
  },
  {
   "cell_type": "code",
   "execution_count": 3,
   "id": "20c198bf",
   "metadata": {},
   "outputs": [],
   "source": [
    "raw_data = [ # from CMS\n",
    "1.5945261367020767, 6.774581912586716, \n",
    "1.6113832877189376, 10.213080082305199, \n",
    "1.6339324593685813, 5.1036151013312505, \n",
    "1.665323385057881, 4.924071183320089, \n",
    "1.7075336532780474, 3.8402374332849734, \n",
    "1.7392384268596137, 3.785551073806536, \n",
    "1.7799431736026268, 3.1117731612435624, \n",
    "1.8142986311413785, 2.685186358449631, \n",
    "1.8539372245964403, 2.509333416072097, \n",
    "1.8961450318794015, 2.031380443756917, \n",
    "1.9369104524922722, 1.907040381245437, \n",
    "1.9824155432493917, 1.5414417521040236, \n",
    "2.023674370435357, 1.463858920944078, \n",
    "2.0724852771965625, 1.1502223853112163, \n",
    "2.1123493508827607, 1.1493967479045208, \n",
    "2.1553973140518945, 0.8513655176572652, \n",
    "2.1941826390848136, 0.8547886669726017, \n",
    "2.245534798312993, 0.7154528434427602, \n",
    "2.28511281368391, 0.6107501518859475, \n",
    "2.3338139754771583, 0.5626987400539565, \n",
    "2.3825680532547304, 0.4488193886514791, \n",
    "2.4348628380409347, 0.4170943727974063, \n",
    "2.492605819513943, 0.3472086131039164, \n",
    "2.5441714723894764, 0.3089564766092995, \n",
    "2.6057416235929782, 0.26431047118219964, \n",
    "2.658796967243513, 0.22752006815845957, \n",
    "2.718485796368768, 0.20497602785330604, \n",
    "2.7767321523719954, 0.17772344947814334, \n",
    "2.84049068178971, 0.1579233670048748, \n",
    "2.9031274781434804, 0.13110981905365462, \n",
    "2.968466588115957, 0.11665288430847782, \n",
    "3.0352762498723758, 0.0964942860725476, \n",
    "3.1022083407113086, 0.08666790124674673, \n",
    "3.1748532960450566, 0.06679458446141086, \n",
    "3.2419757149049917, 0.05960805098929722, \n",
    "3.3193708780838884, 0.04733931345795827, \n",
    "3.384648558065975, 0.042054443998819954, \n",
    "3.470466821253414, 0.0325867462696713, \n",
    "3.542261922596676, 0.028715193222693284, \n",
    "3.6268257699633724, 0.022499012084975283, \n",
    "3.7076274678659287, 0.0184797993102029, \n",
    "3.7932674741824677, 0.016136915913417763, \n",
    "3.871687468002966, 0.012805461837378487, \n",
    "3.9616052999594866, 0.010784329588491688, \n",
    "4.047767055116135, 0.007945373019512939, \n",
    "4.130067439735637, 0.006387741892713237, \n",
    "4.2297934287439505, 0.005062565190158038, \n",
    "4.302189419753594, 0.00510452100582867, \n",
    "4.386489789422147, 0.003078112730891864, \n",
    "4.463864673926383, 0.0030391655334750336, \n",
    "4.56807803974072, 0.0016766774694046283, \n",
    "4.650053009615509, 0.0017257155377280306, \n",
    "4.766841659181161, 0.0019566033313030366, \n",
    "4.843791662724673, 0.001999278737749049, \n",
    "4.9263580571354835, 0.000651360119404615, \n",
    "5.013809700474777, 0.0006478291752452424, \n",
    "5.1179882495209785, 0.0004816412836281495, \n",
    "5.21244109226914, 0.0004705275617889206, \n",
    "5.343399026808922, 0.00047252898841463416, \n",
    "5.42965626030763, 0.0004755471019663482, \n",
    "5.522209196420389, 0.00024331397786600718, \n",
    "5.584700666785488, 0.00017385163195635187, \n",
    "5.623992189739429, 0.0002626314400233126, \n",
    "5.737178669728404, 0.00013751242694707354, \n",
    "5.845764891463685, 0.00014698868148602698, \n",
    "5.8874763068942215, 0.00012718221045244306, \n",
    "6.005453011312794, 0.00014856908839241815, \n",
    "5.990291894352173, 0.00009477763627720359, \n",
    "6.093159125067489, 0.00016340828662853225, \n",
    "6.177742334289245, 0.000029904594237265562, \n",
    "6.23723175944406, 0.00003942202209980606, \n",
    "6.288171627290685, 0.000029044959718191262, \n",
    "6.640368345884062, 0.0000537410644789059, \n",
    "6.7249231384815475, 0.0000414233384576809, \n",
    "6.7571464365103715, 0.00005783656254366704, \n",
    "6.857554873343088, 0.00003470861141442978, \n",
    "8.011328074455147, 0.00004980660854317575, \n",
    "8.125024110193316, 0.00004874255908575144, \n",
    "]"
   ]
  },
  {
   "cell_type": "markdown",
   "id": "99390871",
   "metadata": {},
   "source": [
    "This was merely a cut-and-paste (after the operation of add-the-commas) from the plot digitizer. We actually prefer to use evenly-spaced x-axis values, and to deal with a matrix, so:"
   ]
  },
  {
   "cell_type": "code",
   "execution_count": 4,
   "id": "5960fa4b",
   "metadata": {},
   "outputs": [],
   "source": [
    "data = np.array(raw_data).reshape(-1, 2)\n",
    "data[:, 0] = np.arange(1.59, 1.59+0.1 * data.shape[0], 0.1)"
   ]
  },
  {
   "cell_type": "markdown",
   "id": "ef490298",
   "metadata": {},
   "source": [
    "There is a complete literature on fitting dijet-like shapes; its summary is provided by the three fit functions CMS tried to use for their plot. Let's implement them in python, and choose one of them to create an `lmfit` likelihood model."
   ]
  },
  {
   "cell_type": "code",
   "execution_count": 5,
   "id": "66556048",
   "metadata": {},
   "outputs": [
    {
     "name": "stdout",
     "output_type": "stream",
     "text": [
      "parameter names: ['p0', 'p1', 'p2', 'p3', 'p4']\n",
      "independent variables: ['x']\n"
     ]
    }
   ],
   "source": [
    "from lmfit import Model\n",
    "# https://cds.cern.ch/record/2803669/files/EXO-21-010-pas.pdf sec. 7, page 17\n",
    "\n",
    "def bkg_model(x, p0, p1, p2, p3, p4):\n",
    "    s = x / 13. # x / sqrt(s)\n",
    "    return p0 * np.power(1-np.power(s, 1/3.), p1) / np.power(s, p2 + p3 * np.log(x) + p4 * np.power(np.log(x), 2))\n",
    "\n",
    "def bkg_syst1(x, p0, p1, p2, p3, p4):\n",
    "    s = x / 13. # x / sqrt(s)\n",
    "    return p0 * np.power(1-s, p1) / np.power(s, p2 + p3 * np.log(x) + p4 * np.power(np.log(x), 2))\n",
    "\n",
    "def bkg_syst2(x, p0, p1, p2, p3, p4):\n",
    "    s = x / 13. # x / sqrt(s)\n",
    "    return p0 * np.exp(-p1* s -p2*np.power(x, 2) - p3 * np.power(x, 3)) / np.power(s, p4)\n",
    "\n",
    "bmodel = Model(bkg_model)\n",
    "print(f'parameter names: {bmodel.param_names}')\n",
    "print(f'independent variables: {bmodel.independent_vars}')\n"
   ]
  },
  {
   "cell_type": "markdown",
   "id": "822dba28",
   "metadata": {},
   "source": [
    "Fitting in `lmfit` is somehow a better experience than in MINUIT, yet a painful one: without initial guesses or boundaries, you have no hope to get a reasonable result."
   ]
  },
  {
   "cell_type": "code",
   "execution_count": 6,
   "id": "d5330307",
   "metadata": {},
   "outputs": [
    {
     "name": "stdout",
     "output_type": "stream",
     "text": [
      "[[Model]]\n",
      "    Model(bkg_model)\n",
      "[[Fit Statistics]]\n",
      "    # fitting method   = leastsq\n",
      "    # function evals   = 143\n",
      "    # data points      = 78\n",
      "    # variables        = 5\n",
      "    chi-square         = 13.9866100\n",
      "    reduced chi-square = 0.19159740\n",
      "    Akaike info crit   = -124.051454\n",
      "    Bayesian info crit = -112.267910\n",
      "##  Warning: uncertainties could not be estimated:\n",
      "    p0:  at boundary\n",
      "    p4:  at initial value\n",
      "    p4:  at boundary\n",
      "[[Variables]]\n",
      "    p0:  9.7230e-09 (init = 6e-08)\n",
      "    p1:  0.70816201 (init = 1)\n",
      "    p2:  8.83090495 (init = 8)\n",
      "    p3:  1.64098121 (init = 1.5)\n",
      "    p4:  2.00000000 (init = 2)\n"
     ]
    }
   ],
   "source": [
    "yfit = data[:,1]#[data[:,0] > 5]\n",
    "xfit = data[:,0]#[data[:,0] > 5]\n",
    "#params = bmodel.guess(yfit, x=xfit)\n",
    "bmodel.set_param_hint('p0', min=0.)\n",
    "bmodel.set_param_hint('p1', min=0.)\n",
    "bmodel.set_param_hint('p2', min=0.)\n",
    "bmodel.set_param_hint('p3', min=0.5)\n",
    "bmodel.set_param_hint('p4', min=2)\n",
    "params = bmodel.make_params(p0=6e-8, p1=1, p2=8, p3=1.5, p4=2) # never put this line before all parameter hints were stated, or they shall be ignored\n",
    "res = bmodel.fit(yfit, params, x=xfit) # this may fail before the plot - investigate the binning then...\n",
    "print(res.fit_report())"
   ]
  },
  {
   "cell_type": "markdown",
   "id": "5557e4c2",
   "metadata": {},
   "source": [
    "Life gives us a hard time at imagining better signal models than gaussians:"
   ]
  },
  {
   "cell_type": "code",
   "execution_count": 7,
   "id": "b3f11a28",
   "metadata": {},
   "outputs": [],
   "source": [
    "def signal(x, A, mass, reso):\n",
    "    z = (x-mass)/reso\n",
    "    return A / (np.sqrt(2 * np.pi) * reso) * np.exp(-np.power(z, 2)/2.)"
   ]
  },
  {
   "cell_type": "markdown",
   "id": "9575bb0d",
   "metadata": {},
   "source": [
    "Plotting, or: the moment in which dreams become alive. We superimpose to the data the fitted background spectrum, the signal and some variations of it."
   ]
  },
  {
   "cell_type": "code",
   "execution_count": 8,
   "id": "bfb0ffad",
   "metadata": {},
   "outputs": [
    {
     "data": {
      "text/plain": [
       "<matplotlib.legend.Legend at 0x7f0bd4935580>"
      ]
     },
     "execution_count": 8,
     "metadata": {},
     "output_type": "execute_result"
    },
    {
     "data": {
      "image/png": "[encoded data removed]",
      "text/plain": [
       "<Figure size 432x288 with 1 Axes>"
      ]
     },
     "metadata": {
      "needs_background": "light"
     },
     "output_type": "display_data"
    }
   ],
   "source": [
    "plt.scatter(data[:,0], data[:,1])\n",
    "plt.scatter(data[:,0], bmodel.eval(params, x=data[:,0])) # this is how you evaluate the bkg function using its best-fit parameters\n",
    "plt.scatter(data[:,0], signal(x=data[:,0], A=0.0001, mass=8, reso=0.1*8), label='signal')\n",
    "plt.scatter(data[:,0], signal(x=data[:,0], A=0.0001, mass=8, reso=0.12*8), label='+1$\\sigma$ reso')\n",
    "plt.scatter(data[:,0], signal(x=data[:,0], A=0.0001, mass=8, reso=0.08*8), label='-1$\\sigma$ reso')\n",
    "plt.scatter(data[:,0], signal(x=data[:,0], A=0.0001, mass=8*1.02, reso=0.1*8), label='+1$\\sigma$ scale')\n",
    "plt.scatter(data[:,0], signal(x=data[:,0], A=0.0001, mass=8*0.98, reso=0.1*8), label='+1$\\sigma$ scale')\n",
    "plt.yscale('log')\n",
    "plt.xscale('log')\n",
    "plt.xlabel('$m_{4j}$ [TeV]')\n",
    "plt.ylabel('d$\\sigma$/d$m_{4j}$ [pb/TeV]')\n",
    "plt.title('Fig. 14 from CMS PAS EXO-21-010')\n",
    "plt.ylim(1e-8,1e1)\n",
    "plt.legend()"
   ]
  },
  {
   "cell_type": "markdown",
   "id": "be4b9c6a",
   "metadata": {},
   "source": [
    "We lied! We need ROOT (or at least _we'll use ROOT_) to create ROOT histograms"
   ]
  },
  {
   "cell_type": "code",
   "execution_count": 9,
   "id": "464fe409",
   "metadata": {},
   "outputs": [
    {
     "name": "stdout",
     "output_type": "stream",
     "text": [
      "Welcome to JupyROOT 6.24/06\n"
     ]
    }
   ],
   "source": [
    "import ROOT"
   ]
  },
  {
   "cell_type": "markdown",
   "id": "c5b5310b",
   "metadata": {},
   "source": [
    "We first open the file which will then automatically contain all our histograms (otherwise, we'll have to call `SetDirectory` on each of them)"
   ]
  },
  {
   "cell_type": "code",
   "execution_count": 10,
   "id": "f4708b45",
   "metadata": {},
   "outputs": [],
   "source": [
    "f = ROOT.TFile.Open('mytest.root', 'RECREATE')"
   ]
  },
  {
   "cell_type": "markdown",
   "id": "69d60e95",
   "metadata": {},
   "source": [
    "We then create a convenience function to fill a histogram based on a set of data:"
   ]
  },
  {
   "cell_type": "code",
   "execution_count": 11,
   "id": "af812fa6",
   "metadata": {},
   "outputs": [],
   "source": [
    "def create_histo(name, data, bins, xmin, xmax):\n",
    "    h = ROOT.TH1F(f'h_{name}', name, bins, xmin, xmax)\n",
    "    for i in range(1, h.GetNbinsX()+1):\n",
    "        h.SetBinContent(i, data[i-1])\n",
    "    return h"
   ]
  },
  {
   "cell_type": "markdown",
   "id": "d6fa2514",
   "metadata": {},
   "source": [
    "We do some rescaling as the spectrum we fitted is technically a $d\\sigma/dm_{4l}$ spectrum, and not the distribution of the number of events in $m_{4l}$:"
   ]
  },
  {
   "cell_type": "code",
   "execution_count": 12,
   "id": "7597c231",
   "metadata": {},
   "outputs": [
    {
     "name": "stderr",
     "output_type": "stream",
     "text": [
      "Warning in <TFile::Append>: Replacing existing TH1: h_sig_reso_p1 (Potential memory leak).\n",
      "Warning in <TFile::Append>: Replacing existing TH1: h_sig_reso_m1 (Potential memory leak).\n"
     ]
    }
   ],
   "source": [
    "lumi = 1000 # in the magic world in which A x eff = 1\n",
    "\n",
    "n_bins = data.shape[0]\n",
    "xmin = data[0, 0]\n",
    "xmax = data[-1, 0]\n",
    "h_data = create_histo('data', lumi * data[:, 1], n_bins, xmin, xmax)\n",
    "h_bkg  = create_histo('bkg_nominal', lumi * bmodel.eval(params, x=data[:,0]), n_bins, xmin, xmax)\n",
    "h_sig  = create_histo('sig_nominal', lumi * signal(x=data[:,0], A=0.0001, mass=8, reso=0.1*8), n_bins, xmin, xmax)\n",
    "h_sig_reso_p1  = create_histo('sig_reso_p1', lumi * signal(x=data[:,0], A=0.0001, mass=8, reso=0.15*8), n_bins, xmin, xmax)\n",
    "h_sig_reso_m1  = create_histo('sig_reso_m1', lumi * signal(x=data[:,0], A=0.0001, mass=8, reso=0.05*8), n_bins, xmin, xmax)\n",
    "h_sig_scale_p1 = create_histo('sig_reso_p1', lumi * signal(x=data[:,0], A=0.0001, mass=(8*1.1), reso=0.1*(8*1.1)), n_bins, xmin, xmax)\n",
    "h_sig_scale_m1 = create_histo('sig_reso_m1', lumi * signal(x=data[:,0], A=0.0001, mass=(8*0.9), reso=0.1*(8*0.9)), n_bins, xmin, xmax)"
   ]
  },
  {
   "cell_type": "markdown",
   "id": "88a5a8af",
   "metadata": {},
   "source": [
    "Let's make sure our plot makes sense"
   ]
  },
  {
   "cell_type": "code",
   "execution_count": 13,
   "id": "f4de90de",
   "metadata": {},
   "outputs": [
    {
     "data": {
      "image/png": "[encoded data removed]",
      "text/plain": [
       "<IPython.core.display.Image object>"
      ]
     },
     "metadata": {},
     "output_type": "display_data"
    }
   ],
   "source": [
    "c = ROOT.TCanvas()\n",
    "\n",
    "h_data.Draw('pe')\n",
    "h_data.SetMarkerStyle(20)\n",
    "h_data.SetMarkerColor(ROOT.kBlack)\n",
    "h_data.SetTitle('Fig. 14 from CMS PAS EXO-21-010')\n",
    "\n",
    "h_sig.SetLineColor(ROOT.kRed)\n",
    "h_sig.Draw('hist same')\n",
    "h_sig_reso_p1.SetLineColor(ROOT.kRed+3)\n",
    "h_sig_reso_p1.Draw('hist same')\n",
    "h_sig_scale_p1.SetLineColor(ROOT.kRed-3)\n",
    "h_sig_scale_p1.Draw('hist same')\n",
    "h_sig_reso_m1.SetLineColor(ROOT.kRed+3)\n",
    "h_sig_reso_m1.Draw('hist same')\n",
    "h_sig_scale_m1.SetLineColor(ROOT.kRed-3)\n",
    "h_sig_scale_m1.Draw('hist same')\n",
    "\n",
    "\n",
    "h_bkg.SetLineColor(ROOT.kBlue+1)\n",
    "h_bkg.Draw('hist same')\n",
    "\n",
    "h_data.GetXaxis().SetTitle('m_{4j} [TeV]')\n",
    "h_data.GetYaxis().SetTitle('d#sigma/dm_{4j} [pb/TeV]')\n",
    "c.SetLogx()\n",
    "c.SetLogy()\n",
    "c.Draw()"
   ]
  },
  {
   "cell_type": "markdown",
   "id": "6abff624",
   "metadata": {},
   "source": [
    "Finally, we write to file the histograms, for subsequent use in the creation of the workspace:"
   ]
  },
  {
   "cell_type": "code",
   "execution_count": 14,
   "id": "be212b13",
   "metadata": {},
   "outputs": [],
   "source": [
    "f.Write()\n",
    "f.Close()"
   ]
  },
  {
   "cell_type": "code",
   "execution_count": null,
   "id": "d67257aa",
   "metadata": {},
   "outputs": [],
   "source": []
  }
 ],
 "metadata": {
  "kernelspec": {
   "display_name": "Python 3",
   "language": "python",
   "name": "python3"
  },
  "language_info": {
   "codemirror_mode": {
    "name": "ipython",
    "version": 3
   },
   "file_extension": ".py",
   "mimetype": "text/x-python",
   "name": "python",
   "nbconvert_exporter": "python",
   "pygments_lexer": "ipython3",
   "version": "3.9.6"
  }
 },
 "nbformat": 4,
 "nbformat_minor": 5
}
