{
 "cells": [
  {
   "cell_type": "markdown",
   "id": "f5109bce",
   "metadata": {},
   "source": [
    "# Inspecting a RooWorkspace\n",
    "\n",
    "What's inside a RooWorkspace created with HistFactory? Let's find out!"
   ]
  },
  {
   "cell_type": "code",
   "execution_count": null,
   "id": "ecb94bc9",
   "metadata": {},
   "outputs": [],
   "source": [
    "!ls ../ws"
   ]
  },
  {
   "cell_type": "markdown",
   "id": "6e09602d",
   "metadata": {},
   "source": [
    "The output folder of a HistFactory run usually contains many files, one of which is quite meaningful: it's the one with the name `combined`."
   ]
  },
  {
   "cell_type": "code",
   "execution_count": null,
   "id": "b9cd69a7",
   "metadata": {},
   "outputs": [],
   "source": [
    "f = new TFile(\"../ws/ICTPws_test_combined_ICTPws_test_model.root\")"
   ]
  },
  {
   "cell_type": "code",
   "execution_count": null,
   "id": "db88f956",
   "metadata": {},
   "outputs": [],
   "source": [
    "f->ls()"
   ]
  },
  {
   "cell_type": "markdown",
   "id": "92726e0e",
   "metadata": {},
   "source": [
    "The file contains:\n",
    "- the `RooWorkspace` object, i.e. our likelihood model and associated datasets\n",
    "- another object we shall neglect\n",
    "- two directories containing the input histograms we used to build the workspace, one per channel (statistically independent set of data, cf. previous steps of this tutorial)\n",
    "- the Measurement object representing what we created with create_workspace.ipynb, so effectively the specification of what is inside the Workspace\n",
    "\n",
    "In case you ever panick and don't remember what's inside a workspace, you may do"
   ]
  },
  {
   "cell_type": "code",
   "execution_count": null,
   "id": "114be1e9",
   "metadata": {},
   "outputs": [],
   "source": [
    "ICTPws_test->PrintXML(\"blabla\")"
   ]
  },
  {
   "cell_type": "markdown",
   "id": "cf20662f",
   "metadata": {},
   "source": [
    "and then the `blabla` folder (which is created just in case) contains the XML files which specify, in some convoluted version of the English language, what's inside the workspace:"
   ]
  },
  {
   "cell_type": "code",
   "execution_count": null,
   "id": "ff96057d",
   "metadata": {},
   "outputs": [],
   "source": [
    "!ls blabla"
   ]
  },
  {
   "cell_type": "code",
   "execution_count": null,
   "id": "6afe0c3f",
   "metadata": {},
   "outputs": [],
   "source": [
    "!cat blabla/ICTPws_test.xml"
   ]
  },
  {
   "cell_type": "markdown",
   "id": "583585a9",
   "metadata": {},
   "source": [
    "Now, back on the workspace, which is usually called `combined`. What's inside it? We check it with"
   ]
  },
  {
   "cell_type": "code",
   "execution_count": null,
   "id": "8572376a",
   "metadata": {},
   "outputs": [],
   "source": [
    "w = dynamic_cast<RooWorkspace*>(f->Get(\"combined\"));\n",
    "w->Print(\"\")"
   ]
  },
  {
   "cell_type": "markdown",
   "id": "14812809",
   "metadata": {},
   "source": [
    "The workspace is actually a collection of stuff:\n",
    "- variables (which can be parameters, observables, constants... anything!)\n",
    "- probability density functions (PDFs), i.e. mathematical functions of those variables (technically there is no distinction between observables and parameters at this stage)\n",
    "- functions, which - differently from PDFs - aren't supposed to be normalized to 1 (for example, a histogram can be seen as a function of an observable, whose integral is equal to a given number of events)\n",
    "- datasets, i.e. real data (the `Data` input histograms we gave when creating the workspace) and so-called Asimov data, which represent the overall _nominal_ background expectation;\n",
    "- embedded datasets, i.e. internal representations of histograms\n",
    "- parameter snapshots, i.e. \"named copies\" of the value (e.g. `9.888`) and settings (e.g. up and down error, `isConstant=kTRUE`) of a set of parameters\n",
    "- named sets, i.e. \"named sets\" of parameters, which share the same meaning - e.g. \"what's or what are the POI[s]\", \"which are the observables\", etc.\n",
    "- generic objects, like the notable HistFactory `ModelConfig` object, which represents how we should be putting together the overall likelihood model (PDF, data, and notion of who's the POI and who are the observable, the nuisance parameters and the constant parameters in our statistical task)\n",
    "\n",
    "Please note that the meaning of _nominal_ depends strongly on the default parameters which were set in the creation of the workspace. More specifically: normalization parameters (such as the signal strength, which is usually the POI, and the background normalization factors) are taken at their nominal value as declared in the workspace creation. Typical mistake: expecting the Asimov dataset to represent the _background-only hypothesis_ when you set the signal strength default value to `1`."
   ]
  },
  {
   "cell_type": "markdown",
   "id": "fbae6cb4",
   "metadata": {},
   "source": [
    "We can for example identify what's the POI, and what are its default value and bounds:"
   ]
  },
  {
   "cell_type": "code",
   "execution_count": null,
   "id": "059a3639",
   "metadata": {},
   "outputs": [],
   "source": [
    "w->set(\"ModelConfig_POI\")->Print(\"v\")"
   ]
  },
  {
   "cell_type": "markdown",
   "id": "3ef7a95a",
   "metadata": {},
   "source": [
    "or understand what are the observables,"
   ]
  },
  {
   "cell_type": "code",
   "execution_count": null,
   "id": "9ee3c38a",
   "metadata": {},
   "outputs": [],
   "source": [
    "w->set(\"observables\")->Print(\"v\")"
   ]
  },
  {
   "cell_type": "markdown",
   "id": "96ff8a38",
   "metadata": {},
   "source": [
    "or we may do that via the ModelConfig object,"
   ]
  },
  {
   "cell_type": "code",
   "execution_count": null,
   "id": "56c31b27",
   "metadata": {},
   "outputs": [],
   "source": [
    "mc = dynamic_cast<RooStats::ModelConfig*>(w->obj(\"ModelConfig\"));\n",
    "mc->GetParametersOfInterest()->Print();\n",
    "mc->GetObservables()->Print();"
   ]
  },
  {
   "cell_type": "markdown",
   "id": "7197a0f3",
   "metadata": {},
   "source": [
    "and inspect the variable info via"
   ]
  },
  {
   "cell_type": "code",
   "execution_count": null,
   "id": "8e8dd917",
   "metadata": {},
   "outputs": [],
   "source": [
    "w->var(\"mu_ttH\")->Print()"
   ]
  },
  {
   "cell_type": "markdown",
   "id": "13ee7e8d",
   "metadata": {},
   "source": [
    "We can also perform some simple plotting, provided we choose the observables to look at. HistFactory workspaces always have two special ones:\n",
    "- `channelCat` represents the category the events fall in (i.e. it's like an enum representing which of the various channels events belong to - for two channels, you'll see two _Possible states_ this discrete variable can take)\n",
    "- `weightVar` represents instead the weight which may be associated to each event"
   ]
  },
  {
   "cell_type": "code",
   "execution_count": null,
   "id": "70f34bfc",
   "metadata": {},
   "outputs": [],
   "source": [
    "w->cat(\"channelCat\")->Print(\"v\")"
   ]
  },
  {
   "cell_type": "markdown",
   "id": "26eb2ce9",
   "metadata": {},
   "source": [
    "Verbose printouts (`Print(\"v\")`) and tree printouts (`Print(\"t\")`) help nerds understand what's going on - how a variable or a function or in general any RooFit object is defined, which functions use it, and so on and so forth."
   ]
  }
 ],
 "metadata": {
  "kernelspec": {
   "display_name": "ROOT C++",
   "language": "c++",
   "name": "root"
  },
  "language_info": {
   "codemirror_mode": "text/x-c++src",
   "file_extension": ".C",
   "mimetype": " text/x-c++src",
   "name": "c++"
  }
 },
 "nbformat": 4,
 "nbformat_minor": 5
}
