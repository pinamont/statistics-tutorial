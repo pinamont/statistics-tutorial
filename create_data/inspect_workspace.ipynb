{
 "cells": [
  {
   "cell_type": "markdown",
   "id": "f5109bce",
   "metadata": {},
   "source": [
    "# Inspecting a RooWorkspace\n",
    "_Valerio Ippolito - INFN Sezione di Roma_\n",
    "\n",
    "What's inside a RooWorkspace created with HistFactory? Let's find out in two different ways.\n",
    "\n",
    "\n",
    "## With ROOT\n",
    "Is there a better way to understand what's inside a ROOT file than opening it? Let's see what has been created by `create_data/create_workspace.ipynb`:"
   ]
  },
  {
   "cell_type": "code",
   "execution_count": 1,
   "id": "ecb94bc9",
   "metadata": {},
   "outputs": [
    {
     "name": "stdout",
     "output_type": "stream",
     "text": [
      "ATLASIT_prova_ATLASIT_prova.root\r\n",
      "ATLASIT_prova_combined_ATLASIT_prova_model.root\r\n",
      "ATLASIT_prova_ljets_HThad_5j3b_ATLASIT_prova_model.root\r\n",
      "ATLASIT_prova_ljets_Mbb_ge6jge4b_ATLASIT_prova_model.root\r\n",
      "ATLASIT_prova_results.table\r\n",
      "\n"
     ]
    }
   ],
   "source": [
    "!ls ws"
   ]
  },
  {
   "cell_type": "markdown",
   "id": "6e09602d",
   "metadata": {},
   "source": [
    "The output folder of a HistFactory run usually contains many files, one of which is quite meaningful: it's the one with the name `combined`."
   ]
  },
  {
   "cell_type": "code",
   "execution_count": 2,
   "id": "b9cd69a7",
   "metadata": {},
   "outputs": [
    {
     "name": "stdout",
     "output_type": "stream",
     "text": [
      "\n",
      "\u001b[1mRooFit v3.60 -- Developed by Wouter Verkerke and David Kirkby\u001b[0m \n",
      "                Copyright (C) 2000-2013 NIKHEF, University of California & Stanford University\n",
      "                All rights reserved, please read http://roofit.sourceforge.net/license.txt\n",
      "\n",
      "(TFile *) @0x7f2d78ff7a78\n"
     ]
    }
   ],
   "source": [
    "f = new TFile(\"ws/ATLASIT_prova_combined_ATLASIT_prova_model.root\")"
   ]
  },
  {
   "cell_type": "code",
   "execution_count": 3,
   "id": "db88f956",
   "metadata": {},
   "outputs": [
    {
     "name": "stdout",
     "output_type": "stream",
     "text": [
      "TFile**\t\tws/ATLASIT_prova_combined_ATLASIT_prova_model.root\t\n",
      " TFile*\t\tws/ATLASIT_prova_combined_ATLASIT_prova_model.root\t\n",
      "  KEY: RooWorkspace\tcombined;1\tcombined\n",
      "  KEY: TProcessID\tProcessID0;1\te19480e0-f09e-11ec-8ff8-380011acbeef\n",
      "  KEY: TDirectoryFile\tljets_HThad_5j3b_hists;1\tljets_HThad_5j3b_hists\n",
      "  KEY: TDirectoryFile\tljets_Mbb_ge6jge4b_hists;1\tljets_Mbb_ge6jge4b_hists\n",
      "  KEY: RooStats::HistFactory::Measurement\tATLASIT_prova;1\tATLASIT_prova\n"
     ]
    }
   ],
   "source": [
    "f->ls()"
   ]
  },
  {
   "cell_type": "markdown",
   "id": "92726e0e",
   "metadata": {},
   "source": [
    "The file contains:\n",
    "- the `RooWorkspace` object, i.e. our likelihood model and associated datasets\n",
    "- another object we shall neglect\n",
    "- two directories containing the input histograms we used to build the workspace, one per channel (statistically independent set of data, cf. previous steps of this tutorial)\n",
    "- the Measurement object representing what we created with create_workspace.ipynb, so effectively the specification of what is inside the Workspace\n",
    "\n",
    "In case you ever panick and don't remember what's inside a workspace, you may do"
   ]
  },
  {
   "cell_type": "code",
   "execution_count": 4,
   "id": "114be1e9",
   "metadata": {},
   "outputs": [
    {
     "name": "stdout",
     "output_type": "stream",
     "text": [
      "[#2] PROGRESS:HistFactory -- Printing XML Files for measurement: ATLASIT_prova\n",
      "[#2] PROGRESS:HistFactory -- Printing XML Files for channel: ljets_HThad_5j3b\n",
      "[#2] PROGRESS:HistFactory -- Finished printing XML files\n",
      "[#2] PROGRESS:HistFactory -- Printing XML Files for channel: ljets_Mbb_ge6jge4b\n",
      "[#2] PROGRESS:HistFactory -- Finished printing XML files\n",
      "[#2] PROGRESS:HistFactory -- Finished printing XML files\n"
     ]
    }
   ],
   "source": [
    "ATLASIT_prova->PrintXML(\"blabla\")"
   ]
  },
  {
   "cell_type": "markdown",
   "id": "cf20662f",
   "metadata": {},
   "source": [
    "and then the `blabla` folder (which is created just in case) contains the XML files which specify, in some convoluted version of the English language, what's inside the workspace:"
   ]
  },
  {
   "cell_type": "code",
   "execution_count": 5,
   "id": "ff96057d",
   "metadata": {},
   "outputs": [
    {
     "name": "stdout",
     "output_type": "stream",
     "text": [
      "ATLASIT_prova_ljets_HThad_5j3b.xml    ATLASIT_prova.xml\r\n",
      "ATLASIT_prova_ljets_Mbb_ge6jge4b.xml\r\n",
      "\n"
     ]
    }
   ],
   "source": [
    "!ls blabla"
   ]
  },
  {
   "cell_type": "code",
   "execution_count": 6,
   "id": "6afe0c3f",
   "metadata": {},
   "outputs": [
    {
     "name": "stdout",
     "output_type": "stream",
     "text": [
      "<!--\r\n",
      "This xml file created automatically on: \r\n",
      "2022-6-20\r\n",
      "-->\r\n",
      "<!DOCTYPE Combination  SYSTEM 'HistFactorySchema.dtd'>\r\n",
      "\r\n",
      "<Combination OutputFilePrefix=\"./ws/ATLASIT_prova\" >\r\n",
      "\r\n",
      "\r\n",
      "  <Input>./blabla/ATLASIT_prova_ljets_HThad_5j3b.xml</Input>\r\n",
      "  <Input>./blabla/ATLASIT_prova_ljets_Mbb_ge6jge4b.xml</Input>\r\n",
      "\r\n",
      "  <Measurement Name=\"ATLASIT_prova\" Lumi=\"1\" LumiRelErr=\"0\" ExportOnly=\"True\"  >\r\n",
      "    <POI>mu_ttH</POI>  \r\n",
      "    <ParamSetting Const=\"True\">Lumi</ParamSetting>\r\n",
      "  </Measurement> \r\n",
      "\r\n",
      "</Combination>\r\n",
      "\n"
     ]
    }
   ],
   "source": [
    "!cat blabla/ATLASIT_prova.xml"
   ]
  },
  {
   "cell_type": "markdown",
   "id": "583585a9",
   "metadata": {},
   "source": [
    "Now, back on the workspace, which is usually called `combined`. What's inside it? We check it with"
   ]
  },
  {
   "cell_type": "code",
   "execution_count": 7,
   "id": "8572376a",
   "metadata": {},
   "outputs": [
    {
     "name": "stdout",
     "output_type": "stream",
     "text": [
      "\n",
      "RooWorkspace(combined) combined contents\n",
      "\n",
      "variables\n",
      "---------\n",
      "(Lumi,alpha_JES_Scenario1_NP1,alpha_lumi,alpha_stXsec,alpha_ttXsec,binWidth_obs_x_ljets_HThad_5j3b_0,binWidth_obs_x_ljets_HThad_5j3b_1,binWidth_obs_x_ljets_HThad_5j3b_2,binWidth_obs_x_ljets_Mbb_ge6jge4b_0,binWidth_obs_x_ljets_Mbb_ge6jge4b_1,binWidth_obs_x_ljets_Mbb_ge6jge4b_2,channelCat,mu_tt,mu_ttH,nom_alpha_JES_Scenario1_NP1,nom_alpha_lumi,nom_alpha_stXsec,nom_alpha_ttXsec,nominalLumi,obs_x_ljets_HThad_5j3b,obs_x_ljets_Mbb_ge6jge4b,weightVar)\n",
      "\n",
      "p.d.f.s\n",
      "-------\n",
      "RooGaussian::alpha_JES_Scenario1_NP1Constraint[ x=alpha_JES_Scenario1_NP1 mean=nom_alpha_JES_Scenario1_NP1 sigma=1 ] = 1\n",
      "RooGaussian::alpha_lumiConstraint[ x=alpha_lumi mean=nom_alpha_lumi sigma=1 ] = 1\n",
      "RooGaussian::alpha_stXsecConstraint[ x=alpha_stXsec mean=nom_alpha_stXsec sigma=1 ] = 1\n",
      "RooGaussian::alpha_ttXsecConstraint[ x=alpha_ttXsec mean=nom_alpha_ttXsec sigma=1 ] = 1\n",
      "RooRealSumPdf::ljets_HThad_5j3b_model[ binWidth_obs_x_ljets_HThad_5j3b_0 * L_x_ttH_ljets_HThad_5j3b_overallSyst_x_Exp + binWidth_obs_x_ljets_HThad_5j3b_1 * L_x_ttbar_ljets_HThad_5j3b_overallSyst_x_HistSyst + binWidth_obs_x_ljets_HThad_5j3b_2 * L_x_singleTop_ljets_HThad_5j3b_overallSyst_x_Exp ] = 19.4033\n",
      "RooRealSumPdf::ljets_Mbb_ge6jge4b_model[ binWidth_obs_x_ljets_Mbb_ge6jge4b_0 * L_x_ttH_ljets_Mbb_ge6jge4b_overallSyst_x_Exp + binWidth_obs_x_ljets_Mbb_ge6jge4b_1 * L_x_ttbar_ljets_Mbb_ge6jge4b_overallSyst_x_HistSyst + binWidth_obs_x_ljets_Mbb_ge6jge4b_2 * L_x_singleTop_ljets_Mbb_ge6jge4b_overallSyst_x_Exp ] = 94.8419\n",
      "RooGaussian::lumiConstraint[ x=Lumi mean=nominalLumi sigma=0 ] = -nan\n",
      "RooProdPdf::model_ljets_HThad_5j3b[ lumiConstraint * alpha_lumiConstraint * alpha_ttXsecConstraint * alpha_JES_Scenario1_NP1Constraint * alpha_stXsecConstraint * ljets_HThad_5j3b_model(obs_x_ljets_HThad_5j3b) ] = 0\n",
      "RooProdPdf::model_ljets_Mbb_ge6jge4b[ lumiConstraint * alpha_lumiConstraint * alpha_ttXsecConstraint * alpha_JES_Scenario1_NP1Constraint * alpha_stXsecConstraint * ljets_Mbb_ge6jge4b_model(obs_x_ljets_Mbb_ge6jge4b) ] = 0\n",
      "RooSimultaneous::simPdf[ indexCat=channelCat ljets_HThad_5j3b=model_ljets_HThad_5j3b ljets_Mbb_ge6jge4b=model_ljets_Mbb_ge6jge4b ] = 0\n",
      "\n",
      "functions\n",
      "--------\n",
      "RooProduct::L_x_singleTop_ljets_HThad_5j3b_overallSyst_x_Exp[ 1 * singleTop_ljets_HThad_5j3b_overallSyst_x_Exp ] = 0.388369\n",
      "RooProduct::L_x_singleTop_ljets_Mbb_ge6jge4b_overallSyst_x_Exp[ 1 * singleTop_ljets_Mbb_ge6jge4b_overallSyst_x_Exp ] = 0.772731\n",
      "RooProduct::L_x_ttH_ljets_HThad_5j3b_overallSyst_x_Exp[ 1 * ttH_ljets_HThad_5j3b_overallSyst_x_Exp ] = 0\n",
      "RooProduct::L_x_ttH_ljets_Mbb_ge6jge4b_overallSyst_x_Exp[ 1 * ttH_ljets_Mbb_ge6jge4b_overallSyst_x_Exp ] = 0\n",
      "RooProduct::L_x_ttbar_ljets_HThad_5j3b_overallSyst_x_HistSyst[ 1 * ttbar_ljets_HThad_5j3b_overallSyst_x_HistSyst ] = 3.49229\n",
      "RooProduct::L_x_ttbar_ljets_Mbb_ge6jge4b_overallSyst_x_HistSyst[ 1 * ttbar_ljets_Mbb_ge6jge4b_overallSyst_x_HistSyst ] = 8.71146\n",
      "RooStats::HistFactory::FlexibleInterpVar::singleTop_ljets_HThad_5j3b_epsilon[ paramList=(alpha_lumi,alpha_stXsec,alpha_JES_Scenario1_NP1) ] = 1\n",
      "RooHistFunc::singleTop_ljets_HThad_5j3b_nominal[ depList=(obs_x_ljets_HThad_5j3b) depList=(obs_x_ljets_HThad_5j3b) ] = 0.388369\n",
      "RooProduct::singleTop_ljets_HThad_5j3b_overallSyst_x_Exp[ singleTop_ljets_HThad_5j3b_nominal * singleTop_ljets_HThad_5j3b_epsilon ] = 0.388369\n",
      "RooStats::HistFactory::FlexibleInterpVar::singleTop_ljets_Mbb_ge6jge4b_epsilon[ paramList=(alpha_lumi,alpha_stXsec,alpha_JES_Scenario1_NP1) ] = 1\n",
      "RooHistFunc::singleTop_ljets_Mbb_ge6jge4b_nominal[ depList=(obs_x_ljets_Mbb_ge6jge4b) depList=(obs_x_ljets_Mbb_ge6jge4b) ] = 0.772731\n",
      "RooProduct::singleTop_ljets_Mbb_ge6jge4b_overallSyst_x_Exp[ singleTop_ljets_Mbb_ge6jge4b_nominal * singleTop_ljets_Mbb_ge6jge4b_epsilon ] = 0.772731\n",
      "RooStats::HistFactory::FlexibleInterpVar::ttH_ljets_HThad_5j3b_epsilon[ paramList=(alpha_lumi,alpha_ttXsec,alpha_JES_Scenario1_NP1) ] = 1\n",
      "RooHistFunc::ttH_ljets_HThad_5j3b_nominal[ depList=(obs_x_ljets_HThad_5j3b) depList=(obs_x_ljets_HThad_5j3b) ] = 0.0369797\n",
      "RooProduct::ttH_ljets_HThad_5j3b_overallNorm_x_sigma_epsilon[ mu_ttH * ttH_ljets_HThad_5j3b_epsilon ] = 0\n",
      "RooProduct::ttH_ljets_HThad_5j3b_overallSyst_x_Exp[ ttH_ljets_HThad_5j3b_nominal * ttH_ljets_HThad_5j3b_overallNorm_x_sigma_epsilon ] = 0\n",
      "RooStats::HistFactory::FlexibleInterpVar::ttH_ljets_Mbb_ge6jge4b_epsilon[ paramList=(alpha_lumi,alpha_ttXsec,alpha_JES_Scenario1_NP1) ] = 1\n",
      "RooHistFunc::ttH_ljets_Mbb_ge6jge4b_nominal[ depList=(obs_x_ljets_Mbb_ge6jge4b) depList=(obs_x_ljets_Mbb_ge6jge4b) ] = 0.454254\n",
      "RooProduct::ttH_ljets_Mbb_ge6jge4b_overallNorm_x_sigma_epsilon[ mu_ttH * ttH_ljets_Mbb_ge6jge4b_epsilon ] = 0\n",
      "RooProduct::ttH_ljets_Mbb_ge6jge4b_overallSyst_x_Exp[ ttH_ljets_Mbb_ge6jge4b_nominal * ttH_ljets_Mbb_ge6jge4b_overallNorm_x_sigma_epsilon ] = 0\n",
      "PiecewiseInterpolation::ttbar_ljets_HThad_5j3b_Hist_alpha[ ] = 3.49229\n",
      "RooHistFunc::ttbar_ljets_HThad_5j3b_Hist_alpha_0high[ depList=(obs_x_ljets_HThad_5j3b) depList=(obs_x_ljets_HThad_5j3b) ] = 3.41788\n",
      "RooHistFunc::ttbar_ljets_HThad_5j3b_Hist_alpha_0low[ depList=(obs_x_ljets_HThad_5j3b) depList=(obs_x_ljets_HThad_5j3b) ] = 3.56693\n",
      "RooHistFunc::ttbar_ljets_HThad_5j3b_Hist_alphanominal[ depList=(obs_x_ljets_HThad_5j3b) depList=(obs_x_ljets_HThad_5j3b) ] = 3.49229\n",
      "RooStats::HistFactory::FlexibleInterpVar::ttbar_ljets_HThad_5j3b_epsilon[ paramList=(alpha_lumi,alpha_ttXsec,alpha_JES_Scenario1_NP1) ] = 1\n",
      "RooProduct::ttbar_ljets_HThad_5j3b_overallNorm_x_sigma_epsilon[ mu_tt * ttbar_ljets_HThad_5j3b_epsilon ] = 1\n",
      "RooProduct::ttbar_ljets_HThad_5j3b_overallSyst_x_HistSyst[ ttbar_ljets_HThad_5j3b_Hist_alpha * ttbar_ljets_HThad_5j3b_overallNorm_x_sigma_epsilon ] = 3.49229\n",
      "PiecewiseInterpolation::ttbar_ljets_Mbb_ge6jge4b_Hist_alpha[ ] = 8.71146\n",
      "RooHistFunc::ttbar_ljets_Mbb_ge6jge4b_Hist_alpha_0high[ depList=(obs_x_ljets_Mbb_ge6jge4b) depList=(obs_x_ljets_Mbb_ge6jge4b) ] = 8.68465\n",
      "RooHistFunc::ttbar_ljets_Mbb_ge6jge4b_Hist_alpha_0low[ depList=(obs_x_ljets_Mbb_ge6jge4b) depList=(obs_x_ljets_Mbb_ge6jge4b) ] = 8.74122\n",
      "RooHistFunc::ttbar_ljets_Mbb_ge6jge4b_Hist_alphanominal[ depList=(obs_x_ljets_Mbb_ge6jge4b) depList=(obs_x_ljets_Mbb_ge6jge4b) ] = 8.71146\n",
      "RooStats::HistFactory::FlexibleInterpVar::ttbar_ljets_Mbb_ge6jge4b_epsilon[ paramList=(alpha_lumi,alpha_ttXsec,alpha_JES_Scenario1_NP1) ] = 1\n",
      "RooProduct::ttbar_ljets_Mbb_ge6jge4b_overallNorm_x_sigma_epsilon[ mu_tt * ttbar_ljets_Mbb_ge6jge4b_epsilon ] = 1\n",
      "RooProduct::ttbar_ljets_Mbb_ge6jge4b_overallSyst_x_HistSyst[ ttbar_ljets_Mbb_ge6jge4b_Hist_alpha * ttbar_ljets_Mbb_ge6jge4b_overallNorm_x_sigma_epsilon ] = 8.71146\n",
      "\n",
      "datasets\n",
      "--------\n",
      "RooDataSet::asimovData(obs_x_ljets_HThad_5j3b,obs_x_ljets_Mbb_ge6jge4b,weightVar,channelCat)\n",
      "RooDataSet::obsData(channelCat,obs_x_ljets_HThad_5j3b,obs_x_ljets_Mbb_ge6jge4b)\n",
      "\n",
      "embedded datasets (in pdfs and functions)\n",
      "-----------------------------------------\n",
      "RooDataHist::ttH_ljets_HThad_5j3bnominalDHist(obs_x_ljets_HThad_5j3b)\n",
      "RooDataHist::ttbar_ljets_HThad_5j3b_Hist_alphanominalDHist(obs_x_ljets_HThad_5j3b)\n",
      "RooDataHist::ttbar_ljets_HThad_5j3b_Hist_alpha_0lowDHist(obs_x_ljets_HThad_5j3b)\n",
      "RooDataHist::ttbar_ljets_HThad_5j3b_Hist_alpha_0highDHist(obs_x_ljets_HThad_5j3b)\n",
      "RooDataHist::singleTop_ljets_HThad_5j3bnominalDHist(obs_x_ljets_HThad_5j3b)\n",
      "RooDataHist::ttH_ljets_Mbb_ge6jge4bnominalDHist(obs_x_ljets_Mbb_ge6jge4b)\n",
      "RooDataHist::ttbar_ljets_Mbb_ge6jge4b_Hist_alphanominalDHist(obs_x_ljets_Mbb_ge6jge4b)\n",
      "RooDataHist::ttbar_ljets_Mbb_ge6jge4b_Hist_alpha_0lowDHist(obs_x_ljets_Mbb_ge6jge4b)\n",
      "RooDataHist::ttbar_ljets_Mbb_ge6jge4b_Hist_alpha_0highDHist(obs_x_ljets_Mbb_ge6jge4b)\n",
      "RooDataHist::singleTop_ljets_Mbb_ge6jge4bnominalDHist(obs_x_ljets_Mbb_ge6jge4b)\n",
      "\n",
      "parameter snapshots\n",
      "-------------------\n",
      "NominalParamValues = (nom_alpha_lumi=0[C],nom_alpha_ttXsec=0[C],nom_alpha_JES_Scenario1_NP1=0[C],nom_alpha_stXsec=0[C],weightVar=0,obs_x_ljets_HThad_5j3b=0.9,obs_x_ljets_Mbb_ge6jge4b=0.95,Lumi=1[C],nominalLumi=1[C],alpha_lumi=0,alpha_ttXsec=0,alpha_JES_Scenario1_NP1=0,alpha_stXsec=0,mu_ttH=0,binWidth_obs_x_ljets_HThad_5j3b_0=5[C],mu_tt=1,binWidth_obs_x_ljets_HThad_5j3b_1=5[C],binWidth_obs_x_ljets_HThad_5j3b_2=5[C],binWidth_obs_x_ljets_Mbb_ge6jge4b_0=10[C],binWidth_obs_x_ljets_Mbb_ge6jge4b_1=10[C],binWidth_obs_x_ljets_Mbb_ge6jge4b_2=10[C])\n",
      "\n",
      "named sets\n",
      "----------\n",
      "ModelConfig_GlobalObservables:(nom_alpha_lumi,nom_alpha_ttXsec,nom_alpha_JES_Scenario1_NP1,nom_alpha_stXsec)\n",
      "ModelConfig_NuisParams:(alpha_JES_Scenario1_NP1,alpha_lumi,alpha_stXsec,alpha_ttXsec,mu_tt)\n",
      "ModelConfig_Observables:(obs_x_ljets_HThad_5j3b,obs_x_ljets_Mbb_ge6jge4b,weightVar,channelCat)\n",
      "ModelConfig_POI:(mu_ttH)\n",
      "globalObservables:(nom_alpha_lumi,nom_alpha_ttXsec,nom_alpha_JES_Scenario1_NP1,nom_alpha_stXsec)\n",
      "observables:(obs_x_ljets_HThad_5j3b,obs_x_ljets_Mbb_ge6jge4b,weightVar,channelCat)\n",
      "\n",
      "generic objects\n",
      "---------------\n",
      "RooStats::ModelConfig::ModelConfig\n",
      "\n"
     ]
    }
   ],
   "source": [
    "w = dynamic_cast<RooWorkspace*>(f->Get(\"combined\"));\n",
    "w->Print(\"\")"
   ]
  },
  {
   "cell_type": "markdown",
   "id": "14812809",
   "metadata": {},
   "source": [
    "The workspace is actually a collection of stuff:\n",
    "- variables (which can be parameters, observables, constants... anything!)\n",
    "- probability density functions (PDFs), i.e. mathematical functions of those variables (technically there is no distinction between observables and parameters at this stage)\n",
    "- functions, which - differently from PDFs - aren't supposed to be normalized to 1 (for example, a histogram can be seen as a function of an observable, whose integral is equal to a given number of events)\n",
    "- datasets, i.e. real data (the `Data` input histograms we gave when creating the workspace) and so-called Asimov data, which represent the overall _nominal_ background expectation;\n",
    "- embedded datasets, i.e. internal representations of histograms\n",
    "- parameter snapshots, i.e. \"named copies\" of the value (e.g. `9.888`) and settings (e.g. up and down error, `isConstant=kTRUE`) of a set of parameters\n",
    "- named sets, i.e. \"named sets\" of parameters, which share the same meaning - e.g. \"what's or what are the POI[s]\", \"which are the observables\", etc.\n",
    "- generic objects, like the notable HistFactory `ModelConfig` object, which represents how we should be putting together the overall likelihood model (PDF, data, and notion of who's the POI and who are the observable, the nuisance parameters and the constant parameters in our statistical task)\n",
    "\n",
    "Please note that the meaning of _nominal_ depends strongly on the default parameters which were set in the creation of the workspace. More specifically: normalization parameters (such as the signal strength, which is usually the POI, and the background normalization factors) are taken at their nominal value as declared in the workspace creation. Typical mistake: expecting the Asimov dataset to represent the _background-only hypothesis_ when you set the signal strength default value to `1`."
   ]
  },
  {
   "cell_type": "markdown",
   "id": "fbae6cb4",
   "metadata": {},
   "source": [
    "We can for example identify what's the POI, and what are its default value and bounds:"
   ]
  },
  {
   "cell_type": "code",
   "execution_count": 8,
   "id": "059a3639",
   "metadata": {},
   "outputs": [
    {
     "name": "stdout",
     "output_type": "stream",
     "text": [
      "  1) 0x7f2d5a29fc10 RooRealVar:: mu_ttH = 0  L(-10 - 20)  \"mu_ttH\"\n"
     ]
    }
   ],
   "source": [
    "w->set(\"ModelConfig_POI\")->Print(\"v\")"
   ]
  },
  {
   "cell_type": "markdown",
   "id": "3ef7a95a",
   "metadata": {},
   "source": [
    "or understand what are the observables,"
   ]
  },
  {
   "cell_type": "code",
   "execution_count": 9,
   "id": "9ee3c38a",
   "metadata": {},
   "outputs": [
    {
     "name": "stdout",
     "output_type": "stream",
     "text": [
      "  1) 0x7f2d5a251f00 RooRealVar::   obs_x_ljets_HThad_5j3b = 0.9  L(0 - 1) B(5)  \"obs_x_ljets_HThad_5j3b\"\n",
      "  2) 0x7f2d5a2a47e0 RooRealVar:: obs_x_ljets_Mbb_ge6jge4b = 0.95  L(0 - 1) B(10)  \"obs_x_ljets_Mbb_ge6jge4b\"\n",
      "  3) 0x7f2d5a683870 RooRealVar::                weightVar = 0  L(-1e+10 - 1e+10)  \"weightVar\"\n",
      "  4) 0x7f2d59c90520 RooCategory::               channelCat = ljets_Mbb_ge6jge4b(idx = 1)\n",
      "  \"channelCat\"\n"
     ]
    }
   ],
   "source": [
    "w->set(\"observables\")->Print(\"v\")"
   ]
  },
  {
   "cell_type": "markdown",
   "id": "96ff8a38",
   "metadata": {},
   "source": [
    "or we may do that via the ModelConfig object,"
   ]
  },
  {
   "cell_type": "code",
   "execution_count": 10,
   "id": "56c31b27",
   "metadata": {},
   "outputs": [
    {
     "name": "stdout",
     "output_type": "stream",
     "text": [
      "RooArgSet:: = (mu_ttH)\n",
      "RooArgSet:: = (obs_x_ljets_HThad_5j3b,obs_x_ljets_Mbb_ge6jge4b,weightVar,channelCat)\n"
     ]
    }
   ],
   "source": [
    "mc = dynamic_cast<RooStats::ModelConfig*>(w->obj(\"ModelConfig\"));\n",
    "mc->GetParametersOfInterest()->Print();\n",
    "mc->GetObservables()->Print();"
   ]
  },
  {
   "cell_type": "markdown",
   "id": "7197a0f3",
   "metadata": {},
   "source": [
    "and inspect the variable info via"
   ]
  },
  {
   "cell_type": "code",
   "execution_count": 11,
   "id": "8e8dd917",
   "metadata": {},
   "outputs": [
    {
     "name": "stdout",
     "output_type": "stream",
     "text": [
      "RooRealVar::mu_ttH = 0  L(-10 - 20) \n"
     ]
    }
   ],
   "source": [
    "w->var(\"mu_ttH\")->Print()"
   ]
  },
  {
   "cell_type": "markdown",
   "id": "13ee7e8d",
   "metadata": {},
   "source": [
    "We can also perform some simple plotting, provided we choose the observables to look at. HistFactory workspaces always have two special ones:\n",
    "- `channelCat` represents the category the events fall in (i.e. it's like an enum representing which of the various channels events belong to - for two channels, you'll see two _Possible states_ this discrete variable can take)\n",
    "- `weightVar` represents instead the weight which may be associated to each event"
   ]
  },
  {
   "cell_type": "code",
   "execution_count": 12,
   "id": "70f34bfc",
   "metadata": {},
   "outputs": [
    {
     "name": "stdout",
     "output_type": "stream",
     "text": [
      "--- RooAbsArg ---\n",
      "  Value State: clean\n",
      "  Shape State: clean\n",
      "  Attributes: \n",
      "  Address: 0x7f2d59c90520\n",
      "  Clients: \n",
      "    (0x7f2d59ffa5a0,V-) RooSimultaneous::simPdf \"\"\n",
      "  Servers: \n",
      "  Proxies: \n",
      "--- RooAbsCategory ---\n",
      "  Value = 1 \"ljets_Mbb_ge6jge4b)\n",
      "  Possible states:\n",
      "    ljets_HThad_5j3b\t0\n",
      "    ljets_Mbb_ge6jge4b\t1\n"
     ]
    }
   ],
   "source": [
    "w->cat(\"channelCat\")->Print(\"v\")"
   ]
  },
  {
   "cell_type": "markdown",
   "id": "26eb2ce9",
   "metadata": {},
   "source": [
    "Verbose printouts (`Print(\"v\")`) and tree printouts (`Print(\"t\")`) help nerds understand what's going on - how a variable or a function or in general any RooFit object is defined, which functions use it, and so on and so forth.\n",
    "\n",
    "In any case, HistFactory creates observables with a standard naming, like `obs_x_ljets_HThad_5j3b`, so we may plot data in this variable, superimposing the result of the fit of the _overall signal plus background model_ (S+B model) to the full data in the different categories. The PDF representing this overall model is called by HistFactory `simPdf`.\n",
    "\n",
    "We will actually do two things:\n",
    "- fit with the S+B model (red PDF)\n",
    "- fit with the B-only model (blue PDF)"
   ]
  },
  {
   "cell_type": "code",
   "execution_count": 13,
   "id": "e28d296f",
   "metadata": {},
   "outputs": [
    {
     "name": "stdout",
     "output_type": "stream",
     "text": [
      "[#1] INFO:Minization -- p.d.f. provides expected number of events, including extended term in likelihood.\n",
      "[#1] INFO:Minization -- RooProdPdf::getConstraints(model_ljets_HThad_5j3b) omitting term lumiConstraint as constraint term as it does not share any parameters with the other pdfs in product. To force inclusion in likelihood, add an explicit Constrain() argument for the target parameter\n",
      "[#1] INFO:Minization -- createNLL: caching constraint set under name CONSTR_OF_PDF_simPdf_FOR_OBS_channelCat:obs_x_ljets_HThad_5j3b:obs_x_ljets_Mbb_ge6jge4b with 4 entries\n",
      "[#1] INFO:Minization --  Including the following constraint terms in minimization: (alpha_lumiConstraint,alpha_ttXsecConstraint,alpha_JES_Scenario1_NP1Constraint,alpha_stXsecConstraint)\n",
      "[#1] INFO:Fitting -- RooAddition::defaultErrorLevel(nll_simPdf_obsData_with_constr) Summation contains a RooNLLVar, using its error level\n",
      "[#1] INFO:Minization -- RooMinimizer::optimizeConst: activating const optimization\n",
      "RooAbsTestStatistic::initSimMode: creating slave calculator #0 for state ljets_HThad_5j3b (5 dataset entries)\n",
      "[#1] INFO:NumericIntegration -- RooRealIntegral::init(ljets_HThad_5j3b_model_Int[obs_x_ljets_HThad_5j3b]) using numeric integrator RooBinIntegrator to calculate Int(obs_x_ljets_HThad_5j3b)\n",
      "RooAbsTestStatistic::initSimMode: creating slave calculator #1 for state ljets_Mbb_ge6jge4b (10 dataset entries)\n",
      "[#1] INFO:NumericIntegration -- RooRealIntegral::init(ljets_Mbb_ge6jge4b_model_Int[obs_x_ljets_Mbb_ge6jge4b]) using numeric integrator RooBinIntegrator to calculate Int(obs_x_ljets_Mbb_ge6jge4b)\n",
      "[#1] INFO:Fitting -- RooAbsTestStatistic::initSimMode: created 2 slave calculators.\n",
      "[#1] INFO:NumericIntegration -- RooRealIntegral::init(ljets_HThad_5j3b_model_Int[obs_x_ljets_HThad_5j3b]) using numeric integrator RooBinIntegrator to calculate Int(obs_x_ljets_HThad_5j3b)\n",
      "[#1] INFO:Minization --  The following expressions have been identified as constant and will be precalculated and cached: (ttH_ljets_HThad_5j3b_nominal,ttbar_ljets_HThad_5j3b_Hist_alphanominal,ttbar_ljets_HThad_5j3b_Hist_alpha_0low,ttbar_ljets_HThad_5j3b_Hist_alpha_0high,singleTop_ljets_HThad_5j3b_nominal)\n",
      "[#1] INFO:Minization --  The following expressions will be evaluated in cache-and-track mode: (ttbar_ljets_HThad_5j3b_Hist_alpha)\n",
      "[#1] INFO:NumericIntegration -- RooRealIntegral::init(ljets_Mbb_ge6jge4b_model_Int[obs_x_ljets_Mbb_ge6jge4b]) using numeric integrator RooBinIntegrator to calculate Int(obs_x_ljets_Mbb_ge6jge4b)\n",
      "[#1] INFO:Minization --  The following expressions have been identified as constant and will be precalculated and cached: (ttH_ljets_Mbb_ge6jge4b_nominal,ttbar_ljets_Mbb_ge6jge4b_Hist_alphanominal,ttbar_ljets_Mbb_ge6jge4b_Hist_alpha_0low,ttbar_ljets_Mbb_ge6jge4b_Hist_alpha_0high,singleTop_ljets_Mbb_ge6jge4b_nominal)\n",
      "[#1] INFO:Minization --  The following expressions will be evaluated in cache-and-track mode: (ttbar_ljets_Mbb_ge6jge4b_Hist_alpha)\n",
      " **********\n",
      " **    1 **SET PRINT           1\n",
      " **********\n",
      " **********\n",
      " **    2 **SET NOGRAD\n",
      " **********\n",
      " PARAMETER DEFINITIONS:\n",
      "    NO.   NAME         VALUE      STEP SIZE      LIMITS\n",
      "     1 alpha_JES_Scenario1_NP1   0.00000e+00  1.00000e+00   -5.00000e+00  5.00000e+00\n",
      "     2 alpha_lumi   0.00000e+00  1.00000e+00   -5.00000e+00  5.00000e+00\n",
      "     3 alpha_stXsec   0.00000e+00  1.00000e+00   -5.00000e+00  5.00000e+00\n",
      "     4 alpha_ttXsec   0.00000e+00  1.00000e+00   -5.00000e+00  5.00000e+00\n",
      "     5 mu_tt        1.00000e+00  5.00000e-01    0.00000e+00  2.00000e+01\n",
      "     6 mu_ttH       0.00000e+00  3.00000e+00   -1.00000e+01  2.00000e+01\n",
      " **********\n",
      " **    3 **SET ERR         0.5\n",
      " **********\n",
      " **********\n",
      " **    4 **SET PRINT           1\n",
      " **********\n",
      " **********\n",
      " **    5 **SET STR           1\n",
      " **********\n",
      " NOW USING STRATEGY  1: TRY TO BALANCE SPEED AGAINST RELIABILITY\n",
      " **********\n",
      " **    6 **MIGRAD        3000           1\n",
      " **********\n",
      " FIRST CALL TO USER FUNCTION AT NEW START POINT, WITH IFLAG=4.\n",
      " START MIGRAD MINIMIZATION.  STRATEGY  1.  CONVERGENCE WHEN EDM .LT. 1.00e-03\n",
      " FCN=-955.055 FROM MIGRAD    STATUS=INITIATE       16 CALLS          17 TOTAL\n",
      "                     EDM= unknown      STRATEGY= 1      NO ERROR MATRIX       \n",
      "  EXT PARAMETER               CURRENT GUESS       STEP         FIRST   \n",
      "  NO.   NAME      VALUE            ERROR          SIZE      DERIVATIVE \n",
      "   1  alpha_JES_Scenario1_NP1   0.00000e+00   1.00000e+00   2.01358e-01  -1.54629e+01\n",
      "   2  alpha_lumi   0.00000e+00   1.00000e+00   2.01358e-01  -9.48921e+00\n",
      "   3  alpha_stXsec   0.00000e+00   1.00000e+00   2.01358e-01  -5.03387e-01\n",
      "   4  alpha_ttXsec   0.00000e+00   1.00000e+00   2.01358e-01  -1.07847e+01\n",
      "   5  mu_tt        1.00000e+00   5.00000e-01   1.18625e-01  -1.56616e+02\n",
      "   6  mu_ttH       0.00000e+00   3.00000e+00   2.14402e-01  -5.35043e+01\n",
      "                               ERR DEF= 0.5\n",
      " MIGRAD MINIMIZATION HAS CONVERGED.\n",
      " MIGRAD WILL VERIFY CONVERGENCE AND ERROR MATRIX.\n",
      " COVARIANCE MATRIX CALCULATED SUCCESSFULLY\n",
      " FCN=-958.64 FROM MIGRAD    STATUS=CONVERGED     143 CALLS         144 TOTAL\n",
      "                     EDM=8.18659e-06    STRATEGY= 1      ERROR MATRIX ACCURATE \n",
      "  EXT PARAMETER                                   STEP         FIRST   \n",
      "  NO.   NAME      VALUE            ERROR          SIZE      DERIVATIVE \n",
      "   1  alpha_JES_Scenario1_NP1   2.03451e-01   9.67486e-01   2.71967e-03  -1.64250e-02\n",
      "   2  alpha_lumi   1.82836e-02   9.92875e-01   3.28857e-03  -6.87775e-03\n",
      "   3  alpha_stXsec   1.88750e-02   9.92883e-01   4.27297e-03   8.45402e-04\n",
      "   4  alpha_ttXsec   1.68291e-03   9.93504e-01   3.03203e-03   2.64467e-03\n",
      "   5  mu_tt        1.08690e+00   1.43414e-01   3.35635e-04  -7.85444e-02\n",
      "   6  mu_ttH       1.03564e+00   8.98891e-01   1.11587e-03  -3.27934e-03\n",
      "                               ERR DEF= 0.5\n",
      " EXTERNAL ERROR MATRIX.    NDIM=  25    NPAR=  6    ERR DEF=0.5\n",
      "  9.480e-01  2.590e-03  1.792e-03  1.144e-03 -7.631e-02 -8.330e-02 \n",
      "  2.590e-03  9.990e-01  7.846e-04  8.367e-04 -5.669e-02 -5.349e-02 \n",
      "  1.792e-03  7.846e-04  9.991e-01  1.666e-05 -2.442e-03 -6.966e-04 \n",
      "  1.144e-03  8.367e-04  1.666e-05  1.000e+00 -6.529e-02 -1.061e-01 \n",
      " -7.631e-02 -5.669e-02 -2.442e-03 -6.529e-02  2.057e-02 -2.228e-02 \n",
      " -8.330e-02 -5.349e-02 -6.966e-04 -1.061e-01 -2.228e-02  8.090e-01 \n",
      " PARAMETER  CORRELATION COEFFICIENTS  \n",
      "       NO.  GLOBAL      1      2      3      4      5      6\n",
      "        1  0.75765   1.000  0.003  0.002  0.001 -0.546 -0.095\n",
      "        2  0.63961   0.003  1.000  0.001  0.001 -0.395 -0.059\n",
      "        3  0.03206   0.002  0.001  1.000  0.000 -0.017 -0.001\n",
      "        4  0.70558   0.001  0.001  0.000  1.000 -0.455 -0.118\n",
      "        5  0.86814  -0.546 -0.395 -0.017 -0.455  1.000 -0.173\n",
      "        6  0.54220  -0.095 -0.059 -0.001 -0.118 -0.173  1.000\n",
      " **********\n",
      " **    7 **SET ERR         0.5\n",
      " **********\n",
      " **********\n",
      " **    8 **SET PRINT           1\n",
      " **********\n",
      " **********\n",
      " **    9 **HESSE        3000\n",
      " **********\n",
      " COVARIANCE MATRIX CALCULATED SUCCESSFULLY\n",
      " FCN=-958.64 FROM HESSE     STATUS=OK             40 CALLS         184 TOTAL\n",
      "                     EDM=8.19523e-06    STRATEGY= 1      ERROR MATRIX ACCURATE \n",
      "  EXT PARAMETER                                INTERNAL      INTERNAL  \n",
      "  NO.   NAME      VALUE            ERROR       STEP SIZE       VALUE   \n",
      "   1  alpha_JES_Scenario1_NP1   2.03451e-01   9.67502e-01   5.43935e-04   4.07015e-02\n",
      "   2  alpha_lumi   1.82836e-02   9.92824e-01   6.57714e-04   3.65672e-03\n",
      "   3  alpha_stXsec   1.88750e-02   9.92881e-01   8.54595e-04   3.77502e-03\n",
      "   4  alpha_ttXsec   1.68291e-03   9.93274e-01   6.06407e-04   3.36582e-04\n",
      "   5  mu_tt        1.08690e+00   1.43451e-01   6.71269e-05  -1.10023e+00\n",
      "   6  mu_ttH       1.03564e+00   8.99340e-01   4.46347e-05  -2.67468e-01\n",
      "                               ERR DEF= 0.5\n",
      " EXTERNAL ERROR MATRIX.    NDIM=  25    NPAR=  6    ERR DEF=0.5\n",
      "  9.480e-01  1.924e-03  1.816e-03  1.475e-04 -7.624e-02 -8.251e-02 \n",
      "  1.924e-03  9.989e-01  7.958e-04  1.029e-04 -5.663e-02 -5.238e-02 \n",
      "  1.816e-03  7.958e-04  9.991e-01  1.936e-06 -2.448e-03 -6.713e-04 \n",
      "  1.475e-04  1.029e-04  1.936e-06  9.999e-01 -6.523e-02 -1.039e-01 \n",
      " -7.624e-02 -5.663e-02 -2.448e-03 -6.523e-02  2.059e-02 -2.270e-02 \n",
      " -8.251e-02 -5.238e-02 -6.713e-04 -1.039e-01 -2.270e-02  8.099e-01 \n",
      " PARAMETER  CORRELATION COEFFICIENTS  \n",
      "       NO.  GLOBAL      1      2      3      4      5      6\n",
      "        1  0.75766   1.000  0.002  0.002  0.000 -0.546 -0.094\n",
      "        2  0.63957   0.002  1.000  0.001  0.000 -0.395 -0.058\n",
      "        3  0.03210   0.002  0.001  1.000  0.000 -0.017 -0.001\n",
      "        4  0.70541   0.000  0.000  0.000  1.000 -0.455 -0.115\n",
      "        5  0.86821  -0.546 -0.395 -0.017 -0.455  1.000 -0.176\n",
      "        6  0.54284  -0.094 -0.058 -0.001 -0.115 -0.176  1.000\n",
      "[#1] INFO:Minization -- RooMinimizer::optimizeConst: deactivating const optimization\n"
     ]
    }
   ],
   "source": [
    "// fit to the full S+B model\n",
    "dataset = w->data(\"obsData\");\n",
    "\n",
    "w->var(\"mu_ttH\")->setVal(0);\n",
    "w->var(\"mu_ttH\")->setConstant(kFALSE);\n",
    "w->pdf(\"simPdf\")->fitTo(*dataset);"
   ]
  },
  {
   "cell_type": "code",
   "execution_count": 14,
   "id": "2608d8ee",
   "metadata": {},
   "outputs": [
    {
     "data": {
      "image/png": "[encoded data removed]",
      "text/plain": [
       "<IPython.core.display.Image object>"
      ]
     },
     "metadata": {},
     "output_type": "display_data"
    },
    {
     "name": "stdout",
     "output_type": "stream",
     "text": [
      "[#1] INFO:Plotting -- RooTreeData::plotOn: plotting 132 events out of 278 total events\n",
      "[#1] INFO:Plotting -- RooSimultaneous::plotOn(simPdf) plot on obs_x_ljets_HThad_5j3b represents a slice in the index category (channelCat)\n",
      "[#1] INFO:Plotting -- RooAbsReal::plotOn(model_ljets_HThad_5j3b) slice variable channelCat was not projected anyway\n",
      "[#1] INFO:NumericIntegration -- RooRealIntegral::init(ljets_HThad_5j3b_model_Int[obs_x_ljets_HThad_5j3b]) using numeric integrator RooBinIntegrator to calculate Int(obs_x_ljets_HThad_5j3b)\n",
      "[#1] INFO:Plotting -- RooTreeData::plotOn: plotting 146 events out of 278 total events\n",
      "[#1] INFO:Plotting -- RooSimultaneous::plotOn(simPdf) plot on obs_x_ljets_Mbb_ge6jge4b represents a slice in the index category (channelCat)\n",
      "[#1] INFO:Plotting -- RooAbsReal::plotOn(model_ljets_Mbb_ge6jge4b) slice variable channelCat was not projected anyway\n",
      "[#1] INFO:NumericIntegration -- RooRealIntegral::init(ljets_Mbb_ge6jge4b_model_Int[obs_x_ljets_Mbb_ge6jge4b]) using numeric integrator RooBinIntegrator to calculate Int(obs_x_ljets_Mbb_ge6jge4b)\n",
      "[#1] INFO:Minization -- p.d.f. provides expected number of events, including extended term in likelihood.\n",
      "[#1] INFO:Minization -- createNLL picked up cached constraints from workspace with 4 entries\n",
      "[#1] INFO:Minization --  Including the following constraint terms in minimization: (alpha_lumiConstraint,alpha_ttXsecConstraint,alpha_JES_Scenario1_NP1Constraint,alpha_stXsecConstraint)\n",
      "[#1] INFO:Fitting -- RooAddition::defaultErrorLevel(nll_simPdf_obsData_with_constr) Summation contains a RooNLLVar, using its error level\n",
      "[#1] INFO:Minization -- RooMinimizer::optimizeConst: activating const optimization\n",
      "RooAbsTestStatistic::initSimMode: creating slave calculator #0 for state ljets_HThad_5j3b (5 dataset entries)\n",
      "[#1] INFO:NumericIntegration -- RooRealIntegral::init(ljets_HThad_5j3b_model_Int[obs_x_ljets_HThad_5j3b]) using numeric integrator RooBinIntegrator to calculate Int(obs_x_ljets_HThad_5j3b)\n",
      "RooAbsTestStatistic::initSimMode: creating slave calculator #1 for state ljets_Mbb_ge6jge4b (10 dataset entries)\n",
      "[#1] INFO:NumericIntegration -- RooRealIntegral::init(ljets_Mbb_ge6jge4b_model_Int[obs_x_ljets_Mbb_ge6jge4b]) using numeric integrator RooBinIntegrator to calculate Int(obs_x_ljets_Mbb_ge6jge4b)\n",
      "[#1] INFO:Fitting -- RooAbsTestStatistic::initSimMode: created 2 slave calculators.\n",
      "[#1] INFO:NumericIntegration -- RooRealIntegral::init(ljets_HThad_5j3b_model_Int[obs_x_ljets_HThad_5j3b]) using numeric integrator RooBinIntegrator to calculate Int(obs_x_ljets_HThad_5j3b)\n",
      "[#1] INFO:Minization --  The following expressions have been identified as constant and will be precalculated and cached: (ttH_ljets_HThad_5j3b_nominal,ttbar_ljets_HThad_5j3b_Hist_alphanominal,ttbar_ljets_HThad_5j3b_Hist_alpha_0low,ttbar_ljets_HThad_5j3b_Hist_alpha_0high,singleTop_ljets_HThad_5j3b_nominal)\n",
      "[#1] INFO:Minization --  The following expressions will be evaluated in cache-and-track mode: (ttbar_ljets_HThad_5j3b_Hist_alpha)\n",
      "[#1] INFO:NumericIntegration -- RooRealIntegral::init(ljets_Mbb_ge6jge4b_model_Int[obs_x_ljets_Mbb_ge6jge4b]) using numeric integrator RooBinIntegrator to calculate Int(obs_x_ljets_Mbb_ge6jge4b)\n",
      "[#1] INFO:Minization --  The following expressions have been identified as constant and will be precalculated and cached: (ttH_ljets_Mbb_ge6jge4b_nominal,ttbar_ljets_Mbb_ge6jge4b_Hist_alphanominal,ttbar_ljets_Mbb_ge6jge4b_Hist_alpha_0low,ttbar_ljets_Mbb_ge6jge4b_Hist_alpha_0high,singleTop_ljets_Mbb_ge6jge4b_nominal)\n",
      "[#1] INFO:Minization --  The following expressions will be evaluated in cache-and-track mode: (ttbar_ljets_Mbb_ge6jge4b_Hist_alpha)\n",
      " **********\n",
      " **    1 **SET PRINT           1\n",
      " **********\n",
      " **********\n",
      " **    2 **SET NOGRAD\n",
      " **********\n",
      " PARAMETER DEFINITIONS:\n",
      "    NO.   NAME         VALUE      STEP SIZE      LIMITS\n",
      "     1 alpha_JES_Scenario1_NP1   2.03451e-01  9.67502e-01   -5.00000e+00  5.00000e+00\n",
      "     2 alpha_lumi   1.82836e-02  9.92824e-01   -5.00000e+00  5.00000e+00\n",
      "     3 alpha_stXsec   1.88750e-02  9.92881e-01   -5.00000e+00  5.00000e+00\n",
      "     4 alpha_ttXsec   1.68291e-03  9.93274e-01   -5.00000e+00  5.00000e+00\n",
      "     5 mu_tt        1.08690e+00  1.43451e-01    0.00000e+00  2.00000e+01\n",
      " **********\n",
      " **    3 **SET ERR         0.5\n",
      " **********\n",
      " **********\n",
      " **    4 **SET PRINT           1\n",
      " **********\n",
      " **********\n",
      " **    5 **SET STR           1\n",
      " **********\n",
      " NOW USING STRATEGY  1: TRY TO BALANCE SPEED AGAINST RELIABILITY\n",
      " **********\n",
      " **    6 **MIGRAD        2500           1\n",
      " **********\n",
      " FIRST CALL TO USER FUNCTION AT NEW START POINT, WITH IFLAG=4.\n",
      "[#1] INFO:NumericIntegration -- RooRealIntegral::init(alpha_lumiConstraint_Int[alpha_lumi,nom_alpha_lumi]) using numeric integrator RooIntegrator1D to calculate Int(nom_alpha_lumi)\n",
      "[#1] INFO:NumericIntegration -- RooRealIntegral::init(alpha_ttXsecConstraint_Int[alpha_ttXsec,nom_alpha_ttXsec]) using numeric integrator RooIntegrator1D to calculate Int(nom_alpha_ttXsec)\n",
      "[#1] INFO:NumericIntegration -- RooRealIntegral::init(alpha_JES_Scenario1_NP1Constraint_Int[alpha_JES_Scenario1_NP1,nom_alpha_JES_Scenario1_NP1]) using numeric integrator RooIntegrator1D to calculate Int(nom_alpha_JES_Scenario1_NP1)\n",
      "[#1] INFO:NumericIntegration -- RooRealIntegral::init(alpha_stXsecConstraint_Int[alpha_stXsec,nom_alpha_stXsec]) using numeric integrator RooIntegrator1D to calculate Int(nom_alpha_stXsec)\n",
      " START MIGRAD MINIMIZATION.  STRATEGY  1.  CONVERGENCE WHEN EDM .LT. 1.00e-03\n",
      " FCN=-948.339 FROM MIGRAD    STATUS=INITIATE       12 CALLS          13 TOTAL\n",
      "                     EDM= unknown      STRATEGY= 1      NO ERROR MATRIX       \n",
      "  EXT PARAMETER               CURRENT GUESS       STEP         FIRST   \n",
      "  NO.   NAME      VALUE            ERROR          SIZE      DERIVATIVE \n",
      "   1  alpha_JES_Scenario1_NP1   2.03451e-01   9.67502e-01   1.94898e-01  -5.11792e+00\n",
      "   2  alpha_lumi   1.82836e-02   9.92824e-01   1.99895e-01  -3.33975e+00\n",
      "   3  alpha_stXsec   1.88750e-02   9.92881e-01   1.99907e-01  -1.36434e-01\n",
      "   4  alpha_ttXsec   1.68291e-03   9.93274e-01   1.99985e-01  -3.83851e+00\n",
      "   5  mu_tt        1.08690e+00   1.43451e-01   3.17064e-02  -5.34724e+01\n",
      "                               ERR DEF= 0.5\n",
      " MIGRAD MINIMIZATION HAS CONVERGED.\n",
      " MIGRAD WILL VERIFY CONVERGENCE AND ERROR MATRIX.\n",
      " COVARIANCE MATRIX CALCULATED SUCCESSFULLY\n",
      " FCN=-948.672 FROM MIGRAD    STATUS=CONVERGED      91 CALLS          92 TOTAL\n",
      "                     EDM=3.71678e-05    STRATEGY= 1      ERROR MATRIX ACCURATE \n",
      "  EXT PARAMETER                                   STEP         FIRST   \n",
      "  NO.   NAME      VALUE            ERROR          SIZE      DERIVATIVE \n",
      "   1  alpha_JES_Scenario1_NP1   2.51854e-01   9.68955e-01   2.68931e-03   1.10368e-02\n",
      "   2  alpha_lumi   2.32422e-02   9.92856e-01   3.26882e-03   2.11285e-02\n",
      "   3  alpha_stXsec   1.81087e-02   9.92872e-01   4.25084e-03  -5.82516e-03\n",
      "   4  alpha_ttXsec  -4.09534e-03   9.93367e-01   3.06405e-03  -1.89845e-02\n",
      "   5  mu_tt        1.14003e+00   1.42561e-01   3.26319e-04   2.02315e-02\n",
      "                               ERR DEF= 0.5\n",
      " EXTERNAL ERROR MATRIX.    NDIM=  25    NPAR=  5    ERR DEF=0.5\n",
      "  9.509e-01  2.524e-03  1.904e-03  7.942e-04 -8.201e-02 \n",
      "  2.524e-03  9.990e-01  8.133e-04  5.780e-04 -5.938e-02 \n",
      "  1.904e-03  8.133e-04  9.990e-01  1.226e-05 -2.498e-03 \n",
      "  7.942e-04  5.780e-04  1.226e-05  1.000e+00 -6.858e-02 \n",
      " -8.201e-02 -5.938e-02 -2.498e-03 -6.858e-02  2.033e-02 \n",
      " PARAMETER  CORRELATION COEFFICIENTS  \n",
      "       NO.  GLOBAL      1      2      3      4      5\n",
      "        1  0.76269   1.000  0.003  0.002  0.001 -0.590\n",
      "        2  0.63941   0.003  1.000  0.001  0.001 -0.417\n",
      "        3  0.03220   0.002  0.001  1.000  0.000 -0.018\n",
      "        4  0.69350   0.001  0.001  0.000  1.000 -0.481\n",
      "        5  0.86667  -0.590 -0.417 -0.018 -0.481  1.000\n",
      " **********\n",
      " **    7 **SET ERR         0.5\n",
      " **********\n",
      " **********\n",
      " **    8 **SET PRINT           1\n",
      " **********\n",
      " **********\n",
      " **    9 **HESSE        2500\n",
      " **********\n",
      " COVARIANCE MATRIX CALCULATED SUCCESSFULLY\n",
      " FCN=-948.672 FROM HESSE     STATUS=OK             31 CALLS         123 TOTAL\n",
      "                     EDM=3.71873e-05    STRATEGY= 1      ERROR MATRIX ACCURATE \n",
      "  EXT PARAMETER                                INTERNAL      INTERNAL  \n",
      "  NO.   NAME      VALUE            ERROR       STEP SIZE       VALUE   \n",
      "   1  alpha_JES_Scenario1_NP1   2.51854e-01   9.69029e-01   5.37862e-04   5.03921e-02\n",
      "   2  alpha_lumi   2.32422e-02   9.92882e-01   6.53764e-04   4.64845e-03\n",
      "   3  alpha_stXsec   1.81087e-02   9.92870e-01   8.50169e-04   3.62174e-03\n",
      "   4  alpha_ttXsec  -4.09534e-03   9.93368e-01   6.12810e-04  -8.19069e-04\n",
      "   5  mu_tt        1.14003e+00   1.42514e-01   6.52638e-05  -1.08864e+00\n",
      "                               ERR DEF= 0.5\n",
      " EXTERNAL ERROR MATRIX.    NDIM=  25    NPAR=  5    ERR DEF=0.5\n",
      "  9.510e-01  2.062e-03  1.931e-03  1.680e-04 -8.195e-02 \n",
      "  2.062e-03  9.991e-01  8.278e-04  1.221e-04 -5.932e-02 \n",
      "  1.931e-03  8.278e-04  9.990e-01  2.730e-06 -2.503e-03 \n",
      "  1.680e-04  1.221e-04  2.730e-06  1.000e+00 -6.849e-02 \n",
      " -8.195e-02 -5.932e-02 -2.503e-03 -6.849e-02  2.032e-02 \n",
      " PARAMETER  CORRELATION COEFFICIENTS  \n",
      "       NO.  GLOBAL      1      2      3      4      5\n",
      "        1  0.76273   1.000  0.002  0.002  0.000 -0.590\n",
      "        2  0.63944   0.002  1.000  0.001  0.000 -0.416\n",
      "        3  0.03224   0.002  0.001  1.000  0.000 -0.018\n",
      "        4  0.69350   0.000  0.000  0.000  1.000 -0.481\n",
      "        5  0.86657  -0.590 -0.416 -0.018 -0.481  1.000\n",
      "[#1] INFO:Minization -- RooMinimizer::optimizeConst: deactivating const optimization\n",
      "[#1] INFO:Plotting -- RooSimultaneous::plotOn(simPdf) plot on obs_x_ljets_HThad_5j3b averages with data index category (channelCat)\n",
      "[#1] INFO:Plotting -- RooAbsReal::plotOn(simPdf) plot on obs_x_ljets_HThad_5j3b integrates over variables (obs_x_ljets_Mbb_ge6jge4b)\n",
      "[#1] INFO:NumericIntegration -- RooRealIntegral::init(ljets_HThad_5j3b_model_Int[obs_x_ljets_HThad_5j3b]) using numeric integrator RooBinIntegrator to calculate Int(obs_x_ljets_HThad_5j3b)\n",
      "[#1] INFO:NumericIntegration -- RooRealIntegral::init(ljets_Mbb_ge6jge4b_model_Int[obs_x_ljets_Mbb_ge6jge4b]) using numeric integrator RooBinIntegrator to calculate Int(obs_x_ljets_Mbb_ge6jge4b)\n",
      "[#1] INFO:Plotting -- RooSimultaneous::plotOn(simPdf) plot on obs_x_ljets_Mbb_ge6jge4b averages with data index category (channelCat)\n",
      "[#1] INFO:Plotting -- RooAbsReal::plotOn(simPdf) plot on obs_x_ljets_Mbb_ge6jge4b integrates over variables (obs_x_ljets_HThad_5j3b)\n",
      "[#1] INFO:NumericIntegration -- RooRealIntegral::init(ljets_HThad_5j3b_model_Int[obs_x_ljets_HThad_5j3b]) using numeric integrator RooBinIntegrator to calculate Int(obs_x_ljets_HThad_5j3b)\n",
      "[#1] INFO:NumericIntegration -- RooRealIntegral::init(ljets_Mbb_ge6jge4b_model_Int[obs_x_ljets_Mbb_ge6jge4b]) using numeric integrator RooBinIntegrator to calculate Int(obs_x_ljets_Mbb_ge6jge4b)\n"
     ]
    }
   ],
   "source": [
    "c = new TCanvas(\"c\", \"c\", 800, 400);\n",
    "c->Divide(2, 1);\n",
    "\n",
    "cat = w->cat(\"channelCat\");\n",
    "\n",
    "frame = w->var(\"obs_x_ljets_HThad_5j3b\")->frame();\n",
    "dataset->plotOn(frame, RooFit::Name(\"observed data\"), RooFit::Cut(\"channelCat==channelCat::ljets_HThad_5j3b\"));\n",
    "w->pdf(\"simPdf\")->plotOn(frame, RooFit::Slice(*cat, \"ljets_HThad_5j3b\"), RooFit::ProjWData(*cat, *dataset), RooFit::Name(\"PDF after S+B fit\"), RooFit::LineColor(kRed));\n",
    "\n",
    "frame2 = w->var(\"obs_x_ljets_Mbb_ge6jge4b\")->frame();\n",
    "dataset->plotOn(frame2, RooFit::Name(\"observed data\"), RooFit::Cut(\"channelCat==channelCat::ljets_Mbb_ge6jge4b\"));\n",
    "w->pdf(\"simPdf\")->plotOn(frame2, RooFit::Slice(*cat, \"ljets_Mbb_ge6jge4b\"), RooFit::ProjWData(*cat, *dataset), RooFit::Name(\"PDF after S+B fit\"), RooFit::LineColor(kRed));\n",
    "\n",
    "// now, fit with POI set to zero\n",
    "w->var(\"mu_ttH\")->setVal(0);\n",
    "w->var(\"mu_ttH\")->setConstant(kTRUE);\n",
    "w->pdf(\"simPdf\")->fitTo(*dataset);\n",
    "\n",
    "w->pdf(\"simPdf\")->plotOn(frame, RooFit::ProjWData(*cat, *dataset), RooFit::Name(\"PDF after B-only fit\"), RooFit::LineColor(kBlue+1));\n",
    "w->pdf(\"simPdf\")->plotOn(frame2, RooFit::ProjWData(*cat, *dataset), RooFit::Name(\"PDF after B-only fit\"), RooFit::LineColor(kBlue+1));\n",
    "\n",
    "c->cd(1);\n",
    "frame->Draw();\n",
    "c->cd(2);\n",
    "frame2->Draw();\n",
    "\n",
    "c->Draw();"
   ]
  },
  {
   "cell_type": "markdown",
   "id": "534f15ea",
   "metadata": {},
   "source": [
    "## With CommonStatTools"
   ]
  },
  {
   "cell_type": "markdown",
   "id": "c8732f5c",
   "metadata": {},
   "source": [
    "The CommonStatTools package provides a simple tool to extract histograms out of the folder structure of the file containing the RooWorkspace, and put them out in a single ROOT file."
   ]
  },
  {
   "cell_type": "code",
   "execution_count": 15,
   "id": "04434f20",
   "metadata": {},
   "outputs": [
    {
     "name": "stdout",
     "output_type": "stream",
     "text": [
      "\n",
      "\n",
      "\n",
      "\u001b[1mRooFit v3.60 -- Developed by Wouter Verkerke and David Kirkby\u001b[0m \n",
      "\n",
      "\n",
      "                Copyright (C) 2000-2013 NIKHEF, University of California & Stanford University\n",
      "\n",
      "\n",
      "                All rights reserved, please read http://roofit.sourceforge.net/license.txt\n",
      "\n",
      "\n",
      "\n",
      "\n",
      "\n"
     ]
    }
   ],
   "source": [
    "!python ../CommonStatTools/obtainHistosFromWS.py -i ws/ATLASIT_prova_combined_ATLASIT_prova_model.root -o validation_histos.root"
   ]
  },
  {
   "cell_type": "code",
   "execution_count": 16,
   "id": "b817015b",
   "metadata": {},
   "outputs": [
    {
     "name": "stdout",
     "output_type": "stream",
     "text": [
      "\u001b[0m\u001b[01;34mblabla\u001b[0m               create_workspace.ipynb   mytest.root             \u001b[01;34mws\u001b[0m\r\n",
      "create_inputs.ipynb  inspect_workspace.ipynb  validation_histos.root  \u001b[01;34mxml\u001b[0m\r\n",
      "\n"
     ]
    }
   ],
   "source": [
    "!ls"
   ]
  },
  {
   "cell_type": "code",
   "execution_count": 17,
   "id": "452fa874",
   "metadata": {},
   "outputs": [
    {
     "name": "stdout",
     "output_type": "stream",
     "text": [
      "TFile**\t\tvalidation_histos.root\t\n",
      " TFile*\t\tvalidation_histos.root\t\n",
      "  KEY: TH1D\tljets_HThad_5j3b_Data_regBin;1\th\n",
      "  KEY: TH1D\tljets_HThad_5j3b_ttH_regBin;1\th\n",
      "  KEY: TH1D\tljets_HThad_5j3b_ttbar_regBin;1\th\n",
      "  KEY: TH1D\tljets_HThad_5j3b_ttbar_JES_Scenario1_NP1_Shape_Down_regBin;1\th\n",
      "  KEY: TH1D\tljets_HThad_5j3b_ttbar_JES_Scenario1_NP1_Shape_Up_regBin;1\th\n",
      "  KEY: TH1D\tljets_HThad_5j3b_singleTop_regBin;1\th\n",
      "  KEY: TH1D\tljets_Mbb_ge6jge4b_Data_regBin;1\th\n",
      "  KEY: TH1D\tljets_Mbb_ge6jge4b_ttH_regBin;1\th\n",
      "  KEY: TH1D\tljets_Mbb_ge6jge4b_ttbar_regBin;1\th\n",
      "  KEY: TH1D\tljets_Mbb_ge6jge4b_ttbar_JES_Scenario1_NP1_Shape_Down_regBin;1\th\n",
      "  KEY: TH1D\tljets_Mbb_ge6jge4b_ttbar_JES_Scenario1_NP1_Shape_Up_regBin;1\th\n",
      "  KEY: TH1D\tljets_Mbb_ge6jge4b_singleTop_regBin;1\th\n"
     ]
    }
   ],
   "source": [
    "f_histo = new TFile(\"validation_histos.root\");\n",
    "f_histo->ls();"
   ]
  },
  {
   "cell_type": "code",
   "execution_count": 18,
   "id": "a662f3bb",
   "metadata": {},
   "outputs": [
    {
     "data": {
      "image/png": "[encoded data removed]",
      "text/plain": [
       "<IPython.core.display.Image object>"
      ]
     },
     "metadata": {},
     "output_type": "display_data"
    }
   ],
   "source": [
    "c = new TCanvas(\"c2\", \"c\", 800, 400);\n",
    "c->Divide(2, 1);\n",
    "\n",
    "// first channel\n",
    "c->cd(1);\n",
    "h_data = dynamic_cast<TH1D*>(f_histo->Get(\"ljets_HThad_5j3b_Data_regBin\"));\n",
    "h_ttH = dynamic_cast<TH1D*>(f_histo->Get(\"ljets_HThad_5j3b_ttH_regBin\"));\n",
    "h_ttbar = dynamic_cast<TH1D*>(f_histo->Get(\"ljets_HThad_5j3b_ttbar_regBin\"));\n",
    "h_singleTop = dynamic_cast<TH1D*>(f_histo->Get(\"ljets_HThad_5j3b_singleTop_regBin\"));\n",
    "\n",
    "h_ttH->SetLineColor(kRed);\n",
    "h_ttbar->SetLineColor(kBlue+1);\n",
    "h_singleTop->SetLineColor(kGreen-8);\n",
    "h_ttH->SetTitle(\"ttH\");\n",
    "h_ttbar->SetTitle(\"ttbar\");\n",
    "h_singleTop->SetTitle(\"single top\");\n",
    "h_data->SetTitle(\"data\");\n",
    "\n",
    "h_data->Draw(\"pe\");\n",
    "auto S_plus_B = new THStack(\"S_plus_B\", \"S plus B\");\n",
    "S_plus_B->Add(h_singleTop);\n",
    "S_plus_B->Add(h_ttbar);\n",
    "S_plus_B->Add(h_ttH);\n",
    "S_plus_B->Draw(\"hist same\");\n",
    "\n",
    "\n",
    "// second channel\n",
    "c->cd(2);\n",
    "h_data = dynamic_cast<TH1D*>(f_histo->Get(\"ljets_Mbb_ge6jge4b_Data_regBin\"));\n",
    "h_ttH = dynamic_cast<TH1D*>(f_histo->Get(\"ljets_Mbb_ge6jge4b_ttH_regBin\"));\n",
    "h_ttbar = dynamic_cast<TH1D*>(f_histo->Get(\"ljets_Mbb_ge6jge4b_ttbar_regBin\"));\n",
    "h_singleTop = dynamic_cast<TH1D*>(f_histo->Get(\"ljets_Mbb_ge6jge4b_singleTop_regBin\"));\n",
    "\n",
    "h_ttH->SetLineColor(kRed);\n",
    "h_ttbar->SetLineColor(kBlue+1);\n",
    "h_singleTop->SetLineColor(kGreen-8);\n",
    "h_ttH->SetTitle(\"ttH\");\n",
    "h_ttbar->SetTitle(\"ttbar\");\n",
    "h_singleTop->SetTitle(\"single top\");\n",
    "h_data->SetTitle(\"data\");\n",
    "\n",
    "h_data->Draw(\"pe\");\n",
    "auto S_plus_B2 = new THStack(\"S_plus_B\", \"S plus B\");\n",
    "S_plus_B2->Add(h_singleTop);\n",
    "S_plus_B2->Add(h_ttbar);\n",
    "S_plus_B2->Add(h_ttH);\n",
    "S_plus_B2->Draw(\"hist same\");\n",
    "\n",
    "\n",
    "c->cd(2)->BuildLegend();\n",
    "c->Draw();"
   ]
  },
  {
   "cell_type": "markdown",
   "id": "dddae21d",
   "metadata": {},
   "source": [
    "You may sometimes need to compare different versions of the same workspace. In this case, a convenient way to identify changes in histograms is provided by CommonStatTools: let's first create a second mockup workspace,"
   ]
  },
  {
   "cell_type": "code",
   "execution_count": 1,
   "id": "0b733e81",
   "metadata": {},
   "outputs": [],
   "source": [
    "!cp ws/ATLASIT_prova_combined_ATLASIT_prova_model.root another_mysterious_ws.root"
   ]
  },
  {
   "cell_type": "markdown",
   "id": "d6f1b2ce",
   "metadata": {},
   "source": [
    "and then we can visualize the differences between the histograms contained in the \"old\" (`-o`) and \"new\" (`-n`) files:"
   ]
  },
  {
   "cell_type": "code",
   "execution_count": 7,
   "id": "742604d9",
   "metadata": {},
   "outputs": [
    {
     "name": "stdout",
     "output_type": "stream",
     "text": [
      "\n",
      "\n",
      "\n",
      "\u001b[1mRooFit v3.60 -- Developed by Wouter Verkerke and David Kirkby\u001b[0m \n",
      "\n",
      "\n",
      "                Copyright (C) 2000-2013 NIKHEF, University of California & Stanford University\n",
      "\n",
      "\n",
      "                All rights reserved, please read http://roofit.sourceforge.net/license.txt\n",
      "\n",
      "\n",
      "\n",
      "\n",
      "\n",
      "\n",
      "\n",
      "\n",
      "Elements only in ws/ATLASIT_prova_combined_ATLASIT_prova_model.root:\n",
      "\n",
      "\n",
      "\n",
      "\n",
      "\n",
      "Elements only in another_mysterious_ws.root:\n",
      "\n",
      "\n",
      "\n",
      "\n",
      "\n",
      "Common elements:\n",
      "\n",
      "\n",
      "  ljets_HThad_5j3b_hists_data_ljets_HThad_5j3b_Data_regBin\n",
      "\n",
      "\n",
      "    number of bins: identical\n",
      "\n",
      "\n",
      "    x-axis min: 0.000 vs 0.000\n",
      "\n",
      "\n",
      "    x-axis max: identical\n",
      "\n",
      "\n",
      "    integral: identical\n",
      "\n",
      "\n",
      "    mean: identical\n",
      "\n",
      "\n",
      "    rms: identical\n",
      "\n",
      "\n",
      "  ljets_HThad_5j3b_hists_singleTop_ljets_HThad_5j3b_singleTop_regBin\n",
      "\n",
      "\n",
      "    number of bins: identical\n",
      "\n",
      "\n",
      "    x-axis min: 0.000 vs 0.000\n",
      "\n",
      "\n",
      "    x-axis max: identical\n",
      "\n",
      "\n",
      "    integral: identical\n",
      "\n",
      "\n",
      "    mean: identical\n",
      "\n",
      "\n",
      "    rms: identical\n",
      "\n",
      "\n",
      "  ljets_HThad_5j3b_hists_ttH_ljets_HThad_5j3b_ttH_regBin\n",
      "\n",
      "\n",
      "    number of bins: identical\n",
      "\n",
      "\n",
      "    x-axis min: 0.000 vs 0.000\n",
      "\n",
      "\n",
      "    x-axis max: identical\n",
      "\n",
      "\n",
      "    integral: identical\n",
      "\n",
      "\n",
      "    mean: identical\n",
      "\n",
      "\n",
      "    rms: identical\n",
      "\n",
      "\n",
      "  ljets_HThad_5j3b_hists_ttbar_ljets_HThad_5j3b_ttbar_JES_Scenario1_NP1_Shape_Down_regBin\n",
      "\n",
      "\n",
      "    number of bins: identical\n",
      "\n",
      "\n",
      "    x-axis min: 0.000 vs 0.000\n",
      "\n",
      "\n",
      "    x-axis max: identical\n",
      "\n",
      "\n",
      "    integral: identical\n",
      "\n",
      "\n",
      "    mean: identical\n",
      "\n",
      "\n",
      "    rms: identical\n",
      "\n",
      "\n",
      "  ljets_HThad_5j3b_hists_ttbar_ljets_HThad_5j3b_ttbar_JES_Scenario1_NP1_Shape_Up_regBin\n",
      "\n",
      "\n",
      "    number of bins: identical\n",
      "\n",
      "\n",
      "    x-axis min: 0.000 vs 0.000\n",
      "\n",
      "\n",
      "    x-axis max: identical\n",
      "\n",
      "\n",
      "    integral: identical\n",
      "\n",
      "\n",
      "    mean: identical\n",
      "\n",
      "\n",
      "    rms: identical\n",
      "\n",
      "\n",
      "  ljets_HThad_5j3b_hists_ttbar_ljets_HThad_5j3b_ttbar_regBin\n",
      "\n",
      "\n",
      "    number of bins: identical\n",
      "\n",
      "\n",
      "    x-axis min: 0.000 vs 0.000\n",
      "\n",
      "\n",
      "    x-axis max: identical\n",
      "\n",
      "\n",
      "    integral: identical\n",
      "\n",
      "\n",
      "    mean: identical\n",
      "\n",
      "\n",
      "    rms: identical\n",
      "\n",
      "\n",
      "  ljets_Mbb_ge6jge4b_hists_data_ljets_Mbb_ge6jge4b_Data_regBin\n",
      "\n",
      "\n",
      "    number of bins: identical\n",
      "\n",
      "\n",
      "    x-axis min: 0.000 vs 0.000\n",
      "\n",
      "\n",
      "    x-axis max: identical\n",
      "\n",
      "\n",
      "    integral: identical\n",
      "\n",
      "\n",
      "    mean: identical\n",
      "\n",
      "\n",
      "    rms: identical\n",
      "\n",
      "\n",
      "  ljets_Mbb_ge6jge4b_hists_singleTop_ljets_Mbb_ge6jge4b_singleTop_regBin\n",
      "\n",
      "\n",
      "    number of bins: identical\n",
      "\n",
      "\n",
      "    x-axis min: 0.000 vs 0.000\n",
      "\n",
      "\n",
      "    x-axis max: identical\n",
      "\n",
      "\n",
      "    integral: identical\n",
      "\n",
      "\n",
      "    mean: identical\n",
      "\n",
      "\n",
      "    rms: identical\n",
      "\n",
      "\n",
      "  ljets_Mbb_ge6jge4b_hists_ttH_ljets_Mbb_ge6jge4b_ttH_regBin\n",
      "\n",
      "\n",
      "    number of bins: identical\n",
      "\n",
      "\n",
      "    x-axis min: 0.000 vs 0.000\n",
      "\n",
      "\n",
      "    x-axis max: identical\n",
      "\n",
      "\n",
      "    integral: identical\n",
      "\n",
      "\n",
      "    mean: identical\n",
      "\n",
      "\n",
      "    rms: identical\n",
      "\n",
      "\n",
      "  ljets_Mbb_ge6jge4b_hists_ttbar_ljets_Mbb_ge6jge4b_ttbar_JES_Scenario1_NP1_Shape_Down_regBin\n",
      "\n",
      "\n",
      "    number of bins: identical\n",
      "\n",
      "\n",
      "    x-axis min: 0.000 vs 0.000\n",
      "\n",
      "\n",
      "    x-axis max: identical\n",
      "\n",
      "\n",
      "    integral: identical\n",
      "\n",
      "\n",
      "    mean: identical\n",
      "\n",
      "\n",
      "    rms: identical\n",
      "\n",
      "\n",
      "  ljets_Mbb_ge6jge4b_hists_ttbar_ljets_Mbb_ge6jge4b_ttbar_JES_Scenario1_NP1_Shape_Up_regBin\n",
      "\n",
      "\n",
      "    number of bins: identical\n",
      "\n",
      "\n",
      "    x-axis min: 0.000 vs 0.000\n",
      "\n",
      "\n",
      "    x-axis max: identical\n",
      "\n",
      "\n",
      "    integral: identical\n",
      "\n",
      "\n",
      "    mean: identical\n",
      "\n",
      "\n",
      "    rms: identical\n",
      "\n",
      "\n",
      "  ljets_Mbb_ge6jge4b_hists_ttbar_ljets_Mbb_ge6jge4b_ttbar_regBin\n",
      "\n",
      "\n",
      "    number of bins: identical\n",
      "\n",
      "\n",
      "    x-axis min: 0.000 vs 0.000\n",
      "\n",
      "\n",
      "    x-axis max: identical\n",
      "\n",
      "\n",
      "    integral: identical\n",
      "\n",
      "\n",
      "    mean: identical\n",
      "\n",
      "\n",
      "    rms: identical\n",
      "\n",
      "\n"
     ]
    }
   ],
   "source": [
    "!python ../CommonStatTools/compareHistos.py -o ws/ATLASIT_prova_combined_ATLASIT_prova_model.root -n another_mysterious_ws.root"
   ]
  },
  {
   "cell_type": "markdown",
   "id": "defd1760",
   "metadata": {},
   "source": [
    "Of course there may be residual differences due to different settings in terms of normalization factors or normalization uncertainties, but that might be checked for example by comparing the XML files which can be extracted a-posteriori from the `Measurement` object in the file (`vimdiff` them!)."
   ]
  },
  {
   "cell_type": "code",
   "execution_count": null,
   "id": "716a16c4",
   "metadata": {},
   "outputs": [],
   "source": []
  }
 ],
 "metadata": {
  "kernelspec": {
   "display_name": "ROOT C++",
   "language": "c++",
   "name": "root"
  },
  "language_info": {
   "codemirror_mode": "text/x-c++src",
   "file_extension": ".C",
   "mimetype": " text/x-c++src",
   "name": "c++"
  }
 },
 "nbformat": 4,
 "nbformat_minor": 5
}
