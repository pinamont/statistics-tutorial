{
 "cells": [
  {
   "cell_type": "markdown",
   "id": "9bed88c6",
   "metadata": {},
   "source": [
    "# Workspace creation (minimal)"
   ]
  },
  {
   "cell_type": "markdown",
   "id": "9ec0d94f",
   "metadata": {},
   "source": [
    "*Michele Pinamonti - INFN Sezione di Trieste*"
   ]
  },
  {
   "cell_type": "markdown",
   "id": "9a5a81d9",
   "metadata": {},
   "source": [
    "Simplified version of `create_workspace`"
   ]
  },
  {
   "cell_type": "markdown",
   "id": "6252aff2",
   "metadata": {},
   "source": [
    "Import ROOT and glob"
   ]
  },
  {
   "cell_type": "code",
   "execution_count": null,
   "id": "93319ee2",
   "metadata": {},
   "outputs": [],
   "source": [
    "import ROOT\n",
    "import os"
   ]
  },
  {
   "cell_type": "markdown",
   "id": "10a01a0f",
   "metadata": {},
   "source": [
    "Create output direcotries"
   ]
  },
  {
   "cell_type": "code",
   "execution_count": null,
   "id": "0411c77a",
   "metadata": {},
   "outputs": [],
   "source": [
    "!mkdir -p ../ws\n",
    "!mkdir -p ../xml"
   ]
  },
  {
   "cell_type": "markdown",
   "id": "5ea741cf",
   "metadata": {},
   "source": [
    "Create the measurement object, set prefix for outputs, set parameter of insterest, plus a number of needed settings"
   ]
  },
  {
   "cell_type": "code",
   "execution_count": null,
   "id": "7083933d",
   "metadata": {},
   "outputs": [],
   "source": [
    "meas = ROOT.RooStats.HistFactory.Measurement('ATLASIT_minimal', 'ATLASIT_minimal')\n",
    "meas.SetOutputFilePrefix('./ws/ATLASIT_minimal')\n",
    "\n",
    "meas.SetPOI('mu_ttH')\n",
    "\n",
    "meas.AddConstantParam('Lumi')\n",
    "meas.SetLumi(1.0)\n",
    "meas.SetLumiRelErr(0.0)\n",
    "meas.SetExportOnly(True)"
   ]
  },
  {
   "cell_type": "markdown",
   "id": "cc7b2662",
   "metadata": {},
   "source": [
    "Create a channel - the signal region"
   ]
  },
  {
   "cell_type": "code",
   "execution_count": null,
   "id": "7d2e29b0",
   "metadata": {},
   "outputs": [],
   "source": [
    "chan_sr = ROOT.RooStats.HistFactory.Channel( \"ljets_Mbb_ge6jge4b\" )"
   ]
  },
  {
   "cell_type": "markdown",
   "id": "968b7f1d",
   "metadata": {},
   "source": [
    "Store the input file name"
   ]
  },
  {
   "cell_type": "code",
   "execution_count": null,
   "id": "5b864893",
   "metadata": {},
   "outputs": [],
   "source": [
    "InputFile_sr = \"TestInputs/Histograms/ttH2015_forATLASit_ljets_Mbb_ge6jge4b_histos.root\""
   ]
  },
  {
   "cell_type": "markdown",
   "id": "86d1d892",
   "metadata": {},
   "source": [
    "Set the data, set MC-stat uncertaintyy threshold to 5%"
   ]
  },
  {
   "cell_type": "code",
   "execution_count": null,
   "id": "46f9653f",
   "metadata": {},
   "outputs": [],
   "source": [
    "chan_sr.SetData( \"ljets_Mbb_ge6jge4b_Data\", InputFile_sr, \"ljets_Mbb_ge6jge4b/Data/nominal/\" )\n",
    "chan_sr.SetStatErrorConfig(0.05, 'Poisson')"
   ]
  },
  {
   "cell_type": "markdown",
   "id": "b1d9d5f3",
   "metadata": {},
   "source": [
    "Add signal sample, assing the POI as normalization factor to it"
   ]
  },
  {
   "cell_type": "code",
   "execution_count": null,
   "id": "9baee392",
   "metadata": {},
   "outputs": [],
   "source": [
    "signal_sr = ROOT.RooStats.HistFactory.Sample( \"ttH\", \"ljets_Mbb_ge6jge4b_ttH\", InputFile_sr, \"ljets_Mbb_ge6jge4b/ttH/nominal/\" )\n",
    "signal_sr.AddNormFactor( \"mu\", 1, -10, 10 )"
   ]
  },
  {
   "cell_type": "markdown",
   "id": "cf344926",
   "metadata": {},
   "source": [
    "Add the background samples"
   ]
  },
  {
   "cell_type": "code",
   "execution_count": null,
   "id": "e0a64b6d",
   "metadata": {},
   "outputs": [],
   "source": [
    "ttbar_sr = ROOT.RooStats.HistFactory.Sample( \"ttbar\", \"ljets_Mbb_ge6jge4b_ttbar\", InputFile_sr, \"ljets_Mbb_ge6jge4b/ttbar/nominal/\" )\n",
    "stop_sr = ROOT.RooStats.HistFactory.Sample( \"stop\", \"ljets_Mbb_ge6jge4b_singleTop\", InputFile_sr, \"ljets_Mbb_ge6jge4b/singleTop/nominal/\" )"
   ]
  },
  {
   "cell_type": "markdown",
   "id": "75c371c4",
   "metadata": {},
   "source": [
    "Assign a simple systematic to all the three samples (luminosity uncertainty, set to +/-5%)"
   ]
  },
  {
   "cell_type": "code",
   "execution_count": null,
   "id": "f63b12fb",
   "metadata": {},
   "outputs": [],
   "source": [
    "signal_sr.AddOverallSys( \"Lumi\",  0.95, 1.05 )\n",
    "ttbar_sr.AddOverallSys( \"Lumi\",  0.95, 1.05 )\n",
    "stop_sr.AddOverallSys( \"Lumi\",  0.95, 1.05 )"
   ]
  },
  {
   "cell_type": "markdown",
   "id": "d1447894",
   "metadata": {},
   "source": [
    "Add the three samples to the channel"
   ]
  },
  {
   "cell_type": "code",
   "execution_count": null,
   "id": "5cf1886c",
   "metadata": {},
   "outputs": [],
   "source": [
    "chan_sr.AddSample( signal_sr )\n",
    "chan_sr.AddSample( ttbar_sr )\n",
    "chan_sr.AddSample( stop_sr )"
   ]
  },
  {
   "cell_type": "markdown",
   "id": "03a9fd78",
   "metadata": {},
   "source": [
    "Add channel to measurement"
   ]
  },
  {
   "cell_type": "code",
   "execution_count": null,
   "id": "a65842bf",
   "metadata": {},
   "outputs": [],
   "source": [
    "meas.AddChannel( chan_sr )"
   ]
  },
  {
   "cell_type": "markdown",
   "id": "290f9a8c",
   "metadata": {},
   "source": [
    "Tell HistFactory to "
   ]
  },
  {
   "cell_type": "code",
   "execution_count": null,
   "id": "bc5eef40",
   "metadata": {},
   "outputs": [],
   "source": [
    "meas.CollectHistograms()\n",
    "meas.PrintTree()\n",
    "meas.PrintXML('xml', meas.GetOutputFilePrefix())"
   ]
  },
  {
   "cell_type": "code",
   "execution_count": null,
   "id": "3ec87011",
   "metadata": {},
   "outputs": [],
   "source": [
    "ROOT.RooStats.HistFactory.MakeModelAndMeasurementFast(meas)"
   ]
  }
 ],
 "metadata": {
  "kernelspec": {
   "display_name": "Python 3",
   "language": "python",
   "name": "python3"
  },
  "language_info": {
   "codemirror_mode": {
    "name": "ipython",
    "version": 3
   },
   "file_extension": ".py",
   "mimetype": "text/x-python",
   "name": "python",
   "nbconvert_exporter": "python",
   "pygments_lexer": "ipython3",
   "version": "3.9.6"
  }
 },
 "nbformat": 4,
 "nbformat_minor": 5
}
