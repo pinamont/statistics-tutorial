{
 "cells": [
  {
   "cell_type": "markdown",
   "metadata": {},
   "source": [
    "# Workspace creation (minimal)"
   ]
  },
  {
   "cell_type": "markdown",
   "metadata": {},
   "source": [
    "Simplified version of `create_workspace`.\n",
    "\n",
    "We will create a simple example workspace based on existing histogram input, with just one channel (the \"signal region\") and one systematic uncertainty."
   ]
  },
  {
   "cell_type": "markdown",
   "metadata": {},
   "source": [
    "We first import ROOT (we'll be using it interactively via pyROOT) and `os`, to perform operations on the filesystem."
   ]
  },
  {
   "cell_type": "code",
   "execution_count": null,
   "metadata": {},
   "outputs": [],
   "source": [
    "import ROOT\n",
    "import os"
   ]
  },
  {
   "cell_type": "markdown",
   "metadata": {},
   "source": [
    "The goal of this notebook is to create a workspace, which means:\n",
    "\n",
    "* a file containing the actual ROOT workspace, one per \"configuration\" of the likelihood model (single-channel, all-channels);\n",
    "* a file containing the specification of how we built such workspace from the input ROOT files, in XML format.\n",
    "\n",
    "We then create two directories to store the workspaces and the XML files:"
   ]
  },
  {
   "cell_type": "code",
   "execution_count": null,
   "metadata": {},
   "outputs": [],
   "source": [
    "!mkdir -p ../ws\n",
    "!mkdir -p ../xml"
   ]
  },
  {
   "cell_type": "markdown",
   "metadata": {},
   "source": [
    "Our likelihood model, and the meaning we give to it, is stored within a measurement - an HistFactory concept which needs to know:\n",
    "\n",
    "* how we want to nickname it;\n",
    "* where output files should be stored;\n",
    "* what's the parameter of interest (POI) of this measurement;\n",
    "* what are the parameters to be considered as a constant, if any - we typically include the default luminosity nuisance parameter created by HistFactory, called Lumi, within this \"blacklist\";\n",
    "* what are the default settings of the default luminosity parameter, used by HistFactory whenever you specify that a channel should be normalized by luminosity (see `SetNormalizeByTheory`).\n",
    "\n",
    "We are also nice people who like to decouple logical steps, so we ask HistFactory to kindly not do anything else than exporting the workspace into a ROOT file (i.e. please HistFactory do not perform any statistical analysis without our consent).\n",
    "\n",
    "Create the measurement object, set prefix for outputs, set parameter of insterest, plus a number of needed settings:"
   ]
  },
  {
   "cell_type": "code",
   "execution_count": null,
   "metadata": {},
   "outputs": [],
   "source": [
    "meas = ROOT.RooStats.HistFactory.Measurement('ICTPws_minimal', 'ICTPws_minimal')\n",
    "meas.SetOutputFilePrefix('../ws/ICTPws_minimal')\n",
    "\n",
    "meas.SetPOI('mu_ttH')\n",
    "\n",
    "meas.AddConstantParam('Lumi')\n",
    "meas.SetLumi(1.0)\n",
    "meas.SetLumiRelErr(0.0)\n",
    "meas.SetExportOnly(True)"
   ]
  },
  {
   "cell_type": "markdown",
   "metadata": {},
   "source": [
    "We then follow this logic:\n",
    "\n",
    "* we first create a channel (corresponding to some set of statistically-independent data)\n",
    "* we tell HistFactory where (meaning: in which file, under which subdirectory path and more specifically in which histogram) to find the data for this channel\n",
    "* we may indulge in specifying how uncertainties related to the limited MC statistics in signal/background histograms should be dealt with, in this channel\n",
    "* we then add the samples which contribute to this channel, specifying where to find their nominal histograms, and which normalisation-only (AddOverallSys) and also-shape uncertainties (AddHistoSys) should be considered (keeping in mind that variations of any kind which share the same name are correlated)\n",
    "* we also add free parameters to fit for determining the normalisation of our signal (and sometimes background) samples\n",
    "* we add each sample to the channel"
   ]
  },
  {
   "cell_type": "markdown",
   "metadata": {},
   "source": [
    "Create the channel:"
   ]
  },
  {
   "cell_type": "code",
   "execution_count": null,
   "metadata": {},
   "outputs": [],
   "source": [
    "chan_sr = ROOT.RooStats.HistFactory.Channel( \"ljets_Mbb_ge6jge4b\" )"
   ]
  },
  {
   "cell_type": "markdown",
   "metadata": {},
   "source": [
    "Store the input file name:"
   ]
  },
  {
   "cell_type": "code",
   "execution_count": null,
   "metadata": {},
   "outputs": [],
   "source": [
    "InputFile_sr = \"../data/ttH2015_forATLASit_ljets_Mbb_ge6jge4b_histos.root\""
   ]
  },
  {
   "cell_type": "markdown",
   "metadata": {},
   "source": [
    "Set the data, set MC-stat uncertaintyy threshold to 5%:"
   ]
  },
  {
   "cell_type": "code",
   "execution_count": null,
   "metadata": {},
   "outputs": [],
   "source": [
    "chan_sr.SetData( \"ljets_Mbb_ge6jge4b_Data\", InputFile_sr, \"ljets_Mbb_ge6jge4b/Data/nominal/\" )\n",
    "chan_sr.SetStatErrorConfig(0.05, 'Poisson')"
   ]
  },
  {
   "cell_type": "markdown",
   "metadata": {},
   "source": [
    "Add signal sample, adding the POI as normalization factor to it:"
   ]
  },
  {
   "cell_type": "code",
   "execution_count": null,
   "metadata": {},
   "outputs": [],
   "source": [
    "signal_sr = ROOT.RooStats.HistFactory.Sample( \"ttH\", \"ljets_Mbb_ge6jge4b_ttH\", InputFile_sr, \"ljets_Mbb_ge6jge4b/ttH/nominal/\" )\n",
    "signal_sr.AddNormFactor( \"mu_ttH\", 1, -10, 10 )"
   ]
  },
  {
   "cell_type": "markdown",
   "metadata": {},
   "source": [
    "Add the background samples:"
   ]
  },
  {
   "cell_type": "code",
   "execution_count": null,
   "metadata": {},
   "outputs": [],
   "source": [
    "ttbar_sr = ROOT.RooStats.HistFactory.Sample( \"ttbar\", \"ljets_Mbb_ge6jge4b_ttbar\", InputFile_sr, \"ljets_Mbb_ge6jge4b/ttbar/nominal/\" )\n",
    "stop_sr = ROOT.RooStats.HistFactory.Sample( \"stop\", \"ljets_Mbb_ge6jge4b_singleTop\", InputFile_sr, \"ljets_Mbb_ge6jge4b/singleTop/nominal/\" )"
   ]
  },
  {
   "cell_type": "markdown",
   "metadata": {},
   "source": [
    "Assign a simple systematic to all the three samples (luminosity uncertainty, set to +/-5%):"
   ]
  },
  {
   "cell_type": "code",
   "execution_count": null,
   "metadata": {},
   "outputs": [],
   "source": [
    "signal_sr.AddOverallSys( \"lumi\",  0.95, 1.05 )\n",
    "ttbar_sr.AddOverallSys( \"lumi\",  0.95, 1.05 )\n",
    "stop_sr.AddOverallSys( \"lumi\",  0.95, 1.05 )"
   ]
  },
  {
   "cell_type": "markdown",
   "metadata": {},
   "source": [
    "Add the three samples to the channel:"
   ]
  },
  {
   "cell_type": "code",
   "execution_count": null,
   "metadata": {},
   "outputs": [],
   "source": [
    "chan_sr.AddSample( signal_sr )\n",
    "chan_sr.AddSample( ttbar_sr )\n",
    "chan_sr.AddSample( stop_sr )"
   ]
  },
  {
   "cell_type": "markdown",
   "metadata": {},
   "source": [
    "Add channel to measurement:"
   ]
  },
  {
   "cell_type": "code",
   "execution_count": null,
   "metadata": {},
   "outputs": [],
   "source": [
    "meas.AddChannel( chan_sr )"
   ]
  },
  {
   "cell_type": "markdown",
   "metadata": {},
   "source": [
    "We then ask HistFactory to actually go and check the histograms, do its magic and create The Likelihood Model. We also persist this likelihood model in XML format, for our afternoons of debugging."
   ]
  },
  {
   "cell_type": "code",
   "execution_count": null,
   "metadata": {},
   "outputs": [],
   "source": [
    "meas.CollectHistograms()\n",
    "meas.PrintTree()\n",
    "meas.PrintXML('../xml', meas.GetOutputFilePrefix())\n",
    "ROOT.RooStats.HistFactory.MakeModelAndMeasurementFast(meas)"
   ]
  }
 ],
 "metadata": {
  "kernelspec": {
   "display_name": "Python 3",
   "language": "python",
   "name": "python3"
  },
  "language_info": {
   "codemirror_mode": {
    "name": "ipython",
    "version": 3
   },
   "file_extension": ".py",
   "mimetype": "text/x-python",
   "name": "python",
   "nbconvert_exporter": "python",
   "pygments_lexer": "ipython3",
   "version": "3.8.10"
  }
 },
 "nbformat": 4,
 "nbformat_minor": 5
}
