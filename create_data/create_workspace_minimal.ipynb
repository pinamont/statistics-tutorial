{
 "cells": [
  {
   "cell_type": "markdown",
   "id": "806e9a47",
   "metadata": {},
   "source": [
    "# Workspace creation (minimal)"
   ]
  },
  {
   "cell_type": "markdown",
   "id": "ee2f1b46",
   "metadata": {},
   "source": [
    "*Michele Pinamonti - INFN Sezione di Trieste*"
   ]
  },
  {
   "cell_type": "markdown",
   "id": "fe855ff8",
   "metadata": {},
   "source": [
    "Simplified version of `create_workspace`"
   ]
  },
  {
   "cell_type": "markdown",
   "id": "681e7664",
   "metadata": {},
   "source": [
    "Import ROOT and glob"
   ]
  },
  {
   "cell_type": "code",
   "execution_count": 1,
   "id": "f106286c",
   "metadata": {},
   "outputs": [
    {
     "name": "stdout",
     "output_type": "stream",
     "text": [
      "Welcome to JupyROOT 6.24/06\n"
     ]
    }
   ],
   "source": [
    "import ROOT\n",
    "import os"
   ]
  },
  {
   "cell_type": "markdown",
   "id": "e3607c41",
   "metadata": {},
   "source": [
    "Create output direcotries"
   ]
  },
  {
   "cell_type": "code",
   "execution_count": null,
   "id": "38880f82",
   "metadata": {},
   "outputs": [],
   "source": [
    "!mkdir -p ../ws\n",
    "!mkdir -p ../xml"
   ]
  },
  {
   "cell_type": "markdown",
   "id": "fb6b4b97",
   "metadata": {},
   "source": [
    "Create the measurement object, set prefix for outputs, set parameter of insterest, plus a number of needed settings"
   ]
  },
  {
   "cell_type": "code",
   "execution_count": null,
   "id": "8ff610b4",
   "metadata": {},
   "outputs": [],
   "source": [
    "meas = ROOT.RooStats.HistFactory.Measurement('ATLASIT_minimal', 'ATLASIT_minimal')\n",
    "meas.SetOutputFilePrefix('./ws/ATLASIT_minimal')\n",
    "\n",
    "meas.SetPOI('mu_ttH')\n",
    "\n",
    "meas.AddConstantParam('Lumi')\n",
    "meas.SetLumi(1.0)\n",
    "meas.SetLumiRelErr(0.0)\n",
    "meas.SetExportOnly(True)"
   ]
  },
  {
   "cell_type": "markdown",
   "id": "05d47b06",
   "metadata": {},
   "source": [
    "Create a channel - the signal region"
   ]
  },
  {
   "cell_type": "code",
   "execution_count": null,
   "id": "a3797460",
   "metadata": {},
   "outputs": [],
   "source": [
    "chan_sr = ROOT.RooStats.HistFactory.Channel( \"ljets_Mbb_ge6jge4b\" )"
   ]
  },
  {
   "cell_type": "markdown",
   "id": "c8375be4",
   "metadata": {},
   "source": [
    "Store the input file name"
   ]
  },
  {
   "cell_type": "code",
   "execution_count": null,
   "id": "a638963d",
   "metadata": {},
   "outputs": [],
   "source": [
    "InputFile_sr = \"TestInputs/Histograms/ttH2015_forATLASit_ljets_Mbb_ge6jge4b_histos.root\""
   ]
  },
  {
   "cell_type": "markdown",
   "id": "58757f07",
   "metadata": {},
   "source": [
    "Set the data, set MC-stat uncertaintyy threshold to 5%"
   ]
  },
  {
   "cell_type": "code",
   "execution_count": null,
   "id": "856012c0",
   "metadata": {},
   "outputs": [],
   "source": [
    "chan_sr.SetData( \"ljets_Mbb_ge6jge4b_Data\", InputFile_sr, \"ljets_Mbb_ge6jge4b/Data/nominal/\" )\n",
    "chan_sr.SetStatErrorConfig(0.05, 'Poisson')"
   ]
  },
  {
   "cell_type": "markdown",
   "id": "6f524043",
   "metadata": {},
   "source": [
    "Add signal sample, assing the POI as normalization factor to it"
   ]
  },
  {
   "cell_type": "code",
   "execution_count": null,
   "id": "3e2f91c3",
   "metadata": {},
   "outputs": [],
   "source": [
    "signal_sr = ROOT.RooStats.HistFactory.Sample( \"ttH\", \"ljets_Mbb_ge6jge4b_ttH\", InputFile_sr, \"ljets_Mbb_ge6jge4b/ttH/nominal/\" )\n",
    "signal_sr.AddNormFactor( \"mu\", 1, -10, 10 )"
   ]
  },
  {
   "cell_type": "markdown",
   "id": "661d07c7",
   "metadata": {},
   "source": [
    "Add the background samples"
   ]
  },
  {
   "cell_type": "code",
   "execution_count": null,
   "id": "2a5f91a3",
   "metadata": {},
   "outputs": [],
   "source": [
    "ttbar_sr = ROOT.RooStats.HistFactory.Sample( \"ttbar\", \"ljets_Mbb_ge6jge4b_ttbar\", InputFile_sr, \"ljets_Mbb_ge6jge4b/ttbar/nominal/\" )\n",
    "stop_sr = ROOT.RooStats.HistFactory.Sample( \"stop\", \"ljets_Mbb_ge6jge4b_singleTop\", InputFile_sr, \"ljets_Mbb_ge6jge4b/singleTop/nominal/\" )"
   ]
  },
  {
   "cell_type": "markdown",
   "id": "5f2fb504",
   "metadata": {},
   "source": [
    "Assign a simple systematic to all the three samples (luminosity uncertainty, set to +/-5%)"
   ]
  },
  {
   "cell_type": "code",
   "execution_count": null,
   "id": "b204fc2f",
   "metadata": {},
   "outputs": [],
   "source": [
    "signal_sr.AddOverallSys( \"Lumi\",  0.95, 1.05 )\n",
    "ttbar_sr.AddOverallSys( \"Lumi\",  0.95, 1.05 )\n",
    "stop_sr.AddOverallSys( \"Lumi\",  0.95, 1.05 )"
   ]
  },
  {
   "cell_type": "markdown",
   "id": "d67970c7",
   "metadata": {},
   "source": [
    "Add the three samples to the channel"
   ]
  },
  {
   "cell_type": "code",
   "execution_count": null,
   "id": "3187e193",
   "metadata": {},
   "outputs": [],
   "source": [
    "chan_sr.AddSample( signal_sr )\n",
    "chan_sr.AddSample( ttbar_sr )\n",
    "chan_sr.AddSample( stop_sr )"
   ]
  },
  {
   "cell_type": "markdown",
   "id": "25d403db",
   "metadata": {},
   "source": [
    "Add channel to measurement"
   ]
  },
  {
   "cell_type": "code",
   "execution_count": null,
   "id": "df76925b",
   "metadata": {},
   "outputs": [],
   "source": [
    "meas.AddChannel( chan_sr )"
   ]
  },
  {
   "cell_type": "markdown",
   "id": "8dc7d0bd",
   "metadata": {},
   "source": [
    "Collect the histograms from their files, print some output, print the xml files"
   ]
  },
  {
   "cell_type": "code",
   "execution_count": null,
   "id": "6fac97e8",
   "metadata": {},
   "outputs": [],
   "source": [
    "meas.CollectHistograms()\n",
    "meas.PrintTree()\n",
    "meas.PrintXML('xml', meas.GetOutputFilePrefix())"
   ]
  },
  {
   "cell_type": "markdown",
   "id": "dfcc8b73",
   "metadata": {},
   "source": [
    "Create and save the workspace"
   ]
  },
  {
   "cell_type": "code",
   "execution_count": null,
   "id": "391105b2",
   "metadata": {},
   "outputs": [],
   "source": [
    "ROOT.RooStats.HistFactory.MakeModelAndMeasurementFast(meas)"
   ]
  }
 ],
 "metadata": {
  "kernelspec": {
   "display_name": "Python 3",
   "language": "python",
   "name": "python3"
  },
  "language_info": {
   "codemirror_mode": {
    "name": "ipython",
    "version": 3
   },
   "file_extension": ".py",
   "mimetype": "text/x-python",
   "name": "python",
   "nbconvert_exporter": "python",
   "pygments_lexer": "ipython3",
   "version": "3.9.6"
  }
 },
 "nbformat": 4,
 "nbformat_minor": 5
}
