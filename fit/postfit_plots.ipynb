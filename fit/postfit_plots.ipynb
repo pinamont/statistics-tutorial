{
 "cells": [
  {
   "cell_type": "markdown",
   "id": "dbd6456a",
   "metadata": {},
   "source": [
    "# Understanding fit results: post-fit distributions"
   ]
  },
  {
   "cell_type": "markdown",
   "id": "4c03f815",
   "metadata": {},
   "source": [
    "HistFactory creates observables with a standard naming, like `obs_x_ljets_HThad_5j3b`, so we may plot data in this variable, superimposing the result of the fit of the _overall signal plus background model_ (S+B model) to the full data in the different categories. The PDF representing this overall model is called by HistFactory `simPdf`.\n",
    "\n",
    "We will actually do two things:\n",
    "- fit with the S+B model (red PDF)\n",
    "- fit with the B-only model (blue PDF)"
   ]
  },
  {
   "cell_type": "markdown",
   "id": "f8eb70f6",
   "metadata": {},
   "source": [
    "Open workspace file, extract workspace, get data"
   ]
  },
  {
   "cell_type": "code",
   "execution_count": null,
   "id": "5894dfff",
   "metadata": {},
   "outputs": [],
   "source": [
    "f = new TFile(\"../ws/ICTPws_test_combined_ICTPws_test_model.root\");\n",
    "w = dynamic_cast<RooWorkspace*>(f->Get(\"combined\"));\n",
    "\n",
    "dataset = w->data(\"obsData\");"
   ]
  },
  {
   "cell_type": "markdown",
   "id": "0a2e241a",
   "metadata": {},
   "source": [
    "Create Canvas, plot the data"
   ]
  },
  {
   "cell_type": "code",
   "execution_count": null,
   "id": "63f08917",
   "metadata": {},
   "outputs": [],
   "source": [
    "c = new TCanvas(\"c\", \"c\", 800, 400);\n",
    "c->Divide(2, 1);\n",
    "\n",
    "cat = w->cat(\"channelCat\");\n",
    "\n",
    "frame = w->var(\"obs_x_ljets_HThad_5j3b\")->frame();\n",
    "dataset->plotOn(frame, RooFit::Name(\"observed data\"), RooFit::Cut(\"channelCat==channelCat::ljets_HThad_5j3b\"));\n",
    "\n",
    "frame2 = w->var(\"obs_x_ljets_Mbb_ge6jge4b\")->frame();\n",
    "dataset->plotOn(frame2, RooFit::Name(\"observed data\"), RooFit::Cut(\"channelCat==channelCat::ljets_Mbb_ge6jge4b\"));\n",
    "\n",
    "c->cd(1);\n",
    "frame->Draw();\n",
    "c->cd(2);\n",
    "frame2->Draw();\n",
    "\n",
    "c->Draw();"
   ]
  },
  {
   "cell_type": "markdown",
   "id": "0bc1c875",
   "metadata": {},
   "source": [
    "Perform a S+B fit (in a silent mode), and plot (in red) the post-fit distribution)"
   ]
  },
  {
   "cell_type": "code",
   "execution_count": null,
   "id": "1c38e66c",
   "metadata": {},
   "outputs": [],
   "source": [
    "RooMsgService::instance().setGlobalKillBelow(RooFit::FATAL);\n",
    "w->var(\"mu_ttH\")->setVal(0);\n",
    "w->var(\"mu_ttH\")->setConstant(kFALSE);\n",
    "w->pdf(\"simPdf\")->fitTo(*dataset,RooFit::PrintLevel(-1));\n",
    "\n",
    "w->pdf(\"simPdf\")->plotOn(frame, RooFit::Slice(*cat, \"ljets_HThad_5j3b\"), RooFit::ProjWData(*cat, *dataset), RooFit::Name(\"PDF after S+B fit\"), RooFit::LineColor(kRed));\n",
    "w->pdf(\"simPdf\")->plotOn(frame2, RooFit::Slice(*cat, \"ljets_Mbb_ge6jge4b\"), RooFit::ProjWData(*cat, *dataset), RooFit::Name(\"PDF after S+B fit\"), RooFit::LineColor(kRed));\n",
    "\n",
    "c->cd(1);\n",
    "frame->Draw();\n",
    "c->cd(2);\n",
    "frame2->Draw();\n",
    "\n",
    "c->Draw();"
   ]
  },
  {
   "cell_type": "markdown",
   "id": "9c2d8c09",
   "metadata": {},
   "source": [
    "And now do a B-only fit, and plot the post-fit distribution in blue"
   ]
  },
  {
   "cell_type": "code",
   "execution_count": null,
   "id": "43e31382",
   "metadata": {},
   "outputs": [],
   "source": [
    "w->var(\"mu_ttH\")->setVal(0);\n",
    "w->var(\"mu_ttH\")->setConstant(kTRUE);\n",
    "w->pdf(\"simPdf\")->fitTo(*dataset,RooFit::PrintLevel(-1));\n",
    "\n",
    "w->pdf(\"simPdf\")->plotOn(frame, RooFit::Slice(*cat, \"ljets_HThad_5j3b\"), RooFit::ProjWData(*cat, *dataset), RooFit::Name(\"PDF after B-only fit\"), RooFit::LineColor(kBlue+1));\n",
    "w->pdf(\"simPdf\")->plotOn(frame2, RooFit::Slice(*cat, \"ljets_Mbb_ge6jge4b\"), RooFit::ProjWData(*cat, *dataset), RooFit::Name(\"PDF after B-only fit\"), RooFit::LineColor(kBlue+1));\n",
    "\n",
    "c->cd(1);\n",
    "frame->Draw();\n",
    "c->cd(2);\n",
    "frame2->Draw();\n",
    "\n",
    "c->Draw();"
   ]
  }
 ],
 "metadata": {
  "kernelspec": {
   "display_name": "ROOT C++",
   "language": "c++",
   "name": "root"
  },
  "language_info": {
   "codemirror_mode": "text/x-c++src",
   "file_extension": ".C",
   "mimetype": " text/x-c++src",
   "name": "c++"
  }
 },
 "nbformat": 4,
 "nbformat_minor": 5
}
