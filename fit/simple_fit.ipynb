{
 "cells": [
  {
   "cell_type": "markdown",
   "id": "c1aa6c7e",
   "metadata": {},
   "source": [
    "# Fit results\n",
    "\n",
    "*Michele Pinamonti - INFN Sezione di Trieste*"
   ]
  },
  {
   "cell_type": "code",
   "execution_count": 1,
   "id": "e33e2bef",
   "metadata": {},
   "outputs": [
    {
     "name": "stdout",
     "output_type": "stream",
     "text": [
      "\n",
      "\u001b[1mRooFit v3.60 -- Developed by Wouter Verkerke and David Kirkby\u001b[0m \n",
      "                Copyright (C) 2000-2013 NIKHEF, University of California & Stanford University\n",
      "                All rights reserved, please read http://roofit.sourceforge.net/license.txt\n",
      "\n",
      "(TFile *) @0x7fb3a5ff9a78\n"
     ]
    }
   ],
   "source": [
    "f = new TFile(\"../ws/ATLASIT_prova_combined_ATLASIT_prova_model.root\")"
   ]
  },
  {
   "cell_type": "markdown",
   "id": "c386995b",
   "metadata": {
    "slideshow": {
     "slide_type": "fragment"
    }
   },
   "source": [
    "Extract the workspace"
   ]
  },
  {
   "cell_type": "code",
   "execution_count": 2,
   "id": "c99d81ba",
   "metadata": {},
   "outputs": [],
   "source": [
    "w = dynamic_cast<RooWorkspace*>(f->Get(\"combined\"));"
   ]
  },
  {
   "cell_type": "markdown",
   "id": "091318c2",
   "metadata": {},
   "source": [
    "Extract the ModelConfig from the workspace"
   ]
  },
  {
   "cell_type": "code",
   "execution_count": 3,
   "id": "92b80910",
   "metadata": {},
   "outputs": [],
   "source": [
    "mc = dynamic_cast<RooStats::ModelConfig*>(w->obj(\"ModelConfig\"));"
   ]
  },
  {
   "cell_type": "markdown",
   "id": "6db45f27",
   "metadata": {},
   "source": [
    "Get the data we want to fit"
   ]
  },
  {
   "cell_type": "code",
   "execution_count": 4,
   "id": "1c7819b1",
   "metadata": {},
   "outputs": [],
   "source": [
    "dataset = w->data(\"obsData\");"
   ]
  },
  {
   "cell_type": "markdown",
   "id": "2cfe3f37",
   "metadata": {},
   "source": [
    "Let's perform a S+B fit:\n",
    "* set the initial value of the parameter of interest (POI)\n",
    "* make sure it is not fixed, and it is free to float in the fit\n",
    "* call the \"fitTo\" method"
   ]
  },
  {
   "cell_type": "code",
   "execution_count": 5,
   "id": "f6698a1e",
   "metadata": {},
   "outputs": [
    {
     "name": "stdout",
     "output_type": "stream",
     "text": [
      "[#1] INFO:Minization -- p.d.f. provides expected number of events, including extended term in likelihood.\n",
      "[#1] INFO:Minization -- RooProdPdf::getConstraints(model_ljets_HThad_5j3b) omitting term lumiConstraint as constraint term as it does not share any parameters with the other pdfs in product. To force inclusion in likelihood, add an explicit Constrain() argument for the target parameter\n",
      "[#1] INFO:Minization -- createNLL: caching constraint set under name CONSTR_OF_PDF_simPdf_FOR_OBS_channelCat:obs_x_ljets_HThad_5j3b:obs_x_ljets_Mbb_ge6jge4b with 4 entries\n",
      "[#1] INFO:Minization --  Including the following constraint terms in minimization: (alpha_lumiConstraint,alpha_ttXsecConstraint,alpha_JES_Scenario1_NP1Constraint,alpha_stXsecConstraint)\n",
      "[#1] INFO:Fitting -- RooAddition::defaultErrorLevel(nll_simPdf_obsData_with_constr) Summation contains a RooNLLVar, using its error level\n",
      "[#1] INFO:Minization -- RooMinimizer::optimizeConst: activating const optimization\n",
      "RooAbsTestStatistic::initSimMode: creating slave calculator #0 for state ljets_HThad_5j3b (5 dataset entries)\n",
      "[#1] INFO:NumericIntegration -- RooRealIntegral::init(ljets_HThad_5j3b_model_Int[obs_x_ljets_HThad_5j3b]) using numeric integrator RooBinIntegrator to calculate Int(obs_x_ljets_HThad_5j3b)\n",
      "RooAbsTestStatistic::initSimMode: creating slave calculator #1 for state ljets_Mbb_ge6jge4b (10 dataset entries)\n",
      "[#1] INFO:NumericIntegration -- RooRealIntegral::init(ljets_Mbb_ge6jge4b_model_Int[obs_x_ljets_Mbb_ge6jge4b]) using numeric integrator RooBinIntegrator to calculate Int(obs_x_ljets_Mbb_ge6jge4b)\n",
      "[#1] INFO:Fitting -- RooAbsTestStatistic::initSimMode: created 2 slave calculators.\n",
      "[#1] INFO:NumericIntegration -- RooRealIntegral::init(ljets_HThad_5j3b_model_Int[obs_x_ljets_HThad_5j3b]) using numeric integrator RooBinIntegrator to calculate Int(obs_x_ljets_HThad_5j3b)\n",
      "[#1] INFO:Minization --  The following expressions have been identified as constant and will be precalculated and cached: (ttH_ljets_HThad_5j3b_nominal,ttbar_ljets_HThad_5j3b_Hist_alphanominal,ttbar_ljets_HThad_5j3b_Hist_alpha_0low,ttbar_ljets_HThad_5j3b_Hist_alpha_0high,singleTop_ljets_HThad_5j3b_nominal)\n",
      "[#1] INFO:Minization --  The following expressions will be evaluated in cache-and-track mode: (ttbar_ljets_HThad_5j3b_Hist_alpha)\n",
      "[#1] INFO:NumericIntegration -- RooRealIntegral::init(ljets_Mbb_ge6jge4b_model_Int[obs_x_ljets_Mbb_ge6jge4b]) using numeric integrator RooBinIntegrator to calculate Int(obs_x_ljets_Mbb_ge6jge4b)\n",
      "[#1] INFO:Minization --  The following expressions have been identified as constant and will be precalculated and cached: (ttH_ljets_Mbb_ge6jge4b_nominal,ttbar_ljets_Mbb_ge6jge4b_Hist_alphanominal,ttbar_ljets_Mbb_ge6jge4b_Hist_alpha_0low,ttbar_ljets_Mbb_ge6jge4b_Hist_alpha_0high,singleTop_ljets_Mbb_ge6jge4b_nominal)\n",
      "[#1] INFO:Minization --  The following expressions will be evaluated in cache-and-track mode: (ttbar_ljets_Mbb_ge6jge4b_Hist_alpha)\n",
      " **********\n",
      " **    1 **SET PRINT           1\n",
      " **********\n",
      " **********\n",
      " **    2 **SET NOGRAD\n",
      " **********\n",
      " PARAMETER DEFINITIONS:\n",
      "    NO.   NAME         VALUE      STEP SIZE      LIMITS\n",
      "     1 alpha_JES_Scenario1_NP1   0.00000e+00  1.00000e+00   -5.00000e+00  5.00000e+00\n",
      "     2 alpha_lumi   0.00000e+00  1.00000e+00   -5.00000e+00  5.00000e+00\n",
      "     3 alpha_stXsec   0.00000e+00  1.00000e+00   -5.00000e+00  5.00000e+00\n",
      "     4 alpha_ttXsec   0.00000e+00  1.00000e+00   -5.00000e+00  5.00000e+00\n",
      "     5 mu_tt        1.00000e+00  5.00000e-01    0.00000e+00  2.00000e+01\n",
      "     6 mu_ttH       0.00000e+00  3.00000e+00   -1.00000e+01  2.00000e+01\n",
      " **********\n",
      " **    3 **SET ERR         0.5\n",
      " **********\n",
      " **********\n",
      " **    4 **SET PRINT           1\n",
      " **********\n",
      " **********\n",
      " **    5 **SET STR           1\n",
      " **********\n",
      " NOW USING STRATEGY  1: TRY TO BALANCE SPEED AGAINST RELIABILITY\n",
      " **********\n",
      " **    6 **MIGRAD        3000           1\n",
      " **********\n",
      " FIRST CALL TO USER FUNCTION AT NEW START POINT, WITH IFLAG=4.\n",
      " START MIGRAD MINIMIZATION.  STRATEGY  1.  CONVERGENCE WHEN EDM .LT. 1.00e-03\n",
      " FCN=-955.055 FROM MIGRAD    STATUS=INITIATE       16 CALLS          17 TOTAL\n",
      "                     EDM= unknown      STRATEGY= 1      NO ERROR MATRIX       \n",
      "  EXT PARAMETER               CURRENT GUESS       STEP         FIRST   \n",
      "  NO.   NAME      VALUE            ERROR          SIZE      DERIVATIVE \n",
      "   1  alpha_JES_Scenario1_NP1   0.00000e+00   1.00000e+00   2.01358e-01  -1.54629e+01\n",
      "   2  alpha_lumi   0.00000e+00   1.00000e+00   2.01358e-01  -9.48921e+00\n",
      "   3  alpha_stXsec   0.00000e+00   1.00000e+00   2.01358e-01  -5.03387e-01\n",
      "   4  alpha_ttXsec   0.00000e+00   1.00000e+00   2.01358e-01  -1.07847e+01\n",
      "   5  mu_tt        1.00000e+00   5.00000e-01   1.18625e-01  -1.56616e+02\n",
      "   6  mu_ttH       0.00000e+00   3.00000e+00   2.14402e-01  -5.35043e+01\n",
      "                               ERR DEF= 0.5\n",
      " MIGRAD MINIMIZATION HAS CONVERGED.\n",
      " MIGRAD WILL VERIFY CONVERGENCE AND ERROR MATRIX.\n",
      " COVARIANCE MATRIX CALCULATED SUCCESSFULLY\n",
      " FCN=-958.64 FROM MIGRAD    STATUS=CONVERGED     143 CALLS         144 TOTAL\n",
      "                     EDM=8.18659e-06    STRATEGY= 1      ERROR MATRIX ACCURATE \n",
      "  EXT PARAMETER                                   STEP         FIRST   \n",
      "  NO.   NAME      VALUE            ERROR          SIZE      DERIVATIVE \n",
      "   1  alpha_JES_Scenario1_NP1   2.03451e-01   9.67486e-01   2.71967e-03  -1.64250e-02\n",
      "   2  alpha_lumi   1.82836e-02   9.92875e-01   3.28857e-03  -6.87775e-03\n",
      "   3  alpha_stXsec   1.88750e-02   9.92883e-01   4.27297e-03   8.45402e-04\n",
      "   4  alpha_ttXsec   1.68291e-03   9.93504e-01   3.03203e-03   2.64467e-03\n",
      "   5  mu_tt        1.08690e+00   1.43414e-01   3.35635e-04  -7.85444e-02\n",
      "   6  mu_ttH       1.03564e+00   8.98891e-01   1.11587e-03  -3.27934e-03\n",
      "                               ERR DEF= 0.5\n",
      " EXTERNAL ERROR MATRIX.    NDIM=  25    NPAR=  6    ERR DEF=0.5\n",
      "  9.480e-01  2.590e-03  1.792e-03  1.144e-03 -7.631e-02 -8.330e-02 \n",
      "  2.590e-03  9.990e-01  7.846e-04  8.367e-04 -5.669e-02 -5.349e-02 \n",
      "  1.792e-03  7.846e-04  9.991e-01  1.666e-05 -2.442e-03 -6.966e-04 \n",
      "  1.144e-03  8.367e-04  1.666e-05  1.000e+00 -6.529e-02 -1.061e-01 \n",
      " -7.631e-02 -5.669e-02 -2.442e-03 -6.529e-02  2.057e-02 -2.228e-02 \n",
      " -8.330e-02 -5.349e-02 -6.966e-04 -1.061e-01 -2.228e-02  8.090e-01 \n",
      " PARAMETER  CORRELATION COEFFICIENTS  \n",
      "       NO.  GLOBAL      1      2      3      4      5      6\n",
      "        1  0.75765   1.000  0.003  0.002  0.001 -0.546 -0.095\n",
      "        2  0.63961   0.003  1.000  0.001  0.001 -0.395 -0.059\n",
      "        3  0.03206   0.002  0.001  1.000  0.000 -0.017 -0.001\n",
      "        4  0.70558   0.001  0.001  0.000  1.000 -0.455 -0.118\n",
      "        5  0.86814  -0.546 -0.395 -0.017 -0.455  1.000 -0.173\n",
      "        6  0.54220  -0.095 -0.059 -0.001 -0.118 -0.173  1.000\n",
      " **********\n",
      " **    7 **SET ERR         0.5\n",
      " **********\n",
      " **********\n",
      " **    8 **SET PRINT           1\n",
      " **********\n",
      " **********\n",
      " **    9 **HESSE        3000\n",
      " **********\n",
      " COVARIANCE MATRIX CALCULATED SUCCESSFULLY\n",
      " FCN=-958.64 FROM HESSE     STATUS=OK             40 CALLS         184 TOTAL\n",
      "                     EDM=8.19523e-06    STRATEGY= 1      ERROR MATRIX ACCURATE \n",
      "  EXT PARAMETER                                INTERNAL      INTERNAL  \n",
      "  NO.   NAME      VALUE            ERROR       STEP SIZE       VALUE   \n",
      "   1  alpha_JES_Scenario1_NP1   2.03451e-01   9.67502e-01   5.43935e-04   4.07015e-02\n",
      "   2  alpha_lumi   1.82836e-02   9.92824e-01   6.57714e-04   3.65672e-03\n",
      "   3  alpha_stXsec   1.88750e-02   9.92881e-01   8.54595e-04   3.77502e-03\n",
      "   4  alpha_ttXsec   1.68291e-03   9.93274e-01   6.06407e-04   3.36582e-04\n",
      "   5  mu_tt        1.08690e+00   1.43451e-01   6.71269e-05  -1.10023e+00\n",
      "   6  mu_ttH       1.03564e+00   8.99340e-01   4.46347e-05  -2.67468e-01\n",
      "                               ERR DEF= 0.5\n",
      " EXTERNAL ERROR MATRIX.    NDIM=  25    NPAR=  6    ERR DEF=0.5\n",
      "  9.480e-01  1.924e-03  1.816e-03  1.475e-04 -7.624e-02 -8.251e-02 \n",
      "  1.924e-03  9.989e-01  7.958e-04  1.029e-04 -5.663e-02 -5.238e-02 \n",
      "  1.816e-03  7.958e-04  9.991e-01  1.936e-06 -2.448e-03 -6.713e-04 \n",
      "  1.475e-04  1.029e-04  1.936e-06  9.999e-01 -6.523e-02 -1.039e-01 \n",
      " -7.624e-02 -5.663e-02 -2.448e-03 -6.523e-02  2.059e-02 -2.270e-02 \n",
      " -8.251e-02 -5.238e-02 -6.713e-04 -1.039e-01 -2.270e-02  8.099e-01 \n",
      " PARAMETER  CORRELATION COEFFICIENTS  \n",
      "       NO.  GLOBAL      1      2      3      4      5      6\n",
      "        1  0.75766   1.000  0.002  0.002  0.000 -0.546 -0.094\n",
      "        2  0.63957   0.002  1.000  0.001  0.000 -0.395 -0.058\n",
      "        3  0.03210   0.002  0.001  1.000  0.000 -0.017 -0.001\n",
      "        4  0.70541   0.000  0.000  0.000  1.000 -0.455 -0.115\n",
      "        5  0.86821  -0.546 -0.395 -0.017 -0.455  1.000 -0.176\n",
      "        6  0.54284  -0.094 -0.058 -0.001 -0.115 -0.176  1.000\n",
      "[#1] INFO:Minization -- RooMinimizer::optimizeConst: deactivating const optimization\n"
     ]
    }
   ],
   "source": [
    "w->var(\"mu_ttH\")->setVal(0);\n",
    "w->var(\"mu_ttH\")->setConstant(kFALSE);\n",
    "w->pdf(\"simPdf\")->fitTo(*dataset);"
   ]
  },
  {
   "cell_type": "markdown",
   "id": "03c35403",
   "metadata": {},
   "source": [
    "From the output above, we can find the fitted values of all the parameters (of interest and nuisance) and their uncertainties.\n",
    "\n",
    "Now, let's try to extract and print all and only the information we want, so that know could re-use it later:\n",
    "* the fitted value of the POI, with its error\n",
    "* the fitted values of the NPs, with their errors (what we call the \"pulls\" and \"constraints\" of the NPs)"
   ]
  },
  {
   "cell_type": "markdown",
   "id": "09f59540",
   "metadata": {},
   "source": [
    "Let's extract the POI and print the fitted value and uncertainties (separately the up and down)"
   ]
  },
  {
   "cell_type": "code",
   "execution_count": 6,
   "id": "a2a9e70b",
   "metadata": {},
   "outputs": [
    {
     "name": "stdout",
     "output_type": "stream",
     "text": [
      "                    POI = +1.036 +0.899 / -0.899\n"
     ]
    }
   ],
   "source": [
    "RooRealVar *poi = (RooRealVar*)mc->GetParametersOfInterest()->first();\n",
    "double mu_hat = poi->getVal();\n",
    "double mu_hat_err_up = poi->getErrorHi();\n",
    "double mu_hat_err_down = poi->getErrorLo();\n",
    "\n",
    "cout << setw(25);\n",
    "cout << \"POI =\";\n",
    "cout << Form(\" %+.3f\",mu_hat);\n",
    "cout << Form(\" %+.3f\",mu_hat_err_up);\n",
    "cout << \" /\";\n",
    "cout << Form(\" %+.3f\",mu_hat_err_down);\n",
    "cout << endl;"
   ]
  },
  {
   "cell_type": "markdown",
   "id": "2f19c524",
   "metadata": {},
   "source": [
    "And now for all the NPs"
   ]
  },
  {
   "cell_type": "code",
   "execution_count": 7,
   "id": "8c04cee6",
   "metadata": {},
   "outputs": [
    {
     "name": "stdout",
     "output_type": "stream",
     "text": [
      "  alpha_JES_Scenario1_NP1 = +0.203 +0.968 / -0.968\n",
      "               alpha_lumi = +0.018 +0.993 / -0.993\n",
      "             alpha_stXsec = +0.019 +0.993 / -0.993\n",
      "             alpha_ttXsec = +0.002 +0.993 / -0.993\n",
      "                    mu_tt = +1.087 +0.143 / -0.143\n"
     ]
    }
   ],
   "source": [
    "// loop on list of nuisance parameters\n",
    "for(auto np_tmp : *mc->GetNuisanceParameters()){\n",
    "    RooRealVar* np = (RooRealVar*)np_tmp;\n",
    "    \n",
    "    string np_name = np->GetName();\n",
    "    \n",
    "    double np_value = np->getVal();\n",
    "    double np_err_up = np->getErrorHi();\n",
    "    double np_err_down = np->getErrorLo();\n",
    "    \n",
    "    cout << setw(25);\n",
    "    cout << np_name << \" =\";\n",
    "    cout << Form(\" %+.3f\",np_value);\n",
    "    cout << Form(\" %+.3f\",np_err_up);\n",
    "    cout << \" /\";\n",
    "    cout << Form(\" %+.3f\",np_err_down);\n",
    "    cout << endl;\n",
    "}"
   ]
  },
  {
   "cell_type": "markdown",
   "id": "1c18e6d7",
   "metadata": {},
   "source": [
    "An alternative way (and more elegant) to store the fit results (with more information, to use later) is to use the `FitResult`"
   ]
  },
  {
   "cell_type": "code",
   "execution_count": 8,
   "id": "5850e6a8",
   "metadata": {},
   "outputs": [
    {
     "name": "stdout",
     "output_type": "stream",
     "text": [
      "[#1] INFO:Minization -- p.d.f. provides expected number of events, including extended term in likelihood.\n",
      "[#1] INFO:Minization -- createNLL picked up cached constraints from workspace with 4 entries\n",
      "[#1] INFO:Minization --  Including the following constraint terms in minimization: (alpha_lumiConstraint,alpha_ttXsecConstraint,alpha_JES_Scenario1_NP1Constraint,alpha_stXsecConstraint)\n",
      "[#1] INFO:Fitting -- RooAddition::defaultErrorLevel(nll_simPdf_obsData_with_constr) Summation contains a RooNLLVar, using its error level\n",
      "[#1] INFO:Minization -- RooMinimizer::optimizeConst: activating const optimization\n",
      "RooAbsTestStatistic::initSimMode: creating slave calculator #0 for state ljets_HThad_5j3b (5 dataset entries)\n",
      "[#1] INFO:NumericIntegration -- RooRealIntegral::init(ljets_HThad_5j3b_model_Int[obs_x_ljets_HThad_5j3b]) using numeric integrator RooBinIntegrator to calculate Int(obs_x_ljets_HThad_5j3b)\n",
      "RooAbsTestStatistic::initSimMode: creating slave calculator #1 for state ljets_Mbb_ge6jge4b (10 dataset entries)\n",
      "[#1] INFO:NumericIntegration -- RooRealIntegral::init(ljets_Mbb_ge6jge4b_model_Int[obs_x_ljets_Mbb_ge6jge4b]) using numeric integrator RooBinIntegrator to calculate Int(obs_x_ljets_Mbb_ge6jge4b)\n",
      "[#1] INFO:Fitting -- RooAbsTestStatistic::initSimMode: created 2 slave calculators.\n",
      "[#1] INFO:NumericIntegration -- RooRealIntegral::init(ljets_HThad_5j3b_model_Int[obs_x_ljets_HThad_5j3b]) using numeric integrator RooBinIntegrator to calculate Int(obs_x_ljets_HThad_5j3b)\n",
      "[#1] INFO:Minization --  The following expressions have been identified as constant and will be precalculated and cached: (ttH_ljets_HThad_5j3b_nominal,ttbar_ljets_HThad_5j3b_Hist_alphanominal,ttbar_ljets_HThad_5j3b_Hist_alpha_0low,ttbar_ljets_HThad_5j3b_Hist_alpha_0high,singleTop_ljets_HThad_5j3b_nominal)\n",
      "[#1] INFO:Minization --  The following expressions will be evaluated in cache-and-track mode: (ttbar_ljets_HThad_5j3b_Hist_alpha)\n",
      "[#1] INFO:NumericIntegration -- RooRealIntegral::init(ljets_Mbb_ge6jge4b_model_Int[obs_x_ljets_Mbb_ge6jge4b]) using numeric integrator RooBinIntegrator to calculate Int(obs_x_ljets_Mbb_ge6jge4b)\n",
      "[#1] INFO:Minization --  The following expressions have been identified as constant and will be precalculated and cached: (ttH_ljets_Mbb_ge6jge4b_nominal,ttbar_ljets_Mbb_ge6jge4b_Hist_alphanominal,ttbar_ljets_Mbb_ge6jge4b_Hist_alpha_0low,ttbar_ljets_Mbb_ge6jge4b_Hist_alpha_0high,singleTop_ljets_Mbb_ge6jge4b_nominal)\n",
      "[#1] INFO:Minization --  The following expressions will be evaluated in cache-and-track mode: (ttbar_ljets_Mbb_ge6jge4b_Hist_alpha)\n",
      " **********\n",
      " **   10 **SET PRINT           1\n",
      " **********\n",
      " **********\n",
      " **   11 **SET NOGRAD\n",
      " **********\n",
      " PARAMETER DEFINITIONS:\n",
      "    NO.   NAME         VALUE      STEP SIZE      LIMITS\n",
      "     1 alpha_JES_Scenario1_NP1   2.03451e-01  9.67502e-01   -5.00000e+00  5.00000e+00\n",
      "     2 alpha_lumi   1.82836e-02  9.92824e-01   -5.00000e+00  5.00000e+00\n",
      "     3 alpha_stXsec   1.88750e-02  9.92881e-01   -5.00000e+00  5.00000e+00\n",
      "     4 alpha_ttXsec   1.68291e-03  9.93274e-01   -5.00000e+00  5.00000e+00\n",
      "     5 mu_tt        1.08690e+00  1.43451e-01    0.00000e+00  2.00000e+01\n",
      "     6 mu_ttH       1.03564e+00  8.99340e-01   -1.00000e+01  2.00000e+01\n",
      " **********\n",
      " **   12 **SET ERR         0.5\n",
      " **********\n",
      " **********\n",
      " **   13 **SET PRINT           1\n",
      " **********\n",
      " **********\n",
      " **   14 **SET STR           1\n",
      " **********\n",
      " NOW USING STRATEGY  1: TRY TO BALANCE SPEED AGAINST RELIABILITY\n",
      " **********\n",
      " **   15 **MIGRAD        3000           1\n",
      " **********\n",
      " FIRST CALL TO USER FUNCTION AT NEW START POINT, WITH IFLAG=4.\n",
      "[#1] INFO:NumericIntegration -- RooRealIntegral::init(alpha_lumiConstraint_Int[alpha_lumi,nom_alpha_lumi]) using numeric integrator RooIntegrator1D to calculate Int(nom_alpha_lumi)\n",
      "[#1] INFO:NumericIntegration -- RooRealIntegral::init(alpha_ttXsecConstraint_Int[alpha_ttXsec,nom_alpha_ttXsec]) using numeric integrator RooIntegrator1D to calculate Int(nom_alpha_ttXsec)\n",
      "[#1] INFO:NumericIntegration -- RooRealIntegral::init(alpha_JES_Scenario1_NP1Constraint_Int[alpha_JES_Scenario1_NP1,nom_alpha_JES_Scenario1_NP1]) using numeric integrator RooIntegrator1D to calculate Int(nom_alpha_JES_Scenario1_NP1)\n",
      "[#1] INFO:NumericIntegration -- RooRealIntegral::init(alpha_stXsecConstraint_Int[alpha_stXsec,nom_alpha_stXsec]) using numeric integrator RooIntegrator1D to calculate Int(nom_alpha_stXsec)\n",
      " START MIGRAD MINIMIZATION.  STRATEGY  1.  CONVERGENCE WHEN EDM .LT. 1.00e-03\n",
      " FCN=-949.43 FROM MIGRAD    STATUS=INITIATE       20 CALLS          21 TOTAL\n",
      "                     EDM= unknown      STRATEGY= 1      NO ERROR MATRIX       \n",
      "  EXT PARAMETER               CURRENT GUESS       STEP         FIRST   \n",
      "  NO.   NAME      VALUE            ERROR          SIZE      DERIVATIVE \n",
      "   1  alpha_JES_Scenario1_NP1   2.03451e-01   9.67502e-01   1.94898e-01  -1.65054e-02\n",
      "   2  alpha_lumi   1.82836e-02   9.92824e-01   1.99895e-01  -6.91281e-03\n",
      "   3  alpha_stXsec   1.88750e-02   9.92881e-01   1.99907e-01   8.44446e-04\n",
      "   4  alpha_ttXsec   1.68291e-03   9.93274e-01   1.99985e-01   2.59297e-03\n",
      "   5  mu_tt        1.08690e+00   1.43451e-01   3.17064e-02  -7.86745e-02\n",
      "   6  mu_ttH       1.03564e+00   8.99340e-01   6.22156e-02  -3.79156e-03\n",
      "                               ERR DEF= 0.5\n",
      " MIGRAD MINIMIZATION HAS CONVERGED.\n",
      " MIGRAD WILL VERIFY CONVERGENCE AND ERROR MATRIX.\n",
      " COVARIANCE MATRIX CALCULATED SUCCESSFULLY\n",
      " FCN=-949.43 FROM MIGRAD    STATUS=CONVERGED      74 CALLS          75 TOTAL\n",
      "                     EDM=4.42487e-06    STRATEGY= 1      ERROR MATRIX ACCURATE \n",
      "  EXT PARAMETER                                   STEP         FIRST   \n",
      "  NO.   NAME      VALUE            ERROR          SIZE      DERIVATIVE \n",
      "   1  alpha_JES_Scenario1_NP1   2.04146e-01   9.67667e-01   2.70710e-03  -2.36902e-03\n",
      "   2  alpha_lumi   1.87084e-02   9.92961e-01   3.27046e-03   2.50789e-03\n",
      "   3  alpha_stXsec   1.87873e-02   9.92884e-01   4.25241e-03   6.77107e-04\n",
      "   4  alpha_ttXsec   1.54731e-03   9.93637e-01   3.01684e-03   1.06544e-02\n",
      "   5  mu_tt        1.08694e+00   1.43437e-01   3.34182e-04   3.21661e-02\n",
      "   6  mu_ttH       1.03572e+00   8.98950e-01   1.11188e-03   1.68789e-02\n",
      "                               ERR DEF= 0.5\n",
      " EXTERNAL ERROR MATRIX.    NDIM=  25    NPAR=  6    ERR DEF=0.5\n",
      "  9.483e-01  2.640e-03  1.790e-03  1.210e-03 -7.635e-02 -8.335e-02 \n",
      "  2.640e-03  9.992e-01  7.836e-04  8.849e-04 -5.671e-02 -5.353e-02 \n",
      "  1.790e-03  7.836e-04  9.991e-01  1.855e-05 -2.442e-03 -6.974e-04 \n",
      "  1.210e-03  8.849e-04  1.855e-05  1.001e+00 -6.532e-02 -1.062e-01 \n",
      " -7.635e-02 -5.671e-02 -2.442e-03 -6.532e-02  2.058e-02 -2.226e-02 \n",
      " -8.335e-02 -5.353e-02 -6.974e-04 -1.062e-01 -2.226e-02  8.092e-01 \n",
      " PARAMETER  CORRELATION COEFFICIENTS  \n",
      "       NO.  GLOBAL      1      2      3      4      5      6\n",
      "        1  0.75771   1.000  0.003  0.002  0.001 -0.547 -0.095\n",
      "        2  0.63966   0.003  1.000  0.001  0.001 -0.395 -0.060\n",
      "        3  0.03206   0.002  0.001  1.000  0.000 -0.017 -0.001\n",
      "        4  0.70566   0.001  0.001  0.000  1.000 -0.455 -0.118\n",
      "        5  0.86818  -0.547 -0.395 -0.017 -0.455  1.000 -0.173\n",
      "        6  0.54220  -0.095 -0.060 -0.001 -0.118 -0.173  1.000\n",
      " **********\n",
      " **   16 **SET ERR         0.5\n",
      " **********\n",
      " **********\n",
      " **   17 **SET PRINT           1\n",
      " **********\n",
      " **********\n",
      " **   18 **HESSE        3000\n",
      " **********\n",
      " COVARIANCE MATRIX CALCULATED SUCCESSFULLY\n",
      " FCN=-949.43 FROM HESSE     STATUS=OK             40 CALLS         115 TOTAL\n",
      "                     EDM=4.43177e-06    STRATEGY= 1      ERROR MATRIX ACCURATE \n",
      "  EXT PARAMETER                                INTERNAL      INTERNAL  \n",
      "  NO.   NAME      VALUE            ERROR       STEP SIZE       VALUE   \n",
      "   1  alpha_JES_Scenario1_NP1   2.04146e-01   9.67694e-01   5.41420e-04   4.08405e-02\n",
      "   2  alpha_lumi   1.87084e-02   9.92920e-01   6.54093e-04   3.74169e-03\n",
      "   3  alpha_stXsec   1.87873e-02   9.92882e-01   8.50482e-04   3.75747e-03\n",
      "   4  alpha_ttXsec   1.54731e-03   9.93444e-01   6.03368e-04   3.09462e-04\n",
      "   5  mu_tt        1.08694e+00   1.43462e-01   6.68364e-05  -1.10022e+00\n",
      "   6  mu_ttH       1.03572e+00   8.99347e-01   2.22377e-04  -2.67463e-01\n",
      "                               ERR DEF= 0.5\n",
      " EXTERNAL ERROR MATRIX.    NDIM=  25    NPAR=  6    ERR DEF=0.5\n",
      "  9.484e-01  1.999e-03  1.814e-03  2.632e-04 -7.628e-02 -8.268e-02 \n",
      "  1.999e-03  9.991e-01  7.949e-04  1.915e-04 -5.665e-02 -5.257e-02 \n",
      "  1.814e-03  7.949e-04  9.991e-01  4.221e-06 -2.448e-03 -6.726e-04 \n",
      "  2.632e-04  1.915e-04  4.221e-06  1.000e+00 -6.526e-02 -1.043e-01 \n",
      " -7.628e-02 -5.665e-02 -2.448e-03 -6.526e-02  2.059e-02 -2.263e-02 \n",
      " -8.268e-02 -5.257e-02 -6.726e-04 -1.043e-01 -2.263e-02  8.099e-01 \n",
      " PARAMETER  CORRELATION COEFFICIENTS  \n",
      "       NO.  GLOBAL      1      2      3      4      5      6\n",
      "        1  0.75772   1.000  0.002  0.002  0.000 -0.546 -0.094\n",
      "        2  0.63963   0.002  1.000  0.001  0.000 -0.395 -0.058\n",
      "        3  0.03210   0.002  0.001  1.000  0.000 -0.017 -0.001\n",
      "        4  0.70552   0.000  0.000  0.000  1.000 -0.455 -0.116\n",
      "        5  0.86823  -0.546 -0.395 -0.017 -0.455  1.000 -0.175\n",
      "        6  0.54278  -0.094 -0.058 -0.001 -0.116 -0.175  1.000\n",
      "[#1] INFO:Minization -- RooMinimizer::optimizeConst: deactivating const optimization\n",
      "\n",
      "  RooFitResult: minimized FCN value: -949.43, estimated distance to minimum: 4.43177e-06\n",
      "                covariance matrix quality: Full, accurate covariance matrix\n",
      "                Status : MINIMIZE=0 HESSE=0 \n",
      "\n",
      "    Floating Parameter    FinalValue +/-  Error   \n",
      "  --------------------  --------------------------\n",
      "  alpha_JES_Scenario1_NP1    2.0415e-01 +/-  9.68e-01\n",
      "            alpha_lumi    1.8708e-02 +/-  9.93e-01\n",
      "          alpha_stXsec    1.8787e-02 +/-  9.93e-01\n",
      "          alpha_ttXsec    1.5473e-03 +/-  9.93e-01\n",
      "                 mu_tt    1.0869e+00 +/-  1.43e-01\n",
      "                mu_ttH    1.0357e+00 +/-  8.99e-01\n",
      "\n"
     ]
    }
   ],
   "source": [
    "RooFitResult *r = w->pdf(\"simPdf\")->fitTo(*dataset, RooFit::Save());\n",
    "r->Print();"
   ]
  },
  {
   "cell_type": "markdown",
   "id": "1b2f7433",
   "metadata": {},
   "source": [
    "Or, as before, we might want ti extract only some of the information"
   ]
  },
  {
   "cell_type": "code",
   "execution_count": 13,
   "id": "d2f166b9",
   "metadata": {},
   "outputs": [
    {
     "name": "stdout",
     "output_type": "stream",
     "text": [
      "  alpha_JES_Scenario1_NP1 = +0.204 +0.968 / -0.968\n",
      "               alpha_lumi = +0.019 +0.993 / -0.993\n",
      "             alpha_stXsec = +0.019 +0.993 / -0.993\n",
      "             alpha_ttXsec = +0.002 +0.993 / -0.993\n",
      "                    mu_tt = +1.087 +0.143 / -0.143\n",
      "                   mu_ttH = +1.036 +0.899 / -0.899\n"
     ]
    }
   ],
   "source": [
    "for(auto par_tmp : r->floatParsFinal()){\n",
    "    RooRealVar* par = (RooRealVar*)par_tmp;\n",
    "    \n",
    "    string par_name = par->GetName();\n",
    "    \n",
    "    double par_value = par->getVal();\n",
    "    double par_err_up = par->getErrorHi();\n",
    "    double par_err_down = par->getErrorLo();\n",
    "    \n",
    "    cout << setw(25);\n",
    "    cout << par_name << \" =\";\n",
    "    cout << Form(\" %+.3f\",par_value);\n",
    "    cout << Form(\" %+.3f\",par_err_up);\n",
    "    cout << \" /\";\n",
    "    cout << Form(\" %+.3f\",par_err_down);\n",
    "    cout << endl;\n",
    "}"
   ]
  },
  {
   "cell_type": "markdown",
   "id": "cc9432f6",
   "metadata": {},
   "source": [
    "## Excercise\n",
    "\n",
    "Let's try to produce the results of a background-only fit, and compare the output with that of the nominal S+B fit.\n",
    "Hint: to perform a B-only fit, the easiest solution is to fix the POI (to what value?)"
   ]
  }
 ],
 "metadata": {
  "kernelspec": {
   "display_name": "ROOT C++",
   "language": "c++",
   "name": "root"
  },
  "language_info": {
   "codemirror_mode": "text/x-c++src",
   "file_extension": ".C",
   "mimetype": " text/x-c++src",
   "name": "c++"
  }
 },
 "nbformat": 4,
 "nbformat_minor": 5
}
