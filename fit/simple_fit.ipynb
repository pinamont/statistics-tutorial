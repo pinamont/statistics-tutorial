{
 "cells": [
  {
   "cell_type": "markdown",
   "id": "c1aa6c7e",
   "metadata": {},
   "source": [
    "# Simple fit and fit result printout"
   ]
  },
  {
   "cell_type": "markdown",
   "id": "71886130",
   "metadata": {},
   "source": [
    "This notebook shows how to perform a simple fit on the workspace produced earlier.\n",
    "\n",
    "It also shows various ways of printing and saving the results of the fit."
   ]
  },
  {
   "cell_type": "markdown",
   "id": "ce935320",
   "metadata": {},
   "source": [
    "Open the workspace file and extract the workspace object:"
   ]
  },
  {
   "cell_type": "code",
   "execution_count": null,
   "id": "e33e2bef",
   "metadata": {},
   "outputs": [],
   "source": [
    "f = new TFile(\"../ws/ICTPws_test_combined_ICTPws_test_model.root\");\n",
    "w = dynamic_cast<RooWorkspace*>(f->Get(\"combined\"));"
   ]
  },
  {
   "cell_type": "markdown",
   "id": "091318c2",
   "metadata": {},
   "source": [
    "Extract the ModelConfig from the workspace:"
   ]
  },
  {
   "cell_type": "code",
   "execution_count": null,
   "id": "92b80910",
   "metadata": {},
   "outputs": [],
   "source": [
    "mc = dynamic_cast<RooStats::ModelConfig*>(w->obj(\"ModelConfig\"));"
   ]
  },
  {
   "cell_type": "markdown",
   "id": "6db45f27",
   "metadata": {},
   "source": [
    "Get the data we want to fit:"
   ]
  },
  {
   "cell_type": "code",
   "execution_count": null,
   "id": "1c7819b1",
   "metadata": {},
   "outputs": [],
   "source": [
    "dataset = w->data(\"obsData\");"
   ]
  },
  {
   "cell_type": "markdown",
   "id": "2cfe3f37",
   "metadata": {},
   "source": [
    "Now perform a S+B fit:\n",
    "* set the initial value of the parameter of interest (POI)\n",
    "* make sure it is not fixed, and it is free to float in the fit\n",
    "* call the \"fitTo\" method"
   ]
  },
  {
   "cell_type": "code",
   "execution_count": null,
   "id": "f6698a1e",
   "metadata": {},
   "outputs": [],
   "source": [
    "w->var(\"mu_ttH\")->setVal(0);\n",
    "w->var(\"mu_ttH\")->setConstant(kFALSE);\n",
    "w->pdf(\"simPdf\")->fitTo(*dataset);"
   ]
  },
  {
   "cell_type": "markdown",
   "id": "03c35403",
   "metadata": {},
   "source": [
    "From the output above, we can find the fitted values of all the parameters (of interest and nuisance) and their uncertainties.\n",
    "\n",
    "Now, let's try to extract and print all and only the information we want, so that we could re-use it later:\n",
    "* the fitted value of the POI, with its error\n",
    "* the fitted values of the NPs, with their errors (what we call the \"pulls\" and \"constraints\" of the NPs)"
   ]
  },
  {
   "cell_type": "markdown",
   "id": "09f59540",
   "metadata": {},
   "source": [
    "Let's extract the POI and print the fitted value and uncertainties (separately the up and down)"
   ]
  },
  {
   "cell_type": "code",
   "execution_count": null,
   "id": "a2a9e70b",
   "metadata": {},
   "outputs": [],
   "source": [
    "RooRealVar *poi = (RooRealVar*)mc->GetParametersOfInterest()->first();\n",
    "double mu_hat = poi->getVal();\n",
    "double mu_hat_err_up = poi->getErrorHi();\n",
    "double mu_hat_err_down = poi->getErrorLo();\n",
    "\n",
    "cout << setw(25);\n",
    "cout << \"POI =\";\n",
    "cout << Form(\" %+.3f\",mu_hat);\n",
    "cout << Form(\" %+.3f\",mu_hat_err_up);\n",
    "cout << \" /\";\n",
    "cout << Form(\" %+.3f\",mu_hat_err_down);\n",
    "cout << endl;"
   ]
  },
  {
   "cell_type": "markdown",
   "id": "2f19c524",
   "metadata": {},
   "source": [
    "And now for all the NPs"
   ]
  },
  {
   "cell_type": "code",
   "execution_count": null,
   "id": "8c04cee6",
   "metadata": {},
   "outputs": [],
   "source": [
    "// loop on list of nuisance parameters\n",
    "for(auto np_tmp : *mc->GetNuisanceParameters()){\n",
    "    RooRealVar* np = (RooRealVar*)np_tmp;\n",
    "    \n",
    "    string np_name = np->GetName();\n",
    "    \n",
    "    double np_value = np->getVal();\n",
    "    double np_err_up = np->getErrorHi();\n",
    "    double np_err_down = np->getErrorLo();\n",
    "    \n",
    "    cout << setw(25);\n",
    "    cout << np_name << \" =\";\n",
    "    cout << Form(\" %+.3f\",np_value);\n",
    "    cout << Form(\" %+.3f\",np_err_up);\n",
    "    cout << \" /\";\n",
    "    cout << Form(\" %+.3f\",np_err_down);\n",
    "    cout << endl;\n",
    "}"
   ]
  },
  {
   "cell_type": "markdown",
   "id": "1c18e6d7",
   "metadata": {},
   "source": [
    "An alternative way (and more elegant) to store the fit results (with more information, to use later) is to use the `FitResult`"
   ]
  },
  {
   "cell_type": "code",
   "execution_count": null,
   "id": "5850e6a8",
   "metadata": {},
   "outputs": [],
   "source": [
    "RooFitResult *r = w->pdf(\"simPdf\")->fitTo(*dataset, RooFit::Save());\n",
    "r->Print();"
   ]
  },
  {
   "cell_type": "markdown",
   "id": "1b2f7433",
   "metadata": {},
   "source": [
    "Or, as before, we might want to extract only some of the information:"
   ]
  },
  {
   "cell_type": "code",
   "execution_count": null,
   "id": "d2f166b9",
   "metadata": {},
   "outputs": [],
   "source": [
    "for(auto par_tmp : r->floatParsFinal()){\n",
    "    RooRealVar* par = (RooRealVar*)par_tmp;\n",
    "    \n",
    "    string par_name = par->GetName();\n",
    "    \n",
    "    double par_value = par->getVal();\n",
    "    double par_err_up = par->getErrorHi();\n",
    "    double par_err_down = par->getErrorLo();\n",
    "    \n",
    "    cout << setw(25);\n",
    "    cout << par_name << \" =\";\n",
    "    cout << Form(\" %+.3f\",par_value);\n",
    "    cout << Form(\" %+.3f\",par_err_up);\n",
    "    cout << \" /\";\n",
    "    cout << Form(\" %+.3f\",par_err_down);\n",
    "    cout << endl;\n",
    "}"
   ]
  },
  {
   "cell_type": "markdown",
   "id": "cc9432f6",
   "metadata": {},
   "source": [
    "## Excercise\n",
    "\n",
    "Let's try to produce the results of a background-only fit, and compare the output with that of the nominal S+B fit.\n",
    "Hint: to perform a B-only fit, the easiest solution is to fix the POI (to what value?)"
   ]
  }
 ],
 "metadata": {
  "kernelspec": {
   "display_name": "ROOT C++",
   "language": "c++",
   "name": "root"
  },
  "language_info": {
   "codemirror_mode": "text/x-c++src",
   "file_extension": ".C",
   "mimetype": " text/x-c++src",
   "name": "c++"
  }
 },
 "nbformat": 4,
 "nbformat_minor": 5
}
