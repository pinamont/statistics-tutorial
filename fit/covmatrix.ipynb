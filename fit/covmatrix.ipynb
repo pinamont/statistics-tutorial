{
 "cells": [
  {
   "cell_type": "markdown",
   "id": "69a3e0c1",
   "metadata": {},
   "source": [
    "# Covariance matrix inspection\n",
    "\n",
    "_Valerio Ippolito - INFN Sezione di Roma_\n",
    "\n",
    "It's often important to understand correlations among nuisance parameters. Let's see how to plot a covariance matrix (actually, how to save such plot) with CommonStatTools."
   ]
  },
  {
   "cell_type": "markdown",
   "id": "6f563e19",
   "metadata": {},
   "source": [
    "Preliminary step: compile CommonStatTools"
   ]
  },
  {
   "cell_type": "code",
   "execution_count": null,
   "id": "9d2bd153",
   "metadata": {},
   "outputs": [],
   "source": [
    "!cd ../CommonStatTools; mkdir -p build; cd build; cmake ..; make"
   ]
  },
  {
   "cell_type": "markdown",
   "id": "1319a94c",
   "metadata": {},
   "source": [
    "We then determine the input to the getCorrMatrix function:\n",
    "- the input ROOT file, which contains the workspace\n",
    "- the name of the workspace\n",
    "- the name of the ModelConfig object, which determines how the content of the workspace should be used (i.e. what's the PDF, what are the observables, the nuisance parameters and the POI)\n",
    "- the name of the dataset to be used (e.g. real or Asimov data)\n",
    "- a nickname to be attached to the output (it can be for example the mass of the resonance in a given signal hypothesis this workspace refers to)\n",
    "- the folder where the output should be saved\n",
    "- the format of the output image"
   ]
  },
  {
   "cell_type": "code",
   "execution_count": null,
   "id": "ee961998",
   "metadata": {},
   "outputs": [],
   "source": [
    "inputFile = TString(\"../ws/ATLASIT_prova_combined_ATLASIT_prova_model.root\");\n",
    "workspaceName = TString(\"combined\");\n",
    "modelConfigName = TString(\"ModelConfig\");\n",
    "dataName = TString(\"obsData\");\n",
    "workspaceTag = TString(\"my_test\");\n",
    "outputFolder = TString(\"tmp\");\n",
    "outputFormat = TString(\".png\");\n",
    "doReduced = 1; // keep it like this\n",
    "debugLevel = 2; // debug verbosity"
   ]
  },
  {
   "cell_type": "markdown",
   "id": "751161f8",
   "metadata": {},
   "source": [
    "Let's run! We use the command line tool `getCorrMatrix`:"
   ]
  },
  {
   "cell_type": "code",
   "execution_count": null,
   "id": "bbc17415",
   "metadata": {},
   "outputs": [],
   "source": [
    "gSystem->Exec(TString(\"../CommonStatTools/build/getCorrMatrix \")\n",
    "                   + inputFile  + \" \"\n",
    "                   + workspaceName + \" \"\n",
    "                   + modelConfigName + \" \"\n",
    "                   + dataName   + \" \"\n",
    "                   + workspaceTag   + \" \"\n",
    "                   + outputFolder   + \" \"\n",
    "                   + outputFormat   + \" \"\n",
    "                   + doReduced   + \" \" \n",
    "                   + debugLevel);"
   ]
  },
  {
   "cell_type": "markdown",
   "id": "5e743ded",
   "metadata": {},
   "source": [
    "Let's see the output"
   ]
  },
  {
   "cell_type": "code",
   "execution_count": null,
   "id": "68b29de6",
   "metadata": {},
   "outputs": [],
   "source": [
    "!ls tmp/corrmatrix"
   ]
  },
  {
   "cell_type": "markdown",
   "id": "f459fb59",
   "metadata": {},
   "source": [
    "To visualize it here in a notebook, we use the trick\n",
    "```![The image will show up here](tmp/corrmatrix/my_test_corrmatrix_ljets_HThad_5j3b.png \"Title\")```"
   ]
  },
  {
   "cell_type": "markdown",
   "id": "b50fccc5",
   "metadata": {},
   "source": [
    "![The image will show up here](tmp/corrmatrix/my_test_corrmatrix_ljets_HThad_5j3b.png \"Title\")"
   ]
  },
  {
   "cell_type": "code",
   "execution_count": null,
   "id": "44e08a3e",
   "metadata": {},
   "outputs": [],
   "source": []
  }
 ],
 "metadata": {
  "kernelspec": {
   "display_name": "ROOT C++",
   "language": "c++",
   "name": "root"
  },
  "language_info": {
   "codemirror_mode": "text/x-c++src",
   "file_extension": ".C",
   "mimetype": " text/x-c++src",
   "name": "c++"
  }
 },
 "nbformat": 4,
 "nbformat_minor": 5
}
